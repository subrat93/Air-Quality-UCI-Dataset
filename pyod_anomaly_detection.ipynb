{
 "cells": [
  {
   "cell_type": "code",
   "execution_count": 171,
   "metadata": {},
   "outputs": [],
   "source": [
    "import numpy as np\n",
    "import pandas as pd\n",
    "import matplotlib\n",
    "import matplotlib.pyplot as plt\n",
    "import seaborn as sns\n",
    "%matplotlib inline\n",
    "from datetime import datetime, date\n",
    "from scipy import stats\n",
    "import warnings\n",
    "warnings.filterwarnings(\"ignore\")"
   ]
  },
  {
   "cell_type": "markdown",
   "metadata": {},
   "source": [
    "# Read the Data"
   ]
  },
  {
   "cell_type": "code",
   "execution_count": 172,
   "metadata": {},
   "outputs": [
    {
     "data": {
      "text/plain": [
       "(9471, 16)"
      ]
     },
     "execution_count": 172,
     "metadata": {},
     "output_type": "execute_result"
    }
   ],
   "source": [
    "df = pd.read_csv('AirQualityUCI.csv', sep=';', decimal=',', parse_dates=[['Date', 'Time']])\n",
    "df.shape"
   ]
  },
  {
   "cell_type": "code",
   "execution_count": 246,
   "metadata": {},
   "outputs": [],
   "source": [
    "df.to_csv('AirQualityUCI_sep.csv', index=False)"
   ]
  },
  {
   "cell_type": "code",
   "execution_count": 173,
   "metadata": {},
   "outputs": [
    {
     "data": {
      "text/html": [
       "<div>\n",
       "<style scoped>\n",
       "    .dataframe tbody tr th:only-of-type {\n",
       "        vertical-align: middle;\n",
       "    }\n",
       "\n",
       "    .dataframe tbody tr th {\n",
       "        vertical-align: top;\n",
       "    }\n",
       "\n",
       "    .dataframe thead th {\n",
       "        text-align: right;\n",
       "    }\n",
       "</style>\n",
       "<table border=\"1\" class=\"dataframe\">\n",
       "  <thead>\n",
       "    <tr style=\"text-align: right;\">\n",
       "      <th></th>\n",
       "      <th>Date_Time</th>\n",
       "      <th>CO(GT)</th>\n",
       "      <th>PT08.S1(CO)</th>\n",
       "      <th>NMHC(GT)</th>\n",
       "      <th>C6H6(GT)</th>\n",
       "      <th>PT08.S2(NMHC)</th>\n",
       "      <th>NOx(GT)</th>\n",
       "      <th>PT08.S3(NOx)</th>\n",
       "      <th>NO2(GT)</th>\n",
       "      <th>PT08.S4(NO2)</th>\n",
       "      <th>PT08.S5(O3)</th>\n",
       "      <th>T</th>\n",
       "      <th>RH</th>\n",
       "      <th>AH</th>\n",
       "      <th>Unnamed: 15</th>\n",
       "      <th>Unnamed: 16</th>\n",
       "    </tr>\n",
       "  </thead>\n",
       "  <tbody>\n",
       "    <tr>\n",
       "      <th>0</th>\n",
       "      <td>10/03/2004 18.00.00</td>\n",
       "      <td>2.6</td>\n",
       "      <td>1360.0</td>\n",
       "      <td>150.0</td>\n",
       "      <td>11.9</td>\n",
       "      <td>1046.0</td>\n",
       "      <td>166.0</td>\n",
       "      <td>1056.0</td>\n",
       "      <td>113.0</td>\n",
       "      <td>1692.0</td>\n",
       "      <td>1268.0</td>\n",
       "      <td>13.6</td>\n",
       "      <td>48.9</td>\n",
       "      <td>0.7578</td>\n",
       "      <td>NaN</td>\n",
       "      <td>NaN</td>\n",
       "    </tr>\n",
       "    <tr>\n",
       "      <th>1</th>\n",
       "      <td>10/03/2004 19.00.00</td>\n",
       "      <td>2.0</td>\n",
       "      <td>1292.0</td>\n",
       "      <td>112.0</td>\n",
       "      <td>9.4</td>\n",
       "      <td>955.0</td>\n",
       "      <td>103.0</td>\n",
       "      <td>1174.0</td>\n",
       "      <td>92.0</td>\n",
       "      <td>1559.0</td>\n",
       "      <td>972.0</td>\n",
       "      <td>13.3</td>\n",
       "      <td>47.7</td>\n",
       "      <td>0.7255</td>\n",
       "      <td>NaN</td>\n",
       "      <td>NaN</td>\n",
       "    </tr>\n",
       "    <tr>\n",
       "      <th>2</th>\n",
       "      <td>10/03/2004 20.00.00</td>\n",
       "      <td>2.2</td>\n",
       "      <td>1402.0</td>\n",
       "      <td>88.0</td>\n",
       "      <td>9.0</td>\n",
       "      <td>939.0</td>\n",
       "      <td>131.0</td>\n",
       "      <td>1140.0</td>\n",
       "      <td>114.0</td>\n",
       "      <td>1555.0</td>\n",
       "      <td>1074.0</td>\n",
       "      <td>11.9</td>\n",
       "      <td>54.0</td>\n",
       "      <td>0.7502</td>\n",
       "      <td>NaN</td>\n",
       "      <td>NaN</td>\n",
       "    </tr>\n",
       "    <tr>\n",
       "      <th>3</th>\n",
       "      <td>10/03/2004 21.00.00</td>\n",
       "      <td>2.2</td>\n",
       "      <td>1376.0</td>\n",
       "      <td>80.0</td>\n",
       "      <td>9.2</td>\n",
       "      <td>948.0</td>\n",
       "      <td>172.0</td>\n",
       "      <td>1092.0</td>\n",
       "      <td>122.0</td>\n",
       "      <td>1584.0</td>\n",
       "      <td>1203.0</td>\n",
       "      <td>11.0</td>\n",
       "      <td>60.0</td>\n",
       "      <td>0.7867</td>\n",
       "      <td>NaN</td>\n",
       "      <td>NaN</td>\n",
       "    </tr>\n",
       "    <tr>\n",
       "      <th>4</th>\n",
       "      <td>10/03/2004 22.00.00</td>\n",
       "      <td>1.6</td>\n",
       "      <td>1272.0</td>\n",
       "      <td>51.0</td>\n",
       "      <td>6.5</td>\n",
       "      <td>836.0</td>\n",
       "      <td>131.0</td>\n",
       "      <td>1205.0</td>\n",
       "      <td>116.0</td>\n",
       "      <td>1490.0</td>\n",
       "      <td>1110.0</td>\n",
       "      <td>11.2</td>\n",
       "      <td>59.6</td>\n",
       "      <td>0.7888</td>\n",
       "      <td>NaN</td>\n",
       "      <td>NaN</td>\n",
       "    </tr>\n",
       "  </tbody>\n",
       "</table>\n",
       "</div>"
      ],
      "text/plain": [
       "             Date_Time  CO(GT)  PT08.S1(CO)  NMHC(GT)  C6H6(GT)  \\\n",
       "0  10/03/2004 18.00.00     2.6       1360.0     150.0      11.9   \n",
       "1  10/03/2004 19.00.00     2.0       1292.0     112.0       9.4   \n",
       "2  10/03/2004 20.00.00     2.2       1402.0      88.0       9.0   \n",
       "3  10/03/2004 21.00.00     2.2       1376.0      80.0       9.2   \n",
       "4  10/03/2004 22.00.00     1.6       1272.0      51.0       6.5   \n",
       "\n",
       "   PT08.S2(NMHC)  NOx(GT)  PT08.S3(NOx)  NO2(GT)  PT08.S4(NO2)  PT08.S5(O3)  \\\n",
       "0         1046.0    166.0        1056.0    113.0        1692.0       1268.0   \n",
       "1          955.0    103.0        1174.0     92.0        1559.0        972.0   \n",
       "2          939.0    131.0        1140.0    114.0        1555.0       1074.0   \n",
       "3          948.0    172.0        1092.0    122.0        1584.0       1203.0   \n",
       "4          836.0    131.0        1205.0    116.0        1490.0       1110.0   \n",
       "\n",
       "      T    RH      AH  Unnamed: 15  Unnamed: 16  \n",
       "0  13.6  48.9  0.7578          NaN          NaN  \n",
       "1  13.3  47.7  0.7255          NaN          NaN  \n",
       "2  11.9  54.0  0.7502          NaN          NaN  \n",
       "3  11.0  60.0  0.7867          NaN          NaN  \n",
       "4  11.2  59.6  0.7888          NaN          NaN  "
      ]
     },
     "execution_count": 173,
     "metadata": {},
     "output_type": "execute_result"
    }
   ],
   "source": [
    "df.head()"
   ]
  },
  {
   "cell_type": "markdown",
   "metadata": {},
   "source": [
    "# Preprocess the Data"
   ]
  },
  {
   "cell_type": "code",
   "execution_count": 174,
   "metadata": {},
   "outputs": [],
   "source": [
    "df_act = df.copy(deep=True)"
   ]
  },
  {
   "cell_type": "code",
   "execution_count": 175,
   "metadata": {},
   "outputs": [
    {
     "data": {
      "text/html": [
       "<div>\n",
       "<style scoped>\n",
       "    .dataframe tbody tr th:only-of-type {\n",
       "        vertical-align: middle;\n",
       "    }\n",
       "\n",
       "    .dataframe tbody tr th {\n",
       "        vertical-align: top;\n",
       "    }\n",
       "\n",
       "    .dataframe thead th {\n",
       "        text-align: right;\n",
       "    }\n",
       "</style>\n",
       "<table border=\"1\" class=\"dataframe\">\n",
       "  <thead>\n",
       "    <tr style=\"text-align: right;\">\n",
       "      <th></th>\n",
       "      <th>Date_Time</th>\n",
       "      <th>CO(GT)</th>\n",
       "      <th>PT08.S1(CO)</th>\n",
       "      <th>NMHC(GT)</th>\n",
       "      <th>C6H6(GT)</th>\n",
       "      <th>PT08.S2(NMHC)</th>\n",
       "      <th>NOx(GT)</th>\n",
       "      <th>PT08.S3(NOx)</th>\n",
       "      <th>NO2(GT)</th>\n",
       "      <th>PT08.S4(NO2)</th>\n",
       "      <th>PT08.S5(O3)</th>\n",
       "      <th>T</th>\n",
       "      <th>RH</th>\n",
       "      <th>AH</th>\n",
       "      <th>Unnamed: 15</th>\n",
       "      <th>Unnamed: 16</th>\n",
       "    </tr>\n",
       "  </thead>\n",
       "  <tbody>\n",
       "    <tr>\n",
       "      <th>0</th>\n",
       "      <td>10/03/2004 18.00.00</td>\n",
       "      <td>2.6</td>\n",
       "      <td>1360.0</td>\n",
       "      <td>150.0</td>\n",
       "      <td>11.9</td>\n",
       "      <td>1046.0</td>\n",
       "      <td>166.0</td>\n",
       "      <td>1056.0</td>\n",
       "      <td>113.0</td>\n",
       "      <td>1692.0</td>\n",
       "      <td>1268.0</td>\n",
       "      <td>13.6</td>\n",
       "      <td>48.9</td>\n",
       "      <td>0.7578</td>\n",
       "      <td>NaN</td>\n",
       "      <td>NaN</td>\n",
       "    </tr>\n",
       "    <tr>\n",
       "      <th>1</th>\n",
       "      <td>10/03/2004 19.00.00</td>\n",
       "      <td>2.0</td>\n",
       "      <td>1292.0</td>\n",
       "      <td>112.0</td>\n",
       "      <td>9.4</td>\n",
       "      <td>955.0</td>\n",
       "      <td>103.0</td>\n",
       "      <td>1174.0</td>\n",
       "      <td>92.0</td>\n",
       "      <td>1559.0</td>\n",
       "      <td>972.0</td>\n",
       "      <td>13.3</td>\n",
       "      <td>47.7</td>\n",
       "      <td>0.7255</td>\n",
       "      <td>NaN</td>\n",
       "      <td>NaN</td>\n",
       "    </tr>\n",
       "    <tr>\n",
       "      <th>2</th>\n",
       "      <td>10/03/2004 20.00.00</td>\n",
       "      <td>2.2</td>\n",
       "      <td>1402.0</td>\n",
       "      <td>88.0</td>\n",
       "      <td>9.0</td>\n",
       "      <td>939.0</td>\n",
       "      <td>131.0</td>\n",
       "      <td>1140.0</td>\n",
       "      <td>114.0</td>\n",
       "      <td>1555.0</td>\n",
       "      <td>1074.0</td>\n",
       "      <td>11.9</td>\n",
       "      <td>54.0</td>\n",
       "      <td>0.7502</td>\n",
       "      <td>NaN</td>\n",
       "      <td>NaN</td>\n",
       "    </tr>\n",
       "    <tr>\n",
       "      <th>3</th>\n",
       "      <td>10/03/2004 21.00.00</td>\n",
       "      <td>2.2</td>\n",
       "      <td>1376.0</td>\n",
       "      <td>80.0</td>\n",
       "      <td>9.2</td>\n",
       "      <td>948.0</td>\n",
       "      <td>172.0</td>\n",
       "      <td>1092.0</td>\n",
       "      <td>122.0</td>\n",
       "      <td>1584.0</td>\n",
       "      <td>1203.0</td>\n",
       "      <td>11.0</td>\n",
       "      <td>60.0</td>\n",
       "      <td>0.7867</td>\n",
       "      <td>NaN</td>\n",
       "      <td>NaN</td>\n",
       "    </tr>\n",
       "    <tr>\n",
       "      <th>4</th>\n",
       "      <td>10/03/2004 22.00.00</td>\n",
       "      <td>1.6</td>\n",
       "      <td>1272.0</td>\n",
       "      <td>51.0</td>\n",
       "      <td>6.5</td>\n",
       "      <td>836.0</td>\n",
       "      <td>131.0</td>\n",
       "      <td>1205.0</td>\n",
       "      <td>116.0</td>\n",
       "      <td>1490.0</td>\n",
       "      <td>1110.0</td>\n",
       "      <td>11.2</td>\n",
       "      <td>59.6</td>\n",
       "      <td>0.7888</td>\n",
       "      <td>NaN</td>\n",
       "      <td>NaN</td>\n",
       "    </tr>\n",
       "  </tbody>\n",
       "</table>\n",
       "</div>"
      ],
      "text/plain": [
       "             Date_Time  CO(GT)  PT08.S1(CO)  NMHC(GT)  C6H6(GT)  \\\n",
       "0  10/03/2004 18.00.00     2.6       1360.0     150.0      11.9   \n",
       "1  10/03/2004 19.00.00     2.0       1292.0     112.0       9.4   \n",
       "2  10/03/2004 20.00.00     2.2       1402.0      88.0       9.0   \n",
       "3  10/03/2004 21.00.00     2.2       1376.0      80.0       9.2   \n",
       "4  10/03/2004 22.00.00     1.6       1272.0      51.0       6.5   \n",
       "\n",
       "   PT08.S2(NMHC)  NOx(GT)  PT08.S3(NOx)  NO2(GT)  PT08.S4(NO2)  PT08.S5(O3)  \\\n",
       "0         1046.0    166.0        1056.0    113.0        1692.0       1268.0   \n",
       "1          955.0    103.0        1174.0     92.0        1559.0        972.0   \n",
       "2          939.0    131.0        1140.0    114.0        1555.0       1074.0   \n",
       "3          948.0    172.0        1092.0    122.0        1584.0       1203.0   \n",
       "4          836.0    131.0        1205.0    116.0        1490.0       1110.0   \n",
       "\n",
       "      T    RH      AH  Unnamed: 15  Unnamed: 16  \n",
       "0  13.6  48.9  0.7578          NaN          NaN  \n",
       "1  13.3  47.7  0.7255          NaN          NaN  \n",
       "2  11.9  54.0  0.7502          NaN          NaN  \n",
       "3  11.0  60.0  0.7867          NaN          NaN  \n",
       "4  11.2  59.6  0.7888          NaN          NaN  "
      ]
     },
     "execution_count": 175,
     "metadata": {},
     "output_type": "execute_result"
    }
   ],
   "source": [
    "df_act.head()"
   ]
  },
  {
   "cell_type": "code",
   "execution_count": 176,
   "metadata": {},
   "outputs": [
    {
     "data": {
      "text/plain": [
       "Date_Time           0\n",
       "CO(GT)            114\n",
       "PT08.S1(CO)       114\n",
       "NMHC(GT)          114\n",
       "C6H6(GT)          114\n",
       "PT08.S2(NMHC)     114\n",
       "NOx(GT)           114\n",
       "PT08.S3(NOx)      114\n",
       "NO2(GT)           114\n",
       "PT08.S4(NO2)      114\n",
       "PT08.S5(O3)       114\n",
       "T                 114\n",
       "RH                114\n",
       "AH                114\n",
       "Unnamed: 15      9471\n",
       "Unnamed: 16      9471\n",
       "dtype: int64"
      ]
     },
     "execution_count": 176,
     "metadata": {},
     "output_type": "execute_result"
    }
   ],
   "source": [
    "df_act.isnull().sum()"
   ]
  },
  {
   "cell_type": "code",
   "execution_count": 177,
   "metadata": {},
   "outputs": [],
   "source": [
    "df_act.fillna(df_act.mean(), inplace=True)"
   ]
  },
  {
   "cell_type": "code",
   "execution_count": 178,
   "metadata": {},
   "outputs": [
    {
     "data": {
      "text/plain": [
       "Date_Time           0\n",
       "CO(GT)              0\n",
       "PT08.S1(CO)         0\n",
       "NMHC(GT)            0\n",
       "C6H6(GT)            0\n",
       "PT08.S2(NMHC)       0\n",
       "NOx(GT)             0\n",
       "PT08.S3(NOx)        0\n",
       "NO2(GT)             0\n",
       "PT08.S4(NO2)        0\n",
       "PT08.S5(O3)         0\n",
       "T                   0\n",
       "RH                  0\n",
       "AH                  0\n",
       "Unnamed: 15      9471\n",
       "Unnamed: 16      9471\n",
       "dtype: int64"
      ]
     },
     "execution_count": 178,
     "metadata": {},
     "output_type": "execute_result"
    }
   ],
   "source": [
    "df_act.isnull().sum()"
   ]
  },
  {
   "cell_type": "code",
   "execution_count": 179,
   "metadata": {},
   "outputs": [
    {
     "data": {
      "text/plain": [
       "Date_Time        0\n",
       "CO(GT)           0\n",
       "PT08.S1(CO)      0\n",
       "NMHC(GT)         0\n",
       "C6H6(GT)         0\n",
       "PT08.S2(NMHC)    0\n",
       "NOx(GT)          0\n",
       "PT08.S3(NOx)     0\n",
       "NO2(GT)          0\n",
       "PT08.S4(NO2)     0\n",
       "PT08.S5(O3)      0\n",
       "T                0\n",
       "RH               0\n",
       "AH               0\n",
       "dtype: int64"
      ]
     },
     "execution_count": 179,
     "metadata": {},
     "output_type": "execute_result"
    }
   ],
   "source": [
    "df_act = df_act.dropna(axis=1)\n",
    "df_act.isnull().sum()"
   ]
  },
  {
   "cell_type": "code",
   "execution_count": 180,
   "metadata": {},
   "outputs": [
    {
     "data": {
      "text/plain": [
       "Index(['CO(GT)', 'PT08.S1(CO)', 'NMHC(GT)', 'C6H6(GT)', 'PT08.S2(NMHC)',\n",
       "       'NOx(GT)', 'PT08.S3(NOx)', 'NO2(GT)', 'PT08.S4(NO2)', 'PT08.S5(O3)',\n",
       "       'T', 'RH', 'AH'],\n",
       "      dtype='object')"
      ]
     },
     "execution_count": 180,
     "metadata": {},
     "output_type": "execute_result"
    }
   ],
   "source": [
    "cols = df_act.columns\n",
    "cols[1:]"
   ]
  },
  {
   "cell_type": "code",
   "execution_count": 181,
   "metadata": {},
   "outputs": [],
   "source": [
    "df_act = df_act[cols[1:]].apply(pd.to_numeric)"
   ]
  },
  {
   "cell_type": "code",
   "execution_count": 182,
   "metadata": {},
   "outputs": [
    {
     "data": {
      "text/plain": [
       "CO(GT)           1797\n",
       "PT08.S1(CO)       366\n",
       "NMHC(GT)         8557\n",
       "C6H6(GT)          366\n",
       "PT08.S2(NMHC)     366\n",
       "NOx(GT)          1639\n",
       "PT08.S3(NOx)      366\n",
       "NO2(GT)          1642\n",
       "PT08.S4(NO2)      366\n",
       "PT08.S5(O3)       366\n",
       "T                 379\n",
       "RH                366\n",
       "AH                480\n",
       "dtype: int64"
      ]
     },
     "execution_count": 182,
     "metadata": {},
     "output_type": "execute_result"
    }
   ],
   "source": [
    "df_act.lt(0).sum()"
   ]
  },
  {
   "cell_type": "code",
   "execution_count": 183,
   "metadata": {},
   "outputs": [
    {
     "data": {
      "text/plain": [
       "Index(['CO(GT)', 'PT08.S1(CO)', 'C6H6(GT)', 'PT08.S2(NMHC)', 'NOx(GT)',\n",
       "       'PT08.S3(NOx)', 'NO2(GT)', 'PT08.S4(NO2)', 'PT08.S5(O3)', 'T', 'RH',\n",
       "       'AH'],\n",
       "      dtype='object')"
      ]
     },
     "execution_count": 183,
     "metadata": {},
     "output_type": "execute_result"
    }
   ],
   "source": [
    "df_act = df_act.drop(labels='NMHC(GT)', axis = 1)\n",
    "cols = df_act.columns\n",
    "cols"
   ]
  },
  {
   "cell_type": "code",
   "execution_count": 184,
   "metadata": {},
   "outputs": [
    {
     "data": {
      "text/plain": [
       "'CO(GT)'"
      ]
     },
     "execution_count": 184,
     "metadata": {},
     "output_type": "execute_result"
    }
   ],
   "source": [
    "cols[0]"
   ]
  },
  {
   "cell_type": "code",
   "execution_count": 185,
   "metadata": {},
   "outputs": [
    {
     "data": {
      "text/plain": [
       "(8991, 12)"
      ]
     },
     "execution_count": 185,
     "metadata": {},
     "output_type": "execute_result"
    }
   ],
   "source": [
    "df_temp0 = df_act[df_act[cols[0]] > 0]\n",
    "df_temp1 = df_act[df_act[cols[1]] > 0]\n",
    "df_temp2 = df_act[df_act[cols[2]] > 0]\n",
    "df_temp3 = df_act[df_act[cols[3]] > 0]\n",
    "df_temp4 = df_act[df_act[cols[4]] > 0]\n",
    "df_temp5 = df_act[df_act[cols[5]] > 0]\n",
    "df_temp6 = df_act[df_act[cols[6]] > 0]\n",
    "df_temp7 = df_act[df_act[cols[7]] > 0]\n",
    "df_temp8 = df_act[df_act[cols[8]] > 0]\n",
    "df_temp9 = df_act[df_act[cols[9]] > 0]\n",
    "df_temp10 = df_act[df_act[cols[10]] > 0]\n",
    "df_temp11 = df_act[df_act[cols[11]] > 0]\n",
    "df_temp11.shape"
   ]
  },
  {
   "cell_type": "code",
   "execution_count": 186,
   "metadata": {},
   "outputs": [],
   "source": [
    "df_act.loc[df_act[cols[0]] < 0] = df_temp0.mean()[cols[0]]\n",
    "df_act.loc[df_act[cols[1]] < 0] = df_temp1.mean()[cols[1]]\n",
    "df_act.loc[df_act[cols[2]] < 0] = df_temp2.mean()[cols[2]]\n",
    "df_act.loc[df_act[cols[3]] < 0] = df_temp3.mean()[cols[3]]\n",
    "df_act.loc[df_act[cols[4]] < 0] = df_temp4.mean()[cols[4]]\n",
    "df_act.loc[df_act[cols[5]] < 0] = df_temp5.mean()[cols[5]]\n",
    "df_act.loc[df_act[cols[6]] < 0] = df_temp6.mean()[cols[6]]\n",
    "df_act.loc[df_act[cols[7]] < 0] = df_temp7.mean()[cols[7]]\n",
    "df_act.loc[df_act[cols[8]] < 0] = df_temp8.mean()[cols[8]]\n",
    "df_act.loc[df_act[cols[9]] <= 0] = df_temp9.mean()[cols[9]]\n",
    "df_act.loc[df_act[cols[10]] < 0] = df_temp10.mean()[cols[10]]\n",
    "df_act.loc[df_act[cols[11]] < 0] = df_temp11.mean()[cols[11]]"
   ]
  },
  {
   "cell_type": "code",
   "execution_count": 187,
   "metadata": {},
   "outputs": [
    {
     "data": {
      "text/plain": [
       "CO(GT)           0\n",
       "PT08.S1(CO)      0\n",
       "C6H6(GT)         0\n",
       "PT08.S2(NMHC)    0\n",
       "NOx(GT)          0\n",
       "PT08.S3(NOx)     0\n",
       "NO2(GT)          0\n",
       "PT08.S4(NO2)     0\n",
       "PT08.S5(O3)      0\n",
       "T                0\n",
       "RH               0\n",
       "AH               0\n",
       "dtype: int64"
      ]
     },
     "execution_count": 187,
     "metadata": {},
     "output_type": "execute_result"
    }
   ],
   "source": [
    "df_act.lt(0).sum()"
   ]
  },
  {
   "cell_type": "code",
   "execution_count": 188,
   "metadata": {},
   "outputs": [
    {
     "data": {
      "text/plain": [
       "(9471, 12)"
      ]
     },
     "execution_count": 188,
     "metadata": {},
     "output_type": "execute_result"
    }
   ],
   "source": [
    "# del df_act['NOx(GT)']\n",
    "# del df_act['NO2(GT)']\n",
    "df_act.shape"
   ]
  },
  {
   "cell_type": "markdown",
   "metadata": {},
   "source": [
    "# Univariate Analysis"
   ]
  },
  {
   "cell_type": "code",
   "execution_count": 189,
   "metadata": {},
   "outputs": [
    {
     "data": {
      "text/plain": [
       "Text(0.5, 1.0, '')"
      ]
     },
     "execution_count": 189,
     "metadata": {},
     "output_type": "execute_result"
    },
    {
     "data": {
      "image/png": "[encoded data removed]",
      "text/plain": [
       "<Figure size 432x288 with 1 Axes>"
      ]
     },
     "metadata": {
      "needs_background": "light"
     },
     "output_type": "display_data"
    }
   ],
   "source": [
    "df_act.boxplot(column = 'CO(GT)');\n",
    "plt.title('')"
   ]
  },
  {
   "cell_type": "code",
   "execution_count": 190,
   "metadata": {},
   "outputs": [
    {
     "data": {
      "image/png": "[encoded data removed]",
      "text/plain": [
       "<Figure size 432x288 with 1 Axes>"
      ]
     },
     "metadata": {
      "needs_background": "light"
     },
     "output_type": "display_data"
    }
   ],
   "source": [
    "df_act.boxplot(column = cols[1]);"
   ]
  },
  {
   "cell_type": "code",
   "execution_count": 191,
   "metadata": {},
   "outputs": [
    {
     "data": {
      "image/png": "[encoded data removed]",
      "text/plain": [
       "<Figure size 432x288 with 1 Axes>"
      ]
     },
     "metadata": {
      "needs_background": "light"
     },
     "output_type": "display_data"
    }
   ],
   "source": [
    "df_act.boxplot(column = cols[2]);"
   ]
  },
  {
   "cell_type": "code",
   "execution_count": 192,
   "metadata": {},
   "outputs": [
    {
     "data": {
      "image/png": "[encoded data removed]",
      "text/plain": [
       "<Figure size 432x288 with 1 Axes>"
      ]
     },
     "metadata": {
      "needs_background": "light"
     },
     "output_type": "display_data"
    }
   ],
   "source": [
    "df_act.boxplot(column = cols[3]);"
   ]
  },
  {
   "cell_type": "code",
   "execution_count": 193,
   "metadata": {},
   "outputs": [
    {
     "data": {
      "image/png": "[encoded data removed]",
      "text/plain": [
       "<Figure size 432x288 with 1 Axes>"
      ]
     },
     "metadata": {
      "needs_background": "light"
     },
     "output_type": "display_data"
    }
   ],
   "source": [
    "df_act.boxplot(column = cols[4]);"
   ]
  },
  {
   "cell_type": "code",
   "execution_count": 194,
   "metadata": {},
   "outputs": [
    {
     "data": {
      "image/png": "[encoded data removed]",
      "text/plain": [
       "<Figure size 432x288 with 1 Axes>"
      ]
     },
     "metadata": {
      "needs_background": "light"
     },
     "output_type": "display_data"
    }
   ],
   "source": [
    "df_act.boxplot(column = cols[5]);"
   ]
  },
  {
   "cell_type": "code",
   "execution_count": 195,
   "metadata": {},
   "outputs": [
    {
     "data": {
      "image/png": "[encoded data removed]",
      "text/plain": [
       "<Figure size 432x288 with 1 Axes>"
      ]
     },
     "metadata": {
      "needs_background": "light"
     },
     "output_type": "display_data"
    }
   ],
   "source": [
    "df_act.boxplot(column = cols[6]);"
   ]
  },
  {
   "cell_type": "code",
   "execution_count": 196,
   "metadata": {},
   "outputs": [
    {
     "data": {
      "image/png": "[encoded data removed]",
      "text/plain": [
       "<Figure size 432x288 with 1 Axes>"
      ]
     },
     "metadata": {
      "needs_background": "light"
     },
     "output_type": "display_data"
    }
   ],
   "source": [
    "df_act.boxplot(column = cols[7]);"
   ]
  },
  {
   "cell_type": "code",
   "execution_count": 197,
   "metadata": {},
   "outputs": [
    {
     "data": {
      "image/png": "[encoded data removed]",
      "text/plain": [
       "<Figure size 432x288 with 1 Axes>"
      ]
     },
     "metadata": {
      "needs_background": "light"
     },
     "output_type": "display_data"
    }
   ],
   "source": [
    "df_act.boxplot(column = cols[8]);"
   ]
  },
  {
   "cell_type": "code",
   "execution_count": 198,
   "metadata": {},
   "outputs": [
    {
     "data": {
      "image/png": "[encoded data removed]",
      "text/plain": [
       "<Figure size 432x288 with 1 Axes>"
      ]
     },
     "metadata": {
      "needs_background": "light"
     },
     "output_type": "display_data"
    }
   ],
   "source": [
    "df_act.boxplot(column = cols[9]);"
   ]
  },
  {
   "cell_type": "code",
   "execution_count": 199,
   "metadata": {},
   "outputs": [
    {
     "data": {
      "image/png": "[encoded data removed]",
      "text/plain": [
       "<Figure size 432x288 with 1 Axes>"
      ]
     },
     "metadata": {
      "needs_background": "light"
     },
     "output_type": "display_data"
    }
   ],
   "source": [
    "df_act.boxplot(column = cols[10]);"
   ]
  },
  {
   "cell_type": "code",
   "execution_count": 200,
   "metadata": {},
   "outputs": [
    {
     "data": {
      "image/png": "[encoded data removed]",
      "text/plain": [
       "<Figure size 432x288 with 1 Axes>"
      ]
     },
     "metadata": {
      "needs_background": "light"
     },
     "output_type": "display_data"
    }
   ],
   "source": [
    "df_act.boxplot(column = cols[11]);"
   ]
  },
  {
   "cell_type": "code",
   "execution_count": 201,
   "metadata": {},
   "outputs": [
    {
     "data": {
      "image/png": "[encoded data removed]",
      "text/plain": [
       "<Figure size 432x288 with 1 Axes>"
      ]
     },
     "metadata": {
      "needs_background": "light"
     },
     "output_type": "display_data"
    }
   ],
   "source": [
    "df_act[cols[0]].plot.hist(grid=True, bins=20, rwidth=0.9,\n",
    "                   color='#607c8e')\n",
    "plt.title(cols[0] + ' vs Freq.')\n",
    "plt.xlabel(cols[0])\n",
    "plt.ylabel('Frequency')\n",
    "plt.grid(axis='y', alpha=0.75)"
   ]
  },
  {
   "cell_type": "markdown",
   "metadata": {},
   "source": [
    "## Applying log transformation to the above column"
   ]
  },
  {
   "cell_type": "code",
   "execution_count": 202,
   "metadata": {},
   "outputs": [],
   "source": [
    "df_act[cols[0]] = np.log(df_act[cols[0]])"
   ]
  },
  {
   "cell_type": "code",
   "execution_count": 203,
   "metadata": {},
   "outputs": [
    {
     "data": {
      "image/png": "[encoded data removed]",
      "text/plain": [
       "<Figure size 432x288 with 1 Axes>"
      ]
     },
     "metadata": {
      "needs_background": "light"
     },
     "output_type": "display_data"
    }
   ],
   "source": [
    "\n",
    "df_act[cols[0]].plot.hist(grid=True, bins=20, rwidth=0.9,\n",
    "                   color='#607c8e')\n",
    "plt.title(cols[0] + ' vs Freq.')\n",
    "plt.xlabel(cols[0])\n",
    "plt.ylabel('Frequency')\n",
    "plt.grid(axis='y', alpha=0.75)"
   ]
  },
  {
   "cell_type": "code",
   "execution_count": 204,
   "metadata": {},
   "outputs": [
    {
     "data": {
      "image/png": "[encoded data removed]",
      "text/plain": [
       "<Figure size 432x288 with 1 Axes>"
      ]
     },
     "metadata": {
      "needs_background": "light"
     },
     "output_type": "display_data"
    }
   ],
   "source": [
    "df_act[cols[1]].plot.hist(grid=True, bins=20, rwidth=0.9,\n",
    "                   color='#607c8e')\n",
    "plt.title(cols[1] + ' vs Freq.')\n",
    "plt.xlabel(cols[1])\n",
    "plt.ylabel('Frequency')\n",
    "plt.grid(axis='y', alpha=0.75)"
   ]
  },
  {
   "cell_type": "code",
   "execution_count": 205,
   "metadata": {},
   "outputs": [
    {
     "data": {
      "image/png": "[encoded data removed]",
      "text/plain": [
       "<Figure size 432x288 with 1 Axes>"
      ]
     },
     "metadata": {
      "needs_background": "light"
     },
     "output_type": "display_data"
    }
   ],
   "source": [
    "df_act[cols[2]].plot.hist(grid=True, bins=20, rwidth=0.9,\n",
    "                   color='#607c8e')\n",
    "plt.title(cols[2] + ' vs Freq.')\n",
    "plt.xlabel(cols[2])\n",
    "plt.ylabel('Frequency')\n",
    "plt.grid(axis='y', alpha=0.75)"
   ]
  },
  {
   "cell_type": "markdown",
   "metadata": {},
   "source": [
    "## Applying log transformation to the above column"
   ]
  },
  {
   "cell_type": "code",
   "execution_count": 206,
   "metadata": {},
   "outputs": [],
   "source": [
    "df_act[cols[2]] = np.log(df_act[cols[2]])"
   ]
  },
  {
   "cell_type": "code",
   "execution_count": 207,
   "metadata": {},
   "outputs": [
    {
     "data": {
      "image/png": "[encoded data removed]",
      "text/plain": [
       "<Figure size 432x288 with 1 Axes>"
      ]
     },
     "metadata": {
      "needs_background": "light"
     },
     "output_type": "display_data"
    }
   ],
   "source": [
    "df_act[cols[2]].plot.hist(grid=True, bins=20, rwidth=0.9,\n",
    "                   color='#607c8e')\n",
    "plt.title(cols[2] + ' vs Freq.')\n",
    "plt.xlabel(cols[2])\n",
    "plt.ylabel('Frequency')\n",
    "plt.grid(axis='y', alpha=0.75)"
   ]
  },
  {
   "cell_type": "code",
   "execution_count": 208,
   "metadata": {},
   "outputs": [
    {
     "data": {
      "image/png": "[encoded data removed]",
      "text/plain": [
       "<Figure size 432x288 with 1 Axes>"
      ]
     },
     "metadata": {
      "needs_background": "light"
     },
     "output_type": "display_data"
    }
   ],
   "source": [
    "df_act[cols[3]].plot.hist(grid=True, bins=20, rwidth=0.9,\n",
    "                   color='#607c8e')\n",
    "plt.title(cols[3] + ' vs Freq.')\n",
    "plt.xlabel(cols[3])\n",
    "plt.ylabel('Frequency')\n",
    "plt.grid(axis='y', alpha=0.75)"
   ]
  },
  {
   "cell_type": "code",
   "execution_count": 209,
   "metadata": {},
   "outputs": [
    {
     "data": {
      "image/png": "[encoded data removed]",
      "text/plain": [
       "<Figure size 432x288 with 1 Axes>"
      ]
     },
     "metadata": {
      "needs_background": "light"
     },
     "output_type": "display_data"
    }
   ],
   "source": [
    "df_act[cols[4]].plot.hist(grid=True, bins=20, rwidth=0.9,\n",
    "                   color='#607c8e')\n",
    "plt.title(cols[4] + ' vs Freq.')\n",
    "plt.xlabel(cols[4])\n",
    "plt.ylabel('Frequency')\n",
    "plt.grid(axis='y', alpha=0.75)"
   ]
  },
  {
   "cell_type": "code",
   "execution_count": 210,
   "metadata": {},
   "outputs": [],
   "source": [
    "df_act[cols[4]] = np.log(df_act[cols[4]])"
   ]
  },
  {
   "cell_type": "code",
   "execution_count": 211,
   "metadata": {},
   "outputs": [
    {
     "data": {
      "image/png": "[encoded data removed]",
      "text/plain": [
       "<Figure size 432x288 with 1 Axes>"
      ]
     },
     "metadata": {
      "needs_background": "light"
     },
     "output_type": "display_data"
    }
   ],
   "source": [
    "df_act[cols[4]].plot.hist(grid=True, bins=20, rwidth=0.9,\n",
    "                   color='#607c8e')\n",
    "plt.title(cols[4] + ' vs Freq.')\n",
    "plt.xlabel(cols[4])\n",
    "plt.ylabel('Frequency')\n",
    "plt.grid(axis='y', alpha=0.75)"
   ]
  },
  {
   "cell_type": "code",
   "execution_count": 212,
   "metadata": {},
   "outputs": [
    {
     "data": {
      "image/png": "[encoded data removed]",
      "text/plain": [
       "<Figure size 432x288 with 1 Axes>"
      ]
     },
     "metadata": {
      "needs_background": "light"
     },
     "output_type": "display_data"
    }
   ],
   "source": [
    "df_act[cols[5]].plot.hist(grid=True, bins=20, rwidth=0.9,\n",
    "                   color='#607c8e')\n",
    "plt.title(cols[5] + ' vs Freq.')\n",
    "plt.xlabel(cols[5])\n",
    "plt.ylabel('Frequency')\n",
    "plt.grid(axis='y', alpha=0.75)"
   ]
  },
  {
   "cell_type": "code",
   "execution_count": 213,
   "metadata": {},
   "outputs": [
    {
     "data": {
      "image/png": "[encoded data removed]",
      "text/plain": [
       "<Figure size 432x288 with 1 Axes>"
      ]
     },
     "metadata": {
      "needs_background": "light"
     },
     "output_type": "display_data"
    }
   ],
   "source": [
    "df_act[cols[6]].plot.hist(grid=True, bins=20, rwidth=0.9,\n",
    "                   color='#607c8e')\n",
    "plt.title(cols[6] + ' vs Freq.')\n",
    "plt.xlabel(cols[6])\n",
    "plt.ylabel('Frequency')\n",
    "plt.grid(axis='y', alpha=0.75)"
   ]
  },
  {
   "cell_type": "code",
   "execution_count": 214,
   "metadata": {},
   "outputs": [
    {
     "data": {
      "image/png": "[encoded data removed]",
      "text/plain": [
       "<Figure size 432x288 with 1 Axes>"
      ]
     },
     "metadata": {
      "needs_background": "light"
     },
     "output_type": "display_data"
    }
   ],
   "source": [
    "np.log(df_act[cols[6]]).plot.hist(grid=True, bins=20, rwidth=0.9,\n",
    "                   color='#607c8e')\n",
    "plt.title(cols[6] + ' vs Freq.')\n",
    "plt.xlabel(cols[6])\n",
    "plt.ylabel('Frequency')\n",
    "plt.grid(axis='y', alpha=0.75)"
   ]
  },
  {
   "cell_type": "code",
   "execution_count": 215,
   "metadata": {},
   "outputs": [],
   "source": [
    "df_act[cols[6]] = np.log(df_act[cols[6]])"
   ]
  },
  {
   "cell_type": "code",
   "execution_count": 216,
   "metadata": {},
   "outputs": [
    {
     "data": {
      "image/png": "[encoded data removed]",
      "text/plain": [
       "<Figure size 432x288 with 1 Axes>"
      ]
     },
     "metadata": {
      "needs_background": "light"
     },
     "output_type": "display_data"
    }
   ],
   "source": [
    "df_act[cols[7]].plot.hist(grid=True, bins=20, rwidth=0.9,\n",
    "                   color='#607c8e')\n",
    "plt.title(cols[7] + ' vs Freq.')\n",
    "plt.xlabel(cols[7])\n",
    "plt.ylabel('Frequency')\n",
    "plt.grid(axis='y', alpha=0.75)"
   ]
  },
  {
   "cell_type": "code",
   "execution_count": 217,
   "metadata": {},
   "outputs": [
    {
     "data": {
      "image/png": "[encoded data removed]",
      "text/plain": [
       "<Figure size 432x288 with 1 Axes>"
      ]
     },
     "metadata": {
      "needs_background": "light"
     },
     "output_type": "display_data"
    }
   ],
   "source": [
    "df_act[cols[8]].plot.hist(grid=True, bins=20, rwidth=0.9,\n",
    "                   color='#607c8e')\n",
    "plt.title(cols[8] + ' vs Freq.')\n",
    "plt.xlabel(cols[8])\n",
    "plt.ylabel('Frequency')\n",
    "plt.grid(axis='y', alpha=0.75)"
   ]
  },
  {
   "cell_type": "code",
   "execution_count": 218,
   "metadata": {},
   "outputs": [
    {
     "data": {
      "image/png": "[encoded data removed]",
      "text/plain": [
       "<Figure size 432x288 with 1 Axes>"
      ]
     },
     "metadata": {
      "needs_background": "light"
     },
     "output_type": "display_data"
    }
   ],
   "source": [
    "df_act[cols[9]].plot.hist(grid=True, bins=20, rwidth=0.9,\n",
    "                   color='#607c8e')\n",
    "plt.title(cols[9] + ' vs Freq.')\n",
    "plt.xlabel(cols[9])\n",
    "plt.ylabel('Frequency')\n",
    "plt.grid(axis='y', alpha=0.75)"
   ]
  },
  {
   "cell_type": "code",
   "execution_count": 219,
   "metadata": {},
   "outputs": [
    {
     "data": {
      "image/png": "[encoded data removed]",
      "text/plain": [
       "<Figure size 432x288 with 1 Axes>"
      ]
     },
     "metadata": {
      "needs_background": "light"
     },
     "output_type": "display_data"
    }
   ],
   "source": [
    "np.log(df_act[cols[9]]).plot.hist(grid=True, bins=20, rwidth=0.9,\n",
    "                   color='#607c8e')\n",
    "plt.title(cols[9] + ' vs Freq.')\n",
    "plt.xlabel(cols[9])\n",
    "plt.ylabel('Frequency')\n",
    "plt.grid(axis='y', alpha=0.75)"
   ]
  },
  {
   "cell_type": "code",
   "execution_count": 220,
   "metadata": {},
   "outputs": [],
   "source": [
    "df_act[cols[9]] = np.log(df_act[cols[9]])"
   ]
  },
  {
   "cell_type": "code",
   "execution_count": 221,
   "metadata": {},
   "outputs": [
    {
     "data": {
      "image/png": "[encoded data removed]",
      "text/plain": [
       "<Figure size 432x288 with 1 Axes>"
      ]
     },
     "metadata": {
      "needs_background": "light"
     },
     "output_type": "display_data"
    }
   ],
   "source": [
    "df_act[cols[10]].plot.hist(grid=True, bins=20, rwidth=0.9,\n",
    "                   color='#607c8e')\n",
    "plt.title(cols[10] + ' vs Freq.')\n",
    "plt.xlabel(cols[10])\n",
    "plt.ylabel('Frequency')\n",
    "plt.grid(axis='y', alpha=0.75)"
   ]
  },
  {
   "cell_type": "code",
   "execution_count": 222,
   "metadata": {},
   "outputs": [
    {
     "data": {
      "image/png": "[encoded data removed]",
      "text/plain": [
       "<Figure size 432x288 with 1 Axes>"
      ]
     },
     "metadata": {
      "needs_background": "light"
     },
     "output_type": "display_data"
    }
   ],
   "source": [
    "np.log(df_act[cols[10]]).plot.hist(grid=True, bins=20, rwidth=0.9,\n",
    "                   color='#607c8e')\n",
    "plt.title(cols[10] + ' vs Freq.')\n",
    "plt.xlabel(cols[10])\n",
    "plt.ylabel('Frequency')\n",
    "plt.grid(axis='y', alpha=0.75)"
   ]
  },
  {
   "cell_type": "code",
   "execution_count": 223,
   "metadata": {},
   "outputs": [],
   "source": [
    "df_act[cols[10]] = np.log(df_act[cols[10]])"
   ]
  },
  {
   "cell_type": "code",
   "execution_count": 224,
   "metadata": {},
   "outputs": [
    {
     "data": {
      "image/png": "[encoded data removed]",
      "text/plain": [
       "<Figure size 432x288 with 1 Axes>"
      ]
     },
     "metadata": {
      "needs_background": "light"
     },
     "output_type": "display_data"
    }
   ],
   "source": [
    "df_act[cols[11]].plot.hist(grid=True, bins=20, rwidth=0.9,\n",
    "                   color='#607c8e')\n",
    "plt.title(cols[11] + ' vs Freq.')\n",
    "plt.xlabel(cols[11])\n",
    "plt.ylabel('Frequency')\n",
    "plt.grid(axis='y', alpha=0.75)"
   ]
  },
  {
   "cell_type": "code",
   "execution_count": 225,
   "metadata": {},
   "outputs": [
    {
     "data": {
      "image/png": "[encoded data removed]",
      "text/plain": [
       "<Figure size 432x288 with 1 Axes>"
      ]
     },
     "metadata": {
      "needs_background": "light"
     },
     "output_type": "display_data"
    }
   ],
   "source": [
    "np.log(df_act[cols[11]]).plot.hist(grid=True, bins=20, rwidth=0.9,\n",
    "                   color='#607c8e')\n",
    "plt.title(cols[11] + ' vs Freq.')\n",
    "plt.xlabel(cols[11])\n",
    "plt.ylabel('Frequency')\n",
    "plt.grid(axis='y', alpha=0.75)"
   ]
  },
  {
   "cell_type": "code",
   "execution_count": 226,
   "metadata": {},
   "outputs": [],
   "source": [
    "df_act[cols[11]] = np.log(df_act[cols[11]])"
   ]
  },
  {
   "cell_type": "markdown",
   "metadata": {},
   "source": [
    "# Bivariate analysis"
   ]
  },
  {
   "cell_type": "code",
   "execution_count": 227,
   "metadata": {},
   "outputs": [
    {
     "data": {
      "text/html": [
       "<style  type=\"text/css\" >\n",
       "    #T_33065a86_0137_11ea_a108_1062e5c8a9d3row0_col0 {\n",
       "            background-color:  #b40426;\n",
       "        }    #T_33065a86_0137_11ea_a108_1062e5c8a9d3row0_col1 {\n",
       "            background-color:  #7699f6;\n",
       "        }    #T_33065a86_0137_11ea_a108_1062e5c8a9d3row0_col2 {\n",
       "            background-color:  #de614d;\n",
       "        }    #T_33065a86_0137_11ea_a108_1062e5c8a9d3row0_col3 {\n",
       "            background-color:  #84a7fc;\n",
       "        }    #T_33065a86_0137_11ea_a108_1062e5c8a9d3row0_col4 {\n",
       "            background-color:  #93b5fe;\n",
       "        }    #T_33065a86_0137_11ea_a108_1062e5c8a9d3row0_col5 {\n",
       "            background-color:  #3b4cc0;\n",
       "        }    #T_33065a86_0137_11ea_a108_1062e5c8a9d3row0_col6 {\n",
       "            background-color:  #89acfd;\n",
       "        }    #T_33065a86_0137_11ea_a108_1062e5c8a9d3row0_col7 {\n",
       "            background-color:  #6282ea;\n",
       "        }    #T_33065a86_0137_11ea_a108_1062e5c8a9d3row0_col8 {\n",
       "            background-color:  #89acfd;\n",
       "        }    #T_33065a86_0137_11ea_a108_1062e5c8a9d3row0_col9 {\n",
       "            background-color:  #dddcdc;\n",
       "        }    #T_33065a86_0137_11ea_a108_1062e5c8a9d3row0_col10 {\n",
       "            background-color:  #688aef;\n",
       "        }    #T_33065a86_0137_11ea_a108_1062e5c8a9d3row0_col11 {\n",
       "            background-color:  #d0473d;\n",
       "        }    #T_33065a86_0137_11ea_a108_1062e5c8a9d3row1_col0 {\n",
       "            background-color:  #5f7fe8;\n",
       "        }    #T_33065a86_0137_11ea_a108_1062e5c8a9d3row1_col1 {\n",
       "            background-color:  #b40426;\n",
       "        }    #T_33065a86_0137_11ea_a108_1062e5c8a9d3row1_col2 {\n",
       "            background-color:  #a1c0ff;\n",
       "        }    #T_33065a86_0137_11ea_a108_1062e5c8a9d3row1_col3 {\n",
       "            background-color:  #be242e;\n",
       "        }    #T_33065a86_0137_11ea_a108_1062e5c8a9d3row1_col4 {\n",
       "            background-color:  #e26952;\n",
       "        }    #T_33065a86_0137_11ea_a108_1062e5c8a9d3row1_col5 {\n",
       "            background-color:  #f7b79b;\n",
       "        }    #T_33065a86_0137_11ea_a108_1062e5c8a9d3row1_col6 {\n",
       "            background-color:  #f18d6f;\n",
       "        }    #T_33065a86_0137_11ea_a108_1062e5c8a9d3row1_col7 {\n",
       "            background-color:  #c53334;\n",
       "        }    #T_33065a86_0137_11ea_a108_1062e5c8a9d3row1_col8 {\n",
       "            background-color:  #c83836;\n",
       "        }    #T_33065a86_0137_11ea_a108_1062e5c8a9d3row1_col9 {\n",
       "            background-color:  #5977e3;\n",
       "        }    #T_33065a86_0137_11ea_a108_1062e5c8a9d3row1_col10 {\n",
       "            background-color:  #d6dce4;\n",
       "        }    #T_33065a86_0137_11ea_a108_1062e5c8a9d3row1_col11 {\n",
       "            background-color:  #3d50c3;\n",
       "        }    #T_33065a86_0137_11ea_a108_1062e5c8a9d3row2_col0 {\n",
       "            background-color:  #d55042;\n",
       "        }    #T_33065a86_0137_11ea_a108_1062e5c8a9d3row2_col1 {\n",
       "            background-color:  #dedcdb;\n",
       "        }    #T_33065a86_0137_11ea_a108_1062e5c8a9d3row2_col2 {\n",
       "            background-color:  #b40426;\n",
       "        }    #T_33065a86_0137_11ea_a108_1062e5c8a9d3row2_col3 {\n",
       "            background-color:  #ecd3c5;\n",
       "        }    #T_33065a86_0137_11ea_a108_1062e5c8a9d3row2_col4 {\n",
       "            background-color:  #f5c2aa;\n",
       "        }    #T_33065a86_0137_11ea_a108_1062e5c8a9d3row2_col5 {\n",
       "            background-color:  #85a8fc;\n",
       "        }    #T_33065a86_0137_11ea_a108_1062e5c8a9d3row2_col6 {\n",
       "            background-color:  #f5c1a9;\n",
       "        }    #T_33065a86_0137_11ea_a108_1062e5c8a9d3row2_col7 {\n",
       "            background-color:  #d2dbe8;\n",
       "        }    #T_33065a86_0137_11ea_a108_1062e5c8a9d3row2_col8 {\n",
       "            background-color:  #e8d6cc;\n",
       "        }    #T_33065a86_0137_11ea_a108_1062e5c8a9d3row2_col9 {\n",
       "            background-color:  #f29274;\n",
       "        }    #T_33065a86_0137_11ea_a108_1062e5c8a9d3row2_col10 {\n",
       "            background-color:  #e8d6cc;\n",
       "        }    #T_33065a86_0137_11ea_a108_1062e5c8a9d3row2_col11 {\n",
       "            background-color:  #f08a6c;\n",
       "        }    #T_33065a86_0137_11ea_a108_1062e5c8a9d3row3_col0 {\n",
       "            background-color:  #80a3fa;\n",
       "        }    #T_33065a86_0137_11ea_a108_1062e5c8a9d3row3_col1 {\n",
       "            background-color:  #bd1f2d;\n",
       "        }    #T_33065a86_0137_11ea_a108_1062e5c8a9d3row3_col2 {\n",
       "            background-color:  #c9d7f0;\n",
       "        }    #T_33065a86_0137_11ea_a108_1062e5c8a9d3row3_col3 {\n",
       "            background-color:  #b40426;\n",
       "        }    #T_33065a86_0137_11ea_a108_1062e5c8a9d3row3_col4 {\n",
       "            background-color:  #e26952;\n",
       "        }    #T_33065a86_0137_11ea_a108_1062e5c8a9d3row3_col5 {\n",
       "            background-color:  #f0cdbb;\n",
       "        }    #T_33065a86_0137_11ea_a108_1062e5c8a9d3row3_col6 {\n",
       "            background-color:  #f29072;\n",
       "        }    #T_33065a86_0137_11ea_a108_1062e5c8a9d3row3_col7 {\n",
       "            background-color:  #c53334;\n",
       "        }    #T_33065a86_0137_11ea_a108_1062e5c8a9d3row3_col8 {\n",
       "            background-color:  #c32e31;\n",
       "        }    #T_33065a86_0137_11ea_a108_1062e5c8a9d3row3_col9 {\n",
       "            background-color:  #7597f6;\n",
       "        }    #T_33065a86_0137_11ea_a108_1062e5c8a9d3row3_col10 {\n",
       "            background-color:  #c7d7f0;\n",
       "        }    #T_33065a86_0137_11ea_a108_1062e5c8a9d3row3_col11 {\n",
       "            background-color:  #516ddb;\n",
       "        }    #T_33065a86_0137_11ea_a108_1062e5c8a9d3row4_col0 {\n",
       "            background-color:  #c4d5f3;\n",
       "        }    #T_33065a86_0137_11ea_a108_1062e5c8a9d3row4_col1 {\n",
       "            background-color:  #d75445;\n",
       "        }    #T_33065a86_0137_11ea_a108_1062e5c8a9d3row4_col2 {\n",
       "            background-color:  #f4c6af;\n",
       "        }    #T_33065a86_0137_11ea_a108_1062e5c8a9d3row4_col3 {\n",
       "            background-color:  #d95847;\n",
       "        }    #T_33065a86_0137_11ea_a108_1062e5c8a9d3row4_col4 {\n",
       "            background-color:  #b40426;\n",
       "        }    #T_33065a86_0137_11ea_a108_1062e5c8a9d3row4_col5 {\n",
       "            background-color:  #f5c1a9;\n",
       "        }    #T_33065a86_0137_11ea_a108_1062e5c8a9d3row4_col6 {\n",
       "            background-color:  #c12b30;\n",
       "        }    #T_33065a86_0137_11ea_a108_1062e5c8a9d3row4_col7 {\n",
       "            background-color:  #ed8366;\n",
       "        }    #T_33065a86_0137_11ea_a108_1062e5c8a9d3row4_col8 {\n",
       "            background-color:  #e0654f;\n",
       "        }    #T_33065a86_0137_11ea_a108_1062e5c8a9d3row4_col9 {\n",
       "            background-color:  #d1dae9;\n",
       "        }    #T_33065a86_0137_11ea_a108_1062e5c8a9d3row4_col10 {\n",
       "            background-color:  #ee8669;\n",
       "        }    #T_33065a86_0137_11ea_a108_1062e5c8a9d3row4_col11 {\n",
       "            background-color:  #94b6ff;\n",
       "        }    #T_33065a86_0137_11ea_a108_1062e5c8a9d3row5_col0 {\n",
       "            background-color:  #3b4cc0;\n",
       "        }    #T_33065a86_0137_11ea_a108_1062e5c8a9d3row5_col1 {\n",
       "            background-color:  #f7ad90;\n",
       "        }    #T_33065a86_0137_11ea_a108_1062e5c8a9d3row5_col2 {\n",
       "            background-color:  #3b4cc0;\n",
       "        }    #T_33065a86_0137_11ea_a108_1062e5c8a9d3row5_col3 {\n",
       "            background-color:  #f1ccb8;\n",
       "        }    #T_33065a86_0137_11ea_a108_1062e5c8a9d3row5_col4 {\n",
       "            background-color:  #e7d7ce;\n",
       "        }    #T_33065a86_0137_11ea_a108_1062e5c8a9d3row5_col5 {\n",
       "            background-color:  #b40426;\n",
       "        }    #T_33065a86_0137_11ea_a108_1062e5c8a9d3row5_col6 {\n",
       "            background-color:  #eed0c0;\n",
       "        }    #T_33065a86_0137_11ea_a108_1062e5c8a9d3row5_col7 {\n",
       "            background-color:  #f7b093;\n",
       "        }    #T_33065a86_0137_11ea_a108_1062e5c8a9d3row5_col8 {\n",
       "            background-color:  #dadce0;\n",
       "        }    #T_33065a86_0137_11ea_a108_1062e5c8a9d3row5_col9 {\n",
       "            background-color:  #6282ea;\n",
       "        }    #T_33065a86_0137_11ea_a108_1062e5c8a9d3row5_col10 {\n",
       "            background-color:  #cbd8ee;\n",
       "        }    #T_33065a86_0137_11ea_a108_1062e5c8a9d3row5_col11 {\n",
       "            background-color:  #5673e0;\n",
       "        }    #T_33065a86_0137_11ea_a108_1062e5c8a9d3row6_col0 {\n",
       "            background-color:  #d3dbe7;\n",
       "        }    #T_33065a86_0137_11ea_a108_1062e5c8a9d3row6_col1 {\n",
       "            background-color:  #e26952;\n",
       "        }    #T_33065a86_0137_11ea_a108_1062e5c8a9d3row6_col2 {\n",
       "            background-color:  #f7b89c;\n",
       "        }    #T_33065a86_0137_11ea_a108_1062e5c8a9d3row6_col3 {\n",
       "            background-color:  #e67259;\n",
       "        }    #T_33065a86_0137_11ea_a108_1062e5c8a9d3row6_col4 {\n",
       "            background-color:  #c0282f;\n",
       "        }    #T_33065a86_0137_11ea_a108_1062e5c8a9d3row6_col5 {\n",
       "            background-color:  #f7ac8e;\n",
       "        }    #T_33065a86_0137_11ea_a108_1062e5c8a9d3row6_col6 {\n",
       "            background-color:  #b40426;\n",
       "        }    #T_33065a86_0137_11ea_a108_1062e5c8a9d3row6_col7 {\n",
       "            background-color:  #f18d6f;\n",
       "        }    #T_33065a86_0137_11ea_a108_1062e5c8a9d3row6_col8 {\n",
       "            background-color:  #ef886b;\n",
       "        }    #T_33065a86_0137_11ea_a108_1062e5c8a9d3row6_col9 {\n",
       "            background-color:  #f3c7b1;\n",
       "        }    #T_33065a86_0137_11ea_a108_1062e5c8a9d3row6_col10 {\n",
       "            background-color:  #df634e;\n",
       "        }    #T_33065a86_0137_11ea_a108_1062e5c8a9d3row6_col11 {\n",
       "            background-color:  #b1cbfc;\n",
       "        }    #T_33065a86_0137_11ea_a108_1062e5c8a9d3row7_col0 {\n",
       "            background-color:  #485fd1;\n",
       "        }    #T_33065a86_0137_11ea_a108_1062e5c8a9d3row7_col1 {\n",
       "            background-color:  #c53334;\n",
       "        }    #T_33065a86_0137_11ea_a108_1062e5c8a9d3row7_col2 {\n",
       "            background-color:  #86a9fc;\n",
       "        }    #T_33065a86_0137_11ea_a108_1062e5c8a9d3row7_col3 {\n",
       "            background-color:  #c83836;\n",
       "        }    #T_33065a86_0137_11ea_a108_1062e5c8a9d3row7_col4 {\n",
       "            background-color:  #f6a283;\n",
       "        }    #T_33065a86_0137_11ea_a108_1062e5c8a9d3row7_col5 {\n",
       "            background-color:  #f7ba9f;\n",
       "        }    #T_33065a86_0137_11ea_a108_1062e5c8a9d3row7_col6 {\n",
       "            background-color:  #f7ba9f;\n",
       "        }    #T_33065a86_0137_11ea_a108_1062e5c8a9d3row7_col7 {\n",
       "            background-color:  #b40426;\n",
       "        }    #T_33065a86_0137_11ea_a108_1062e5c8a9d3row7_col8 {\n",
       "            background-color:  #dd5f4b;\n",
       "        }    #T_33065a86_0137_11ea_a108_1062e5c8a9d3row7_col9 {\n",
       "            background-color:  #5e7de7;\n",
       "        }    #T_33065a86_0137_11ea_a108_1062e5c8a9d3row7_col10 {\n",
       "            background-color:  #aac7fd;\n",
       "        }    #T_33065a86_0137_11ea_a108_1062e5c8a9d3row7_col11 {\n",
       "            background-color:  #3b4cc0;\n",
       "        }    #T_33065a86_0137_11ea_a108_1062e5c8a9d3row8_col0 {\n",
       "            background-color:  #81a4fb;\n",
       "        }    #T_33065a86_0137_11ea_a108_1062e5c8a9d3row8_col1 {\n",
       "            background-color:  #c73635;\n",
       "        }    #T_33065a86_0137_11ea_a108_1062e5c8a9d3row8_col2 {\n",
       "            background-color:  #bed2f6;\n",
       "        }    #T_33065a86_0137_11ea_a108_1062e5c8a9d3row8_col3 {\n",
       "            background-color:  #c43032;\n",
       "        }    #T_33065a86_0137_11ea_a108_1062e5c8a9d3row8_col4 {\n",
       "            background-color:  #e9785d;\n",
       "        }    #T_33065a86_0137_11ea_a108_1062e5c8a9d3row8_col5 {\n",
       "            background-color:  #d6dce4;\n",
       "        }    #T_33065a86_0137_11ea_a108_1062e5c8a9d3row8_col6 {\n",
       "            background-color:  #f7ad90;\n",
       "        }    #T_33065a86_0137_11ea_a108_1062e5c8a9d3row8_col7 {\n",
       "            background-color:  #da5a49;\n",
       "        }    #T_33065a86_0137_11ea_a108_1062e5c8a9d3row8_col8 {\n",
       "            background-color:  #b40426;\n",
       "        }    #T_33065a86_0137_11ea_a108_1062e5c8a9d3row8_col9 {\n",
       "            background-color:  #3b4cc0;\n",
       "        }    #T_33065a86_0137_11ea_a108_1062e5c8a9d3row8_col10 {\n",
       "            background-color:  #adc9fd;\n",
       "        }    #T_33065a86_0137_11ea_a108_1062e5c8a9d3row8_col11 {\n",
       "            background-color:  #4b64d5;\n",
       "        }    #T_33065a86_0137_11ea_a108_1062e5c8a9d3row9_col0 {\n",
       "            background-color:  #f6a385;\n",
       "        }    #T_33065a86_0137_11ea_a108_1062e5c8a9d3row9_col1 {\n",
       "            background-color:  #e7d7ce;\n",
       "        }    #T_33065a86_0137_11ea_a108_1062e5c8a9d3row9_col2 {\n",
       "            background-color:  #e7745b;\n",
       "        }    #T_33065a86_0137_11ea_a108_1062e5c8a9d3row9_col3 {\n",
       "            background-color:  #ead5c9;\n",
       "        }    #T_33065a86_0137_11ea_a108_1062e5c8a9d3row9_col4 {\n",
       "            background-color:  #f4c5ad;\n",
       "        }    #T_33065a86_0137_11ea_a108_1062e5c8a9d3row9_col5 {\n",
       "            background-color:  #e1dad6;\n",
       "        }    #T_33065a86_0137_11ea_a108_1062e5c8a9d3row9_col6 {\n",
       "            background-color:  #f7ac8e;\n",
       "        }    #T_33065a86_0137_11ea_a108_1062e5c8a9d3row9_col7 {\n",
       "            background-color:  #ead4c8;\n",
       "        }    #T_33065a86_0137_11ea_a108_1062e5c8a9d3row9_col8 {\n",
       "            background-color:  #d4dbe6;\n",
       "        }    #T_33065a86_0137_11ea_a108_1062e5c8a9d3row9_col9 {\n",
       "            background-color:  #b40426;\n",
       "        }    #T_33065a86_0137_11ea_a108_1062e5c8a9d3row9_col10 {\n",
       "            background-color:  #f7b194;\n",
       "        }    #T_33065a86_0137_11ea_a108_1062e5c8a9d3row9_col11 {\n",
       "            background-color:  #f59d7e;\n",
       "        }    #T_33065a86_0137_11ea_a108_1062e5c8a9d3row10_col0 {\n",
       "            background-color:  #e8d6cc;\n",
       "        }    #T_33065a86_0137_11ea_a108_1062e5c8a9d3row10_col1 {\n",
       "            background-color:  #f59c7d;\n",
       "        }    #T_33065a86_0137_11ea_a108_1062e5c8a9d3row10_col2 {\n",
       "            background-color:  #f7b194;\n",
       "        }    #T_33065a86_0137_11ea_a108_1062e5c8a9d3row10_col3 {\n",
       "            background-color:  #f7ad90;\n",
       "        }    #T_33065a86_0137_11ea_a108_1062e5c8a9d3row10_col4 {\n",
       "            background-color:  #e0654f;\n",
       "        }    #T_33065a86_0137_11ea_a108_1062e5c8a9d3row10_col5 {\n",
       "            background-color:  #f7ac8e;\n",
       "        }    #T_33065a86_0137_11ea_a108_1062e5c8a9d3row10_col6 {\n",
       "            background-color:  #d55042;\n",
       "        }    #T_33065a86_0137_11ea_a108_1062e5c8a9d3row10_col7 {\n",
       "            background-color:  #f7b497;\n",
       "        }    #T_33065a86_0137_11ea_a108_1062e5c8a9d3row10_col8 {\n",
       "            background-color:  #f7b99e;\n",
       "        }    #T_33065a86_0137_11ea_a108_1062e5c8a9d3row10_col9 {\n",
       "            background-color:  #f7ad90;\n",
       "        }    #T_33065a86_0137_11ea_a108_1062e5c8a9d3row10_col10 {\n",
       "            background-color:  #b40426;\n",
       "        }    #T_33065a86_0137_11ea_a108_1062e5c8a9d3row10_col11 {\n",
       "            background-color:  #e0dbd8;\n",
       "        }    #T_33065a86_0137_11ea_a108_1062e5c8a9d3row11_col0 {\n",
       "            background-color:  #d1493f;\n",
       "        }    #T_33065a86_0137_11ea_a108_1062e5c8a9d3row11_col1 {\n",
       "            background-color:  #3b4cc0;\n",
       "        }    #T_33065a86_0137_11ea_a108_1062e5c8a9d3row11_col2 {\n",
       "            background-color:  #f7ac8e;\n",
       "        }    #T_33065a86_0137_11ea_a108_1062e5c8a9d3row11_col3 {\n",
       "            background-color:  #3b4cc0;\n",
       "        }    #T_33065a86_0137_11ea_a108_1062e5c8a9d3row11_col4 {\n",
       "            background-color:  #3b4cc0;\n",
       "        }    #T_33065a86_0137_11ea_a108_1062e5c8a9d3row11_col5 {\n",
       "            background-color:  #3c4ec2;\n",
       "        }    #T_33065a86_0137_11ea_a108_1062e5c8a9d3row11_col6 {\n",
       "            background-color:  #3b4cc0;\n",
       "        }    #T_33065a86_0137_11ea_a108_1062e5c8a9d3row11_col7 {\n",
       "            background-color:  #3b4cc0;\n",
       "        }    #T_33065a86_0137_11ea_a108_1062e5c8a9d3row11_col8 {\n",
       "            background-color:  #3b4cc0;\n",
       "        }    #T_33065a86_0137_11ea_a108_1062e5c8a9d3row11_col9 {\n",
       "            background-color:  #d8dce2;\n",
       "        }    #T_33065a86_0137_11ea_a108_1062e5c8a9d3row11_col10 {\n",
       "            background-color:  #3b4cc0;\n",
       "        }    #T_33065a86_0137_11ea_a108_1062e5c8a9d3row11_col11 {\n",
       "            background-color:  #b40426;\n",
       "        }</style>  \n",
       "<table id=\"T_33065a86_0137_11ea_a108_1062e5c8a9d3\" > \n",
       "<thead>    <tr> \n",
       "        <th class=\"blank level0\" ></th> \n",
       "        <th class=\"col_heading level0 col0\" >CO(GT)</th> \n",
       "        <th class=\"col_heading level0 col1\" >PT08.S1(CO)</th> \n",
       "        <th class=\"col_heading level0 col2\" >C6H6(GT)</th> \n",
       "        <th class=\"col_heading level0 col3\" >PT08.S2(NMHC)</th> \n",
       "        <th class=\"col_heading level0 col4\" >NOx(GT)</th> \n",
       "        <th class=\"col_heading level0 col5\" >PT08.S3(NOx)</th> \n",
       "        <th class=\"col_heading level0 col6\" >NO2(GT)</th> \n",
       "        <th class=\"col_heading level0 col7\" >PT08.S4(NO2)</th> \n",
       "        <th class=\"col_heading level0 col8\" >PT08.S5(O3)</th> \n",
       "        <th class=\"col_heading level0 col9\" >T</th> \n",
       "        <th class=\"col_heading level0 col10\" >RH</th> \n",
       "        <th class=\"col_heading level0 col11\" >AH</th> \n",
       "    </tr></thead> \n",
       "<tbody>    <tr> \n",
       "        <th id=\"T_33065a86_0137_11ea_a108_1062e5c8a9d3level0_row0\" class=\"row_heading level0 row0\" >CO(GT)</th> \n",
       "        <td id=\"T_33065a86_0137_11ea_a108_1062e5c8a9d3row0_col0\" class=\"data row0 col0\" >1</td> \n",
       "        <td id=\"T_33065a86_0137_11ea_a108_1062e5c8a9d3row0_col1\" class=\"data row0 col1\" >-0.0274662</td> \n",
       "        <td id=\"T_33065a86_0137_11ea_a108_1062e5c8a9d3row0_col2\" class=\"data row0 col2\" >0.887391</td> \n",
       "        <td id=\"T_33065a86_0137_11ea_a108_1062e5c8a9d3row0_col3\" class=\"data row0 col3\" >0.083006</td> \n",
       "        <td id=\"T_33065a86_0137_11ea_a108_1062e5c8a9d3row0_col4\" class=\"data row0 col4\" >0.315914</td> \n",
       "        <td id=\"T_33065a86_0137_11ea_a108_1062e5c8a9d3row0_col5\" class=\"data row0 col5\" >-0.167263</td> \n",
       "        <td id=\"T_33065a86_0137_11ea_a108_1062e5c8a9d3row0_col6\" class=\"data row0 col6\" >0.371509</td> \n",
       "        <td id=\"T_33065a86_0137_11ea_a108_1062e5c8a9d3row0_col7\" class=\"data row0 col7\" >-0.114702</td> \n",
       "        <td id=\"T_33065a86_0137_11ea_a108_1062e5c8a9d3row0_col8\" class=\"data row0 col8\" >0.0859369</td> \n",
       "        <td id=\"T_33065a86_0137_11ea_a108_1062e5c8a9d3row0_col9\" class=\"data row0 col9\" >0.679276</td> \n",
       "        <td id=\"T_33065a86_0137_11ea_a108_1062e5c8a9d3row0_col10\" class=\"data row0 col10\" >0.469728</td> \n",
       "        <td id=\"T_33065a86_0137_11ea_a108_1062e5c8a9d3row0_col11\" class=\"data row0 col11\" >0.899989</td> \n",
       "    </tr>    <tr> \n",
       "        <th id=\"T_33065a86_0137_11ea_a108_1062e5c8a9d3level0_row1\" class=\"row_heading level0 row1\" >PT08.S1(CO)</th> \n",
       "        <td id=\"T_33065a86_0137_11ea_a108_1062e5c8a9d3row1_col0\" class=\"data row1 col0\" >-0.0274662</td> \n",
       "        <td id=\"T_33065a86_0137_11ea_a108_1062e5c8a9d3row1_col1\" class=\"data row1 col1\" >1</td> \n",
       "        <td id=\"T_33065a86_0137_11ea_a108_1062e5c8a9d3row1_col2\" class=\"data row1 col2\" >0.377495</td> \n",
       "        <td id=\"T_33065a86_0137_11ea_a108_1062e5c8a9d3row1_col3\" class=\"data row1 col3\" >0.967294</td> \n",
       "        <td id=\"T_33065a86_0137_11ea_a108_1062e5c8a9d3row1_col4\" class=\"data row1 col4\" >0.868265</td> \n",
       "        <td id=\"T_33065a86_0137_11ea_a108_1062e5c8a9d3row1_col5\" class=\"data row1 col5\" >0.615524</td> \n",
       "        <td id=\"T_33065a86_0137_11ea_a108_1062e5c8a9d3row1_col6\" class=\"data row1 col6\" >0.818473</td> \n",
       "        <td id=\"T_33065a86_0137_11ea_a108_1062e5c8a9d3row1_col7\" class=\"data row1 col7\" >0.93657</td> \n",
       "        <td id=\"T_33065a86_0137_11ea_a108_1062e5c8a9d3row1_col8\" class=\"data row1 col8\" >0.933789</td> \n",
       "        <td id=\"T_33065a86_0137_11ea_a108_1062e5c8a9d3row1_col9\" class=\"data row1 col9\" >0.420662</td> \n",
       "        <td id=\"T_33065a86_0137_11ea_a108_1062e5c8a9d3row1_col10\" class=\"data row1 col10\" >0.675106</td> \n",
       "        <td id=\"T_33065a86_0137_11ea_a108_1062e5c8a9d3row1_col11\" class=\"data row1 col11\" >-0.26428</td> \n",
       "    </tr>    <tr> \n",
       "        <th id=\"T_33065a86_0137_11ea_a108_1062e5c8a9d3level0_row2\" class=\"row_heading level0 row2\" >C6H6(GT)</th> \n",
       "        <td id=\"T_33065a86_0137_11ea_a108_1062e5c8a9d3row2_col0\" class=\"data row2 col0\" >0.887391</td> \n",
       "        <td id=\"T_33065a86_0137_11ea_a108_1062e5c8a9d3row2_col1\" class=\"data row2 col1\" >0.377495</td> \n",
       "        <td id=\"T_33065a86_0137_11ea_a108_1062e5c8a9d3row2_col2\" class=\"data row2 col2\" >1</td> \n",
       "        <td id=\"T_33065a86_0137_11ea_a108_1062e5c8a9d3row2_col3\" class=\"data row2 col3\" >0.485074</td> \n",
       "        <td id=\"T_33065a86_0137_11ea_a108_1062e5c8a9d3row2_col4\" class=\"data row2 col4\" >0.657213</td> \n",
       "        <td id=\"T_33065a86_0137_11ea_a108_1062e5c8a9d3row2_col5\" class=\"data row2 col5\" >0.100777</td> \n",
       "        <td id=\"T_33065a86_0137_11ea_a108_1062e5c8a9d3row2_col6\" class=\"data row2 col6\" >0.69821</td> \n",
       "        <td id=\"T_33065a86_0137_11ea_a108_1062e5c8a9d3row2_col7\" class=\"data row2 col7\" >0.30967</td> \n",
       "        <td id=\"T_33065a86_0137_11ea_a108_1062e5c8a9d3row2_col8\" class=\"data row2 col8\" >0.454053</td> \n",
       "        <td id=\"T_33065a86_0137_11ea_a108_1062e5c8a9d3row2_col9\" class=\"data row2 col9\" >0.850934</td> \n",
       "        <td id=\"T_33065a86_0137_11ea_a108_1062e5c8a9d3row2_col10\" class=\"data row2 col10\" >0.718735</td> \n",
       "        <td id=\"T_33065a86_0137_11ea_a108_1062e5c8a9d3row2_col11\" class=\"data row2 col11\" >0.730289</td> \n",
       "    </tr>    <tr> \n",
       "        <th id=\"T_33065a86_0137_11ea_a108_1062e5c8a9d3level0_row3\" class=\"row_heading level0 row3\" >PT08.S2(NMHC)</th> \n",
       "        <td id=\"T_33065a86_0137_11ea_a108_1062e5c8a9d3row3_col0\" class=\"data row3 col0\" >0.083006</td> \n",
       "        <td id=\"T_33065a86_0137_11ea_a108_1062e5c8a9d3row3_col1\" class=\"data row3 col1\" >0.967294</td> \n",
       "        <td id=\"T_33065a86_0137_11ea_a108_1062e5c8a9d3row3_col2\" class=\"data row3 col2\" >0.485074</td> \n",
       "        <td id=\"T_33065a86_0137_11ea_a108_1062e5c8a9d3row3_col3\" class=\"data row3 col3\" >1</td> \n",
       "        <td id=\"T_33065a86_0137_11ea_a108_1062e5c8a9d3row3_col4\" class=\"data row3 col4\" >0.866541</td> \n",
       "        <td id=\"T_33065a86_0137_11ea_a108_1062e5c8a9d3row3_col5\" class=\"data row3 col5\" >0.520237</td> \n",
       "        <td id=\"T_33065a86_0137_11ea_a108_1062e5c8a9d3row3_col6\" class=\"data row3 col6\" >0.809814</td> \n",
       "        <td id=\"T_33065a86_0137_11ea_a108_1062e5c8a9d3row3_col7\" class=\"data row3 col7\" >0.935262</td> \n",
       "        <td id=\"T_33065a86_0137_11ea_a108_1062e5c8a9d3row3_col8\" class=\"data row3 col8\" >0.948415</td> \n",
       "        <td id=\"T_33065a86_0137_11ea_a108_1062e5c8a9d3row3_col9\" class=\"data row3 col9\" >0.473455</td> \n",
       "        <td id=\"T_33065a86_0137_11ea_a108_1062e5c8a9d3row3_col10\" class=\"data row3 col10\" >0.642904</td> \n",
       "        <td id=\"T_33065a86_0137_11ea_a108_1062e5c8a9d3row3_col11\" class=\"data row3 col11\" >-0.181183</td> \n",
       "    </tr>    <tr> \n",
       "        <th id=\"T_33065a86_0137_11ea_a108_1062e5c8a9d3level0_row4\" class=\"row_heading level0 row4\" >NOx(GT)</th> \n",
       "        <td id=\"T_33065a86_0137_11ea_a108_1062e5c8a9d3row4_col0\" class=\"data row4 col0\" >0.315914</td> \n",
       "        <td id=\"T_33065a86_0137_11ea_a108_1062e5c8a9d3row4_col1\" class=\"data row4 col1\" >0.868265</td> \n",
       "        <td id=\"T_33065a86_0137_11ea_a108_1062e5c8a9d3row4_col2\" class=\"data row4 col2\" >0.657213</td> \n",
       "        <td id=\"T_33065a86_0137_11ea_a108_1062e5c8a9d3row4_col3\" class=\"data row4 col3\" >0.866541</td> \n",
       "        <td id=\"T_33065a86_0137_11ea_a108_1062e5c8a9d3row4_col4\" class=\"data row4 col4\" >1</td> \n",
       "        <td id=\"T_33065a86_0137_11ea_a108_1062e5c8a9d3row4_col5\" class=\"data row4 col5\" >0.573887</td> \n",
       "        <td id=\"T_33065a86_0137_11ea_a108_1062e5c8a9d3row4_col6\" class=\"data row4 col6\" >0.96982</td> \n",
       "        <td id=\"T_33065a86_0137_11ea_a108_1062e5c8a9d3row4_col7\" class=\"data row4 col7\" >0.745562</td> \n",
       "        <td id=\"T_33065a86_0137_11ea_a108_1062e5c8a9d3row4_col8\" class=\"data row4 col8\" >0.836358</td> \n",
       "        <td id=\"T_33065a86_0137_11ea_a108_1062e5c8a9d3row4_col9\" class=\"data row4 col9\" >0.648755</td> \n",
       "        <td id=\"T_33065a86_0137_11ea_a108_1062e5c8a9d3row4_col10\" class=\"data row4 col10\" >0.872924</td> \n",
       "        <td id=\"T_33065a86_0137_11ea_a108_1062e5c8a9d3row4_col11\" class=\"data row4 col11\" >0.0683182</td> \n",
       "    </tr>    <tr> \n",
       "        <th id=\"T_33065a86_0137_11ea_a108_1062e5c8a9d3level0_row5\" class=\"row_heading level0 row5\" >PT08.S3(NOx)</th> \n",
       "        <td id=\"T_33065a86_0137_11ea_a108_1062e5c8a9d3row5_col0\" class=\"data row5 col0\" >-0.167263</td> \n",
       "        <td id=\"T_33065a86_0137_11ea_a108_1062e5c8a9d3row5_col1\" class=\"data row5 col1\" >0.615524</td> \n",
       "        <td id=\"T_33065a86_0137_11ea_a108_1062e5c8a9d3row5_col2\" class=\"data row5 col2\" >0.100777</td> \n",
       "        <td id=\"T_33065a86_0137_11ea_a108_1062e5c8a9d3row5_col3\" class=\"data row5 col3\" >0.520237</td> \n",
       "        <td id=\"T_33065a86_0137_11ea_a108_1062e5c8a9d3row5_col4\" class=\"data row5 col4\" >0.573887</td> \n",
       "        <td id=\"T_33065a86_0137_11ea_a108_1062e5c8a9d3row5_col5\" class=\"data row5 col5\" >1</td> \n",
       "        <td id=\"T_33065a86_0137_11ea_a108_1062e5c8a9d3row5_col6\" class=\"data row5 col6\" >0.650396</td> \n",
       "        <td id=\"T_33065a86_0137_11ea_a108_1062e5c8a9d3row5_col7\" class=\"data row5 col7\" >0.602563</td> \n",
       "        <td id=\"T_33065a86_0137_11ea_a108_1062e5c8a9d3row5_col8\" class=\"data row5 col8\" >0.384679</td> \n",
       "        <td id=\"T_33065a86_0137_11ea_a108_1062e5c8a9d3row5_col9\" class=\"data row5 col9\" >0.438475</td> \n",
       "        <td id=\"T_33065a86_0137_11ea_a108_1062e5c8a9d3row5_col10\" class=\"data row5 col10\" >0.64965</td> \n",
       "        <td id=\"T_33065a86_0137_11ea_a108_1062e5c8a9d3row5_col11\" class=\"data row5 col11\" >-0.15998</td> \n",
       "    </tr>    <tr> \n",
       "        <th id=\"T_33065a86_0137_11ea_a108_1062e5c8a9d3level0_row6\" class=\"row_heading level0 row6\" >NO2(GT)</th> \n",
       "        <td id=\"T_33065a86_0137_11ea_a108_1062e5c8a9d3row6_col0\" class=\"data row6 col0\" >0.371509</td> \n",
       "        <td id=\"T_33065a86_0137_11ea_a108_1062e5c8a9d3row6_col1\" class=\"data row6 col1\" >0.818473</td> \n",
       "        <td id=\"T_33065a86_0137_11ea_a108_1062e5c8a9d3row6_col2\" class=\"data row6 col2\" >0.69821</td> \n",
       "        <td id=\"T_33065a86_0137_11ea_a108_1062e5c8a9d3row6_col3\" class=\"data row6 col3\" >0.809814</td> \n",
       "        <td id=\"T_33065a86_0137_11ea_a108_1062e5c8a9d3row6_col4\" class=\"data row6 col4\" >0.96982</td> \n",
       "        <td id=\"T_33065a86_0137_11ea_a108_1062e5c8a9d3row6_col5\" class=\"data row6 col5\" >0.650396</td> \n",
       "        <td id=\"T_33065a86_0137_11ea_a108_1062e5c8a9d3row6_col6\" class=\"data row6 col6\" >1</td> \n",
       "        <td id=\"T_33065a86_0137_11ea_a108_1062e5c8a9d3row6_col7\" class=\"data row6 col7\" >0.71595</td> \n",
       "        <td id=\"T_33065a86_0137_11ea_a108_1062e5c8a9d3row6_col8\" class=\"data row6 col8\" >0.748998</td> \n",
       "        <td id=\"T_33065a86_0137_11ea_a108_1062e5c8a9d3row6_col9\" class=\"data row6 col9\" >0.752888</td> \n",
       "        <td id=\"T_33065a86_0137_11ea_a108_1062e5c8a9d3row6_col10\" class=\"data row6 col10\" >0.919868</td> \n",
       "        <td id=\"T_33065a86_0137_11ea_a108_1062e5c8a9d3row6_col11\" class=\"data row6 col11\" >0.171673</td> \n",
       "    </tr>    <tr> \n",
       "        <th id=\"T_33065a86_0137_11ea_a108_1062e5c8a9d3level0_row7\" class=\"row_heading level0 row7\" >PT08.S4(NO2)</th> \n",
       "        <td id=\"T_33065a86_0137_11ea_a108_1062e5c8a9d3row7_col0\" class=\"data row7 col0\" >-0.114702</td> \n",
       "        <td id=\"T_33065a86_0137_11ea_a108_1062e5c8a9d3row7_col1\" class=\"data row7 col1\" >0.93657</td> \n",
       "        <td id=\"T_33065a86_0137_11ea_a108_1062e5c8a9d3row7_col2\" class=\"data row7 col2\" >0.30967</td> \n",
       "        <td id=\"T_33065a86_0137_11ea_a108_1062e5c8a9d3row7_col3\" class=\"data row7 col3\" >0.935262</td> \n",
       "        <td id=\"T_33065a86_0137_11ea_a108_1062e5c8a9d3row7_col4\" class=\"data row7 col4\" >0.745562</td> \n",
       "        <td id=\"T_33065a86_0137_11ea_a108_1062e5c8a9d3row7_col5\" class=\"data row7 col5\" >0.602563</td> \n",
       "        <td id=\"T_33065a86_0137_11ea_a108_1062e5c8a9d3row7_col6\" class=\"data row7 col6\" >0.71595</td> \n",
       "        <td id=\"T_33065a86_0137_11ea_a108_1062e5c8a9d3row7_col7\" class=\"data row7 col7\" >1</td> \n",
       "        <td id=\"T_33065a86_0137_11ea_a108_1062e5c8a9d3row7_col8\" class=\"data row7 col8\" >0.851348</td> \n",
       "        <td id=\"T_33065a86_0137_11ea_a108_1062e5c8a9d3row7_col9\" class=\"data row7 col9\" >0.43224</td> \n",
       "        <td id=\"T_33065a86_0137_11ea_a108_1062e5c8a9d3row7_col10\" class=\"data row7 col10\" >0.585841</td> \n",
       "        <td id=\"T_33065a86_0137_11ea_a108_1062e5c8a9d3row7_col11\" class=\"data row7 col11\" >-0.277717</td> \n",
       "    </tr>    <tr> \n",
       "        <th id=\"T_33065a86_0137_11ea_a108_1062e5c8a9d3level0_row8\" class=\"row_heading level0 row8\" >PT08.S5(O3)</th> \n",
       "        <td id=\"T_33065a86_0137_11ea_a108_1062e5c8a9d3row8_col0\" class=\"data row8 col0\" >0.0859369</td> \n",
       "        <td id=\"T_33065a86_0137_11ea_a108_1062e5c8a9d3row8_col1\" class=\"data row8 col1\" >0.933789</td> \n",
       "        <td id=\"T_33065a86_0137_11ea_a108_1062e5c8a9d3row8_col2\" class=\"data row8 col2\" >0.454053</td> \n",
       "        <td id=\"T_33065a86_0137_11ea_a108_1062e5c8a9d3row8_col3\" class=\"data row8 col3\" >0.948415</td> \n",
       "        <td id=\"T_33065a86_0137_11ea_a108_1062e5c8a9d3row8_col4\" class=\"data row8 col4\" >0.836358</td> \n",
       "        <td id=\"T_33065a86_0137_11ea_a108_1062e5c8a9d3row8_col5\" class=\"data row8 col5\" >0.384679</td> \n",
       "        <td id=\"T_33065a86_0137_11ea_a108_1062e5c8a9d3row8_col6\" class=\"data row8 col6\" >0.748998</td> \n",
       "        <td id=\"T_33065a86_0137_11ea_a108_1062e5c8a9d3row8_col7\" class=\"data row8 col7\" >0.851348</td> \n",
       "        <td id=\"T_33065a86_0137_11ea_a108_1062e5c8a9d3row8_col8\" class=\"data row8 col8\" >1</td> \n",
       "        <td id=\"T_33065a86_0137_11ea_a108_1062e5c8a9d3row8_col9\" class=\"data row8 col9\" >0.357678</td> \n",
       "        <td id=\"T_33065a86_0137_11ea_a108_1062e5c8a9d3row8_col10\" class=\"data row8 col10\" >0.591161</td> \n",
       "        <td id=\"T_33065a86_0137_11ea_a108_1062e5c8a9d3row8_col11\" class=\"data row8 col11\" >-0.204298</td> \n",
       "    </tr>    <tr> \n",
       "        <th id=\"T_33065a86_0137_11ea_a108_1062e5c8a9d3level0_row9\" class=\"row_heading level0 row9\" >T</th> \n",
       "        <td id=\"T_33065a86_0137_11ea_a108_1062e5c8a9d3row9_col0\" class=\"data row9 col0\" >0.679276</td> \n",
       "        <td id=\"T_33065a86_0137_11ea_a108_1062e5c8a9d3row9_col1\" class=\"data row9 col1\" >0.420662</td> \n",
       "        <td id=\"T_33065a86_0137_11ea_a108_1062e5c8a9d3row9_col2\" class=\"data row9 col2\" >0.850934</td> \n",
       "        <td id=\"T_33065a86_0137_11ea_a108_1062e5c8a9d3row9_col3\" class=\"data row9 col3\" >0.473455</td> \n",
       "        <td id=\"T_33065a86_0137_11ea_a108_1062e5c8a9d3row9_col4\" class=\"data row9 col4\" >0.648755</td> \n",
       "        <td id=\"T_33065a86_0137_11ea_a108_1062e5c8a9d3row9_col5\" class=\"data row9 col5\" >0.438475</td> \n",
       "        <td id=\"T_33065a86_0137_11ea_a108_1062e5c8a9d3row9_col6\" class=\"data row9 col6\" >0.752888</td> \n",
       "        <td id=\"T_33065a86_0137_11ea_a108_1062e5c8a9d3row9_col7\" class=\"data row9 col7\" >0.43224</td> \n",
       "        <td id=\"T_33065a86_0137_11ea_a108_1062e5c8a9d3row9_col8\" class=\"data row9 col8\" >0.357678</td> \n",
       "        <td id=\"T_33065a86_0137_11ea_a108_1062e5c8a9d3row9_col9\" class=\"data row9 col9\" >1</td> \n",
       "        <td id=\"T_33065a86_0137_11ea_a108_1062e5c8a9d3row9_col10\" class=\"data row9 col10\" >0.805688</td> \n",
       "        <td id=\"T_33065a86_0137_11ea_a108_1062e5c8a9d3row9_col11\" class=\"data row9 col11\" >0.666802</td> \n",
       "    </tr>    <tr> \n",
       "        <th id=\"T_33065a86_0137_11ea_a108_1062e5c8a9d3level0_row10\" class=\"row_heading level0 row10\" >RH</th> \n",
       "        <td id=\"T_33065a86_0137_11ea_a108_1062e5c8a9d3row10_col0\" class=\"data row10 col0\" >0.469728</td> \n",
       "        <td id=\"T_33065a86_0137_11ea_a108_1062e5c8a9d3row10_col1\" class=\"data row10 col1\" >0.675106</td> \n",
       "        <td id=\"T_33065a86_0137_11ea_a108_1062e5c8a9d3row10_col2\" class=\"data row10 col2\" >0.718735</td> \n",
       "        <td id=\"T_33065a86_0137_11ea_a108_1062e5c8a9d3row10_col3\" class=\"data row10 col3\" >0.642904</td> \n",
       "        <td id=\"T_33065a86_0137_11ea_a108_1062e5c8a9d3row10_col4\" class=\"data row10 col4\" >0.872924</td> \n",
       "        <td id=\"T_33065a86_0137_11ea_a108_1062e5c8a9d3row10_col5\" class=\"data row10 col5\" >0.64965</td> \n",
       "        <td id=\"T_33065a86_0137_11ea_a108_1062e5c8a9d3row10_col6\" class=\"data row10 col6\" >0.919868</td> \n",
       "        <td id=\"T_33065a86_0137_11ea_a108_1062e5c8a9d3row10_col7\" class=\"data row10 col7\" >0.585841</td> \n",
       "        <td id=\"T_33065a86_0137_11ea_a108_1062e5c8a9d3row10_col8\" class=\"data row10 col8\" >0.591161</td> \n",
       "        <td id=\"T_33065a86_0137_11ea_a108_1062e5c8a9d3row10_col9\" class=\"data row10 col9\" >0.805688</td> \n",
       "        <td id=\"T_33065a86_0137_11ea_a108_1062e5c8a9d3row10_col10\" class=\"data row10 col10\" >1</td> \n",
       "        <td id=\"T_33065a86_0137_11ea_a108_1062e5c8a9d3row10_col11\" class=\"data row10 col11\" >0.379783</td> \n",
       "    </tr>    <tr> \n",
       "        <th id=\"T_33065a86_0137_11ea_a108_1062e5c8a9d3level0_row11\" class=\"row_heading level0 row11\" >AH</th> \n",
       "        <td id=\"T_33065a86_0137_11ea_a108_1062e5c8a9d3row11_col0\" class=\"data row11 col0\" >0.899989</td> \n",
       "        <td id=\"T_33065a86_0137_11ea_a108_1062e5c8a9d3row11_col1\" class=\"data row11 col1\" >-0.26428</td> \n",
       "        <td id=\"T_33065a86_0137_11ea_a108_1062e5c8a9d3row11_col2\" class=\"data row11 col2\" >0.730289</td> \n",
       "        <td id=\"T_33065a86_0137_11ea_a108_1062e5c8a9d3row11_col3\" class=\"data row11 col3\" >-0.181183</td> \n",
       "        <td id=\"T_33065a86_0137_11ea_a108_1062e5c8a9d3row11_col4\" class=\"data row11 col4\" >0.0683182</td> \n",
       "        <td id=\"T_33065a86_0137_11ea_a108_1062e5c8a9d3row11_col5\" class=\"data row11 col5\" >-0.15998</td> \n",
       "        <td id=\"T_33065a86_0137_11ea_a108_1062e5c8a9d3row11_col6\" class=\"data row11 col6\" >0.171673</td> \n",
       "        <td id=\"T_33065a86_0137_11ea_a108_1062e5c8a9d3row11_col7\" class=\"data row11 col7\" >-0.277717</td> \n",
       "        <td id=\"T_33065a86_0137_11ea_a108_1062e5c8a9d3row11_col8\" class=\"data row11 col8\" >-0.204298</td> \n",
       "        <td id=\"T_33065a86_0137_11ea_a108_1062e5c8a9d3row11_col9\" class=\"data row11 col9\" >0.666802</td> \n",
       "        <td id=\"T_33065a86_0137_11ea_a108_1062e5c8a9d3row11_col10\" class=\"data row11 col10\" >0.379783</td> \n",
       "        <td id=\"T_33065a86_0137_11ea_a108_1062e5c8a9d3row11_col11\" class=\"data row11 col11\" >1</td> \n",
       "    </tr></tbody> \n",
       "</table> "
      ],
      "text/plain": [
       "<pandas.io.formats.style.Styler at 0x202a83c53c8>"
      ]
     },
     "execution_count": 227,
     "metadata": {},
     "output_type": "execute_result"
    }
   ],
   "source": [
    "corr = df_act.corr()\n",
    "corr.style.background_gradient(cmap='coolwarm')"
   ]
  },
  {
   "cell_type": "markdown",
   "metadata": {},
   "source": [
    "# Feature Scaling"
   ]
  },
  {
   "cell_type": "code",
   "execution_count": 228,
   "metadata": {},
   "outputs": [
    {
     "data": {
      "text/html": [
       "<div>\n",
       "<style scoped>\n",
       "    .dataframe tbody tr th:only-of-type {\n",
       "        vertical-align: middle;\n",
       "    }\n",
       "\n",
       "    .dataframe tbody tr th {\n",
       "        vertical-align: top;\n",
       "    }\n",
       "\n",
       "    .dataframe thead th {\n",
       "        text-align: right;\n",
       "    }\n",
       "</style>\n",
       "<table border=\"1\" class=\"dataframe\">\n",
       "  <thead>\n",
       "    <tr style=\"text-align: right;\">\n",
       "      <th></th>\n",
       "      <th>0</th>\n",
       "      <th>1</th>\n",
       "      <th>2</th>\n",
       "      <th>3</th>\n",
       "      <th>4</th>\n",
       "      <th>5</th>\n",
       "      <th>6</th>\n",
       "      <th>7</th>\n",
       "      <th>8</th>\n",
       "      <th>9</th>\n",
       "      <th>10</th>\n",
       "      <th>11</th>\n",
       "    </tr>\n",
       "  </thead>\n",
       "  <tbody>\n",
       "    <tr>\n",
       "      <th>0</th>\n",
       "      <td>-0.047480</td>\n",
       "      <td>0.996190</td>\n",
       "      <td>0.221753</td>\n",
       "      <td>0.652196</td>\n",
       "      <td>0.353498</td>\n",
       "      <td>1.022904</td>\n",
       "      <td>0.418512</td>\n",
       "      <td>0.869666</td>\n",
       "      <td>0.802365</td>\n",
       "      <td>-0.005854</td>\n",
       "      <td>0.318106</td>\n",
       "      <td>-0.479861</td>\n",
       "    </tr>\n",
       "    <tr>\n",
       "      <th>1</th>\n",
       "      <td>-0.208560</td>\n",
       "      <td>0.858273</td>\n",
       "      <td>0.060275</td>\n",
       "      <td>0.451107</td>\n",
       "      <td>0.108475</td>\n",
       "      <td>1.317484</td>\n",
       "      <td>0.296794</td>\n",
       "      <td>0.669960</td>\n",
       "      <td>0.267960</td>\n",
       "      <td>-0.021763</td>\n",
       "      <td>0.301371</td>\n",
       "      <td>-0.505131</td>\n",
       "    </tr>\n",
       "    <tr>\n",
       "      <th>2</th>\n",
       "      <td>-0.150044</td>\n",
       "      <td>1.081374</td>\n",
       "      <td>0.030499</td>\n",
       "      <td>0.415751</td>\n",
       "      <td>0.231931</td>\n",
       "      <td>1.232605</td>\n",
       "      <td>0.423728</td>\n",
       "      <td>0.663953</td>\n",
       "      <td>0.452113</td>\n",
       "      <td>-0.101096</td>\n",
       "      <td>0.384922</td>\n",
       "      <td>-0.485709</td>\n",
       "    </tr>\n",
       "    <tr>\n",
       "      <th>3</th>\n",
       "      <td>-0.150044</td>\n",
       "      <td>1.028641</td>\n",
       "      <td>0.045549</td>\n",
       "      <td>0.435639</td>\n",
       "      <td>0.371727</td>\n",
       "      <td>1.112776</td>\n",
       "      <td>0.463880</td>\n",
       "      <td>0.707498</td>\n",
       "      <td>0.685013</td>\n",
       "      <td>-0.157188</td>\n",
       "      <td>0.455884</td>\n",
       "      <td>-0.458148</td>\n",
       "    </tr>\n",
       "    <tr>\n",
       "      <th>4</th>\n",
       "      <td>-0.345560</td>\n",
       "      <td>0.817710</td>\n",
       "      <td>-0.192326</td>\n",
       "      <td>0.188144</td>\n",
       "      <td>0.231931</td>\n",
       "      <td>1.394874</td>\n",
       "      <td>0.434024</td>\n",
       "      <td>0.566352</td>\n",
       "      <td>0.517109</td>\n",
       "      <td>-0.144336</td>\n",
       "      <td>0.451379</td>\n",
       "      <td>-0.456602</td>\n",
       "    </tr>\n",
       "  </tbody>\n",
       "</table>\n",
       "</div>"
      ],
      "text/plain": [
       "         0         1         2         3         4         5         6   \\\n",
       "0 -0.047480  0.996190  0.221753  0.652196  0.353498  1.022904  0.418512   \n",
       "1 -0.208560  0.858273  0.060275  0.451107  0.108475  1.317484  0.296794   \n",
       "2 -0.150044  1.081374  0.030499  0.415751  0.231931  1.232605  0.423728   \n",
       "3 -0.150044  1.028641  0.045549  0.435639  0.371727  1.112776  0.463880   \n",
       "4 -0.345560  0.817710 -0.192326  0.188144  0.231931  1.394874  0.434024   \n",
       "\n",
       "         7         8         9         10        11  \n",
       "0  0.869666  0.802365 -0.005854  0.318106 -0.479861  \n",
       "1  0.669960  0.267960 -0.021763  0.301371 -0.505131  \n",
       "2  0.663953  0.452113 -0.101096  0.384922 -0.485709  \n",
       "3  0.707498  0.685013 -0.157188  0.455884 -0.458148  \n",
       "4  0.566352  0.517109 -0.144336  0.451379 -0.456602  "
      ]
     },
     "execution_count": 228,
     "metadata": {},
     "output_type": "execute_result"
    }
   ],
   "source": [
    "#normalize the dataset\n",
    "from sklearn.preprocessing import StandardScaler\n",
    "scaler = StandardScaler()\n",
    "df_final = pd.DataFrame(scaler.fit_transform(df_act))\n",
    "df_final.head()"
   ]
  },
  {
   "cell_type": "markdown",
   "metadata": {},
   "source": [
    "# Drop Duplicates"
   ]
  },
  {
   "cell_type": "code",
   "execution_count": 229,
   "metadata": {},
   "outputs": [
    {
     "name": "stdout",
     "output_type": "stream",
     "text": [
      "(9471, 12)\n",
      "(6934, 12)\n"
     ]
    }
   ],
   "source": [
    "print(df_final.shape)\n",
    "df_final = df_final.drop_duplicates()\n",
    "print(df_final.shape)"
   ]
  },
  {
   "cell_type": "markdown",
   "metadata": {},
   "source": [
    "## Import all the PYOD Algos"
   ]
  },
  {
   "cell_type": "code",
   "execution_count": 230,
   "metadata": {},
   "outputs": [],
   "source": [
    "# Import models\n",
    "from pyod.models.abod import ABOD\n",
    "from pyod.models.cblof import CBLOF\n",
    "from pyod.models.feature_bagging import FeatureBagging\n",
    "from pyod.models.hbos import HBOS\n",
    "from pyod.models.iforest import IForest\n",
    "from pyod.models.knn import KNN\n",
    "from pyod.models.lof import LOF"
   ]
  },
  {
   "cell_type": "code",
   "execution_count": 231,
   "metadata": {},
   "outputs": [],
   "source": [
    "random_state = np.random.RandomState(42)\n",
    "outliers_fraction = 0.05\n",
    "# Define seven outlier detection tools to be compared\n",
    "classifiers = {\n",
    "#         'Angle-based Outlier Detector (ABOD)': ABOD(contamination=outliers_fraction),\n",
    "#         'Cluster-based Local Outlier Factor (CBLOF)':CBLOF(contamination=outliers_fraction,check_estimator=False, random_state=random_state),\n",
    "#         'Feature Bagging':FeatureBagging(LOF(n_neighbors=35),contamination=outliers_fraction,check_estimator=False,random_state=random_state),\n",
    "#         'Histogram-base Outlier Detection (HBOS)': HBOS(contamination=outliers_fraction),\n",
    "        'Isolation Forest': IForest(contamination=outliers_fraction,random_state=random_state),\n",
    "#         'K Nearest Neighbors (KNN)': KNN(contamination=outliers_fraction),\n",
    "#         'Average KNN': KNN(method='mean',contamination=outliers_fraction)\n",
    "}"
   ]
  },
  {
   "cell_type": "code",
   "execution_count": 232,
   "metadata": {},
   "outputs": [],
   "source": [
    "X = df_final.copy(deep=True)"
   ]
  },
  {
   "cell_type": "code",
   "execution_count": 233,
   "metadata": {},
   "outputs": [],
   "source": [
    "from sklearn.decomposition import PCA"
   ]
  },
  {
   "cell_type": "code",
   "execution_count": 234,
   "metadata": {},
   "outputs": [],
   "source": [
    "# aa , bb, cc, dd, ee, ff, gg, hh, ii, jj, kk, ll = np.meshgrid(np.linspace(0,1 , 200), np.linspace(0, 1, 200), np.linspace(0, 1, 200), np.linspace(0, 1, 200), np.linspace(0, 1, 200), np.linspace(0, 1, 200), np.linspace(0, 1, 200), np.linspace(0, 1, 200), np.linspace(0, 1, 200), np.linspace(0, 1, 200), np.linspace(0, 1, 200), np.linspace(0, 1, 200))\n",
    "# aa\n",
    "xx, yy = np.meshgrid(np.linspace(0,1 , 200), np.linspace(0, 1, 200))"
   ]
  },
  {
   "cell_type": "code",
   "execution_count": 235,
   "metadata": {},
   "outputs": [
    {
     "data": {
      "text/plain": [
       "(6934, 12)"
      ]
     },
     "execution_count": 235,
     "metadata": {},
     "output_type": "execute_result"
    }
   ],
   "source": [
    "X.shape"
   ]
  },
  {
   "cell_type": "code",
   "execution_count": 236,
   "metadata": {},
   "outputs": [
    {
     "name": "stdout",
     "output_type": "stream",
     "text": [
      "<class 'sklearn.decomposition.pca.PCA'>\n",
      "     PC1_2d    PC2_2d\n",
      "0 -0.422143 -0.114524\n",
      "1  0.309111 -0.210896\n",
      "2  0.086880 -0.025581\n",
      "3 -0.121417  0.096972\n",
      "4  0.447365  0.083416\n",
      "(6934, 2)\n"
     ]
    }
   ],
   "source": [
    "#PCA with two principal components\n",
    "pca_2d = PCA(n_components=2)\n",
    "    \n",
    "PCs_2d = pd.DataFrame(pca_2d.fit_transform(df_final))\n",
    "    \n",
    "PCs_2d.columns = [\"PC1_2d\", \"PC2_2d\"]\n",
    "print(type(pca_2d))\n",
    "print(PCs_2d.head())\n",
    "print(PCs_2d.shape)\n",
    "# pandas.DataFrame(pca.transform(df), columns=['PCA%i' % i for i in range(n_components)], index=df.index)"
   ]
  },
  {
   "cell_type": "code",
   "execution_count": 237,
   "metadata": {},
   "outputs": [
    {
     "name": "stdout",
     "output_type": "stream",
     "text": [
      "OUTLIERS :  347 INLIERS :  6587 Isolation Forest\n"
     ]
    },
    {
     "data": {
      "text/plain": [
       "<Figure size 720x720 with 0 Axes>"
      ]
     },
     "metadata": {},
     "output_type": "display_data"
    }
   ],
   "source": [
    "\n",
    "\n",
    "for i, (clf_name, clf) in enumerate(classifiers.items()):\n",
    "    clf.fit(PCs_2d)\n",
    "    # predict raw anomaly score\n",
    "    scores_pred = clf.decision_function(PCs_2d) * -1\n",
    "        \n",
    "    # prediction of a datapoint category outlier or inlier\n",
    "    y_pred = clf.predict(PCs_2d)\n",
    "    n_inliers = len(y_pred) - np.count_nonzero(y_pred)\n",
    "    n_outliers = np.count_nonzero(y_pred == 1)\n",
    "    plt.figure(figsize=(10, 10))\n",
    "    \n",
    "    # copy of dataframe\n",
    "    dfx = PCs_2d.copy(deep=True)\n",
    "    dfx['outlier'] = y_pred.tolist()\n",
    "    \n",
    "    dfx = pd.concat([dfx,PCs_2d], axis=1, join='inner')\n",
    "    \n",
    "    #Note that all of the DataFrames below are sub-DataFrames of 'plotX'.\n",
    "    #This is because we intend to plot the values contained within each of these DataFrames.\n",
    "\n",
    "#     inliers = X[X[\"outlier\"] == 0]\n",
    "#     outliers = X[X[\"outlier\"] == 1]\n",
    "    # IX1 - inlier feature 1,  IX2 - inlier feature 2\n",
    "    IX1 =  np.array(dfx['PC1_2d'][dfx['outlier'] == 0]).reshape(-1,1)\n",
    "    IX2 =  np.array(dfx['PC2_2d'][dfx['outlier'] == 0]).reshape(-1,1)\n",
    "    \n",
    "    # OX1 - outlier feature 1, OX2 - outlier feature 2\n",
    "    OX1 =  dfx['PC1_2d'][dfx['outlier'] == 1].values.reshape(-1,1)\n",
    "    OX2 =  dfx['PC2_2d'][dfx['outlier'] == 1].values.reshape(-1,1)\n",
    "         \n",
    "    print('OUTLIERS : ',n_outliers,'INLIERS : ',n_inliers, clf_name)\n",
    "        \n",
    "    # threshold value to consider a datapoint inlier or outlier\n",
    "    threshold = stats.scoreatpercentile(scores_pred,100 * outliers_fraction)\n",
    "        \n",
    "    # decision function calculates the raw anomaly score for every point\n",
    "#     Z = clf.decision_function(np.c_[xx.ravel(), yy.ravel()]) * -1\n",
    "#     Z = Z.reshape(xx.shape)\n",
    "          \n",
    "#     # fill blue map colormap from minimum anomaly score to threshold value\n",
    "#     plt.contourf(xx, yy, Z, levels=np.linspace(Z.min(), threshold, 7),cmap=plt.cm.Blues_r)\n",
    "        \n",
    "#     # draw red contour line where anomaly score is equal to thresold\n",
    "#     a = plt.contour(xx, yy, Z, levels=[threshold],linewidths=2, colors='red')\n",
    "        \n",
    "#     # fill orange contour lines where range of anomaly score is from threshold to maximum anomaly score\n",
    "# #     plt.contourf(xx, yy, Z, levels=[threshold, Z.max()],colors='orange')\n",
    "        \n",
    "#     b = plt.scatter(IX1,IX2, c='white',s=20, edgecolor='k')\n",
    "    \n",
    "#     c = plt.scatter(OX1,OX2, c='black',s=20, edgecolor='k')\n",
    "       \n",
    "#     plt.axis('tight')  \n",
    "    \n",
    "#     # loc=2 is used for the top left corner \n",
    "#     plt.legend(\n",
    "#         [ a.collections[0],b,c],\n",
    "#         ['learned decision function', 'inliers','outliers'],\n",
    "#         prop=matplotlib.font_manager.FontProperties(size=20),\n",
    "#         loc=2)\n",
    "      \n",
    "#     plt.xlim((0, 1))\n",
    "#     plt.ylim((0, 1))\n",
    "#     plt.title(clf_name)\n",
    "#     plt.show()"
   ]
  },
  {
   "cell_type": "code",
   "execution_count": 238,
   "metadata": {},
   "outputs": [
    {
     "data": {
      "text/html": [
       "<div>\n",
       "<style scoped>\n",
       "    .dataframe tbody tr th:only-of-type {\n",
       "        vertical-align: middle;\n",
       "    }\n",
       "\n",
       "    .dataframe tbody tr th {\n",
       "        vertical-align: top;\n",
       "    }\n",
       "\n",
       "    .dataframe thead th {\n",
       "        text-align: right;\n",
       "    }\n",
       "</style>\n",
       "<table border=\"1\" class=\"dataframe\">\n",
       "  <thead>\n",
       "    <tr style=\"text-align: right;\">\n",
       "      <th></th>\n",
       "      <th>PC1_2d</th>\n",
       "      <th>PC2_2d</th>\n",
       "      <th>outlier</th>\n",
       "      <th>PC1_2d</th>\n",
       "      <th>PC2_2d</th>\n",
       "    </tr>\n",
       "  </thead>\n",
       "  <tbody>\n",
       "    <tr>\n",
       "      <th>0</th>\n",
       "      <td>-0.422143</td>\n",
       "      <td>-0.114524</td>\n",
       "      <td>0</td>\n",
       "      <td>-0.422143</td>\n",
       "      <td>-0.114524</td>\n",
       "    </tr>\n",
       "    <tr>\n",
       "      <th>1</th>\n",
       "      <td>0.309111</td>\n",
       "      <td>-0.210896</td>\n",
       "      <td>0</td>\n",
       "      <td>0.309111</td>\n",
       "      <td>-0.210896</td>\n",
       "    </tr>\n",
       "    <tr>\n",
       "      <th>2</th>\n",
       "      <td>0.086880</td>\n",
       "      <td>-0.025581</td>\n",
       "      <td>0</td>\n",
       "      <td>0.086880</td>\n",
       "      <td>-0.025581</td>\n",
       "    </tr>\n",
       "    <tr>\n",
       "      <th>3</th>\n",
       "      <td>-0.121417</td>\n",
       "      <td>0.096972</td>\n",
       "      <td>0</td>\n",
       "      <td>-0.121417</td>\n",
       "      <td>0.096972</td>\n",
       "    </tr>\n",
       "    <tr>\n",
       "      <th>4</th>\n",
       "      <td>0.447365</td>\n",
       "      <td>0.083416</td>\n",
       "      <td>0</td>\n",
       "      <td>0.447365</td>\n",
       "      <td>0.083416</td>\n",
       "    </tr>\n",
       "    <tr>\n",
       "      <th>5</th>\n",
       "      <td>1.071075</td>\n",
       "      <td>0.010965</td>\n",
       "      <td>0</td>\n",
       "      <td>1.071075</td>\n",
       "      <td>0.010965</td>\n",
       "    </tr>\n",
       "    <tr>\n",
       "      <th>6</th>\n",
       "      <td>1.597377</td>\n",
       "      <td>-0.109085</td>\n",
       "      <td>0</td>\n",
       "      <td>1.597377</td>\n",
       "      <td>-0.109085</td>\n",
       "    </tr>\n",
       "    <tr>\n",
       "      <th>7</th>\n",
       "      <td>1.691910</td>\n",
       "      <td>-0.078846</td>\n",
       "      <td>0</td>\n",
       "      <td>1.691910</td>\n",
       "      <td>-0.078846</td>\n",
       "    </tr>\n",
       "    <tr>\n",
       "      <th>8</th>\n",
       "      <td>2.182931</td>\n",
       "      <td>-0.151793</td>\n",
       "      <td>0</td>\n",
       "      <td>2.182931</td>\n",
       "      <td>-0.151793</td>\n",
       "    </tr>\n",
       "    <tr>\n",
       "      <th>9</th>\n",
       "      <td>-0.313864</td>\n",
       "      <td>-1.164331</td>\n",
       "      <td>0</td>\n",
       "      <td>-0.313864</td>\n",
       "      <td>-1.164331</td>\n",
       "    </tr>\n",
       "    <tr>\n",
       "      <th>10</th>\n",
       "      <td>3.476533</td>\n",
       "      <td>0.428037</td>\n",
       "      <td>1</td>\n",
       "      <td>3.476533</td>\n",
       "      <td>0.428037</td>\n",
       "    </tr>\n",
       "    <tr>\n",
       "      <th>11</th>\n",
       "      <td>3.247839</td>\n",
       "      <td>-0.446599</td>\n",
       "      <td>1</td>\n",
       "      <td>3.247839</td>\n",
       "      <td>-0.446599</td>\n",
       "    </tr>\n",
       "    <tr>\n",
       "      <th>12</th>\n",
       "      <td>2.753500</td>\n",
       "      <td>-0.232744</td>\n",
       "      <td>0</td>\n",
       "      <td>2.753500</td>\n",
       "      <td>-0.232744</td>\n",
       "    </tr>\n",
       "    <tr>\n",
       "      <th>13</th>\n",
       "      <td>1.655077</td>\n",
       "      <td>0.030445</td>\n",
       "      <td>0</td>\n",
       "      <td>1.655077</td>\n",
       "      <td>0.030445</td>\n",
       "    </tr>\n",
       "    <tr>\n",
       "      <th>14</th>\n",
       "      <td>0.163938</td>\n",
       "      <td>0.125911</td>\n",
       "      <td>0</td>\n",
       "      <td>0.163938</td>\n",
       "      <td>0.125911</td>\n",
       "    </tr>\n",
       "    <tr>\n",
       "      <th>15</th>\n",
       "      <td>0.070178</td>\n",
       "      <td>-0.014614</td>\n",
       "      <td>0</td>\n",
       "      <td>0.070178</td>\n",
       "      <td>-0.014614</td>\n",
       "    </tr>\n",
       "    <tr>\n",
       "      <th>16</th>\n",
       "      <td>0.761443</td>\n",
       "      <td>0.004266</td>\n",
       "      <td>0</td>\n",
       "      <td>0.761443</td>\n",
       "      <td>0.004266</td>\n",
       "    </tr>\n",
       "    <tr>\n",
       "      <th>17</th>\n",
       "      <td>1.264048</td>\n",
       "      <td>-0.019384</td>\n",
       "      <td>0</td>\n",
       "      <td>1.264048</td>\n",
       "      <td>-0.019384</td>\n",
       "    </tr>\n",
       "    <tr>\n",
       "      <th>18</th>\n",
       "      <td>1.150152</td>\n",
       "      <td>0.016847</td>\n",
       "      <td>0</td>\n",
       "      <td>1.150152</td>\n",
       "      <td>0.016847</td>\n",
       "    </tr>\n",
       "    <tr>\n",
       "      <th>19</th>\n",
       "      <td>0.561035</td>\n",
       "      <td>0.095612</td>\n",
       "      <td>0</td>\n",
       "      <td>0.561035</td>\n",
       "      <td>0.095612</td>\n",
       "    </tr>\n",
       "    <tr>\n",
       "      <th>20</th>\n",
       "      <td>-0.336109</td>\n",
       "      <td>0.110795</td>\n",
       "      <td>0</td>\n",
       "      <td>-0.336109</td>\n",
       "      <td>0.110795</td>\n",
       "    </tr>\n",
       "    <tr>\n",
       "      <th>21</th>\n",
       "      <td>0.127401</td>\n",
       "      <td>0.109464</td>\n",
       "      <td>0</td>\n",
       "      <td>0.127401</td>\n",
       "      <td>0.109464</td>\n",
       "    </tr>\n",
       "    <tr>\n",
       "      <th>22</th>\n",
       "      <td>0.190323</td>\n",
       "      <td>0.097438</td>\n",
       "      <td>0</td>\n",
       "      <td>0.190323</td>\n",
       "      <td>0.097438</td>\n",
       "    </tr>\n",
       "    <tr>\n",
       "      <th>23</th>\n",
       "      <td>-0.384016</td>\n",
       "      <td>0.082174</td>\n",
       "      <td>0</td>\n",
       "      <td>-0.384016</td>\n",
       "      <td>0.082174</td>\n",
       "    </tr>\n",
       "    <tr>\n",
       "      <th>24</th>\n",
       "      <td>-1.650576</td>\n",
       "      <td>-0.116226</td>\n",
       "      <td>0</td>\n",
       "      <td>-1.650576</td>\n",
       "      <td>-0.116226</td>\n",
       "    </tr>\n",
       "  </tbody>\n",
       "</table>\n",
       "</div>"
      ],
      "text/plain": [
       "      PC1_2d    PC2_2d  outlier    PC1_2d    PC2_2d\n",
       "0  -0.422143 -0.114524        0 -0.422143 -0.114524\n",
       "1   0.309111 -0.210896        0  0.309111 -0.210896\n",
       "2   0.086880 -0.025581        0  0.086880 -0.025581\n",
       "3  -0.121417  0.096972        0 -0.121417  0.096972\n",
       "4   0.447365  0.083416        0  0.447365  0.083416\n",
       "5   1.071075  0.010965        0  1.071075  0.010965\n",
       "6   1.597377 -0.109085        0  1.597377 -0.109085\n",
       "7   1.691910 -0.078846        0  1.691910 -0.078846\n",
       "8   2.182931 -0.151793        0  2.182931 -0.151793\n",
       "9  -0.313864 -1.164331        0 -0.313864 -1.164331\n",
       "10  3.476533  0.428037        1  3.476533  0.428037\n",
       "11  3.247839 -0.446599        1  3.247839 -0.446599\n",
       "12  2.753500 -0.232744        0  2.753500 -0.232744\n",
       "13  1.655077  0.030445        0  1.655077  0.030445\n",
       "14  0.163938  0.125911        0  0.163938  0.125911\n",
       "15  0.070178 -0.014614        0  0.070178 -0.014614\n",
       "16  0.761443  0.004266        0  0.761443  0.004266\n",
       "17  1.264048 -0.019384        0  1.264048 -0.019384\n",
       "18  1.150152  0.016847        0  1.150152  0.016847\n",
       "19  0.561035  0.095612        0  0.561035  0.095612\n",
       "20 -0.336109  0.110795        0 -0.336109  0.110795\n",
       "21  0.127401  0.109464        0  0.127401  0.109464\n",
       "22  0.190323  0.097438        0  0.190323  0.097438\n",
       "23 -0.384016  0.082174        0 -0.384016  0.082174\n",
       "24 -1.650576 -0.116226        0 -1.650576 -0.116226"
      ]
     },
     "execution_count": 238,
     "metadata": {},
     "output_type": "execute_result"
    }
   ],
   "source": [
    "dfx.head(25)"
   ]
  },
  {
   "cell_type": "code",
   "execution_count": 239,
   "metadata": {},
   "outputs": [
    {
     "data": {
      "text/plain": [
       "(6934, 5)"
      ]
     },
     "execution_count": 239,
     "metadata": {},
     "output_type": "execute_result"
    }
   ],
   "source": [
    "dfx.shape"
   ]
  },
  {
   "cell_type": "code",
   "execution_count": 240,
   "metadata": {},
   "outputs": [
    {
     "data": {
      "text/html": [
       "<div>\n",
       "<style scoped>\n",
       "    .dataframe tbody tr th:only-of-type {\n",
       "        vertical-align: middle;\n",
       "    }\n",
       "\n",
       "    .dataframe tbody tr th {\n",
       "        vertical-align: top;\n",
       "    }\n",
       "\n",
       "    .dataframe thead th {\n",
       "        text-align: right;\n",
       "    }\n",
       "</style>\n",
       "<table border=\"1\" class=\"dataframe\">\n",
       "  <thead>\n",
       "    <tr style=\"text-align: right;\">\n",
       "      <th></th>\n",
       "      <th>CO(GT)</th>\n",
       "      <th>PT08.S1(CO)</th>\n",
       "      <th>C6H6(GT)</th>\n",
       "      <th>PT08.S2(NMHC)</th>\n",
       "      <th>NOx(GT)</th>\n",
       "      <th>PT08.S3(NOx)</th>\n",
       "      <th>NO2(GT)</th>\n",
       "      <th>PT08.S4(NO2)</th>\n",
       "      <th>PT08.S5(O3)</th>\n",
       "      <th>T</th>\n",
       "      <th>RH</th>\n",
       "      <th>AH</th>\n",
       "    </tr>\n",
       "  </thead>\n",
       "  <tbody>\n",
       "    <tr>\n",
       "      <th>0</th>\n",
       "      <td>0.955511</td>\n",
       "      <td>1360.0</td>\n",
       "      <td>2.476538</td>\n",
       "      <td>1046.0</td>\n",
       "      <td>5.111988</td>\n",
       "      <td>1056.0</td>\n",
       "      <td>4.727388</td>\n",
       "      <td>1692.0</td>\n",
       "      <td>1268.0</td>\n",
       "      <td>2.610070</td>\n",
       "      <td>3.889777</td>\n",
       "      <td>-0.277336</td>\n",
       "    </tr>\n",
       "    <tr>\n",
       "      <th>1</th>\n",
       "      <td>0.693147</td>\n",
       "      <td>1292.0</td>\n",
       "      <td>2.240710</td>\n",
       "      <td>955.0</td>\n",
       "      <td>4.634729</td>\n",
       "      <td>1174.0</td>\n",
       "      <td>4.521789</td>\n",
       "      <td>1559.0</td>\n",
       "      <td>972.0</td>\n",
       "      <td>2.587764</td>\n",
       "      <td>3.864931</td>\n",
       "      <td>-0.320894</td>\n",
       "    </tr>\n",
       "    <tr>\n",
       "      <th>2</th>\n",
       "      <td>0.788457</td>\n",
       "      <td>1402.0</td>\n",
       "      <td>2.197225</td>\n",
       "      <td>939.0</td>\n",
       "      <td>4.875197</td>\n",
       "      <td>1140.0</td>\n",
       "      <td>4.736198</td>\n",
       "      <td>1555.0</td>\n",
       "      <td>1074.0</td>\n",
       "      <td>2.476538</td>\n",
       "      <td>3.988984</td>\n",
       "      <td>-0.287415</td>\n",
       "    </tr>\n",
       "    <tr>\n",
       "      <th>3</th>\n",
       "      <td>0.788457</td>\n",
       "      <td>1376.0</td>\n",
       "      <td>2.219203</td>\n",
       "      <td>948.0</td>\n",
       "      <td>5.147494</td>\n",
       "      <td>1092.0</td>\n",
       "      <td>4.804021</td>\n",
       "      <td>1584.0</td>\n",
       "      <td>1203.0</td>\n",
       "      <td>2.397895</td>\n",
       "      <td>4.094345</td>\n",
       "      <td>-0.239908</td>\n",
       "    </tr>\n",
       "    <tr>\n",
       "      <th>4</th>\n",
       "      <td>0.470004</td>\n",
       "      <td>1272.0</td>\n",
       "      <td>1.871802</td>\n",
       "      <td>836.0</td>\n",
       "      <td>4.875197</td>\n",
       "      <td>1205.0</td>\n",
       "      <td>4.753590</td>\n",
       "      <td>1490.0</td>\n",
       "      <td>1110.0</td>\n",
       "      <td>2.415914</td>\n",
       "      <td>4.087656</td>\n",
       "      <td>-0.237242</td>\n",
       "    </tr>\n",
       "  </tbody>\n",
       "</table>\n",
       "</div>"
      ],
      "text/plain": [
       "     CO(GT)  PT08.S1(CO)  C6H6(GT)  PT08.S2(NMHC)   NOx(GT)  PT08.S3(NOx)  \\\n",
       "0  0.955511       1360.0  2.476538         1046.0  5.111988        1056.0   \n",
       "1  0.693147       1292.0  2.240710          955.0  4.634729        1174.0   \n",
       "2  0.788457       1402.0  2.197225          939.0  4.875197        1140.0   \n",
       "3  0.788457       1376.0  2.219203          948.0  5.147494        1092.0   \n",
       "4  0.470004       1272.0  1.871802          836.0  4.875197        1205.0   \n",
       "\n",
       "    NO2(GT)  PT08.S4(NO2)  PT08.S5(O3)         T        RH        AH  \n",
       "0  4.727388        1692.0       1268.0  2.610070  3.889777 -0.277336  \n",
       "1  4.521789        1559.0        972.0  2.587764  3.864931 -0.320894  \n",
       "2  4.736198        1555.0       1074.0  2.476538  3.988984 -0.287415  \n",
       "3  4.804021        1584.0       1203.0  2.397895  4.094345 -0.239908  \n",
       "4  4.753590        1490.0       1110.0  2.415914  4.087656 -0.237242  "
      ]
     },
     "execution_count": 240,
     "metadata": {},
     "output_type": "execute_result"
    }
   ],
   "source": [
    "df_act.head()"
   ]
  },
  {
   "cell_type": "code",
   "execution_count": 241,
   "metadata": {},
   "outputs": [],
   "source": [
    "df_final['outlier'] = dfx.outlier"
   ]
  },
  {
   "cell_type": "code",
   "execution_count": 242,
   "metadata": {},
   "outputs": [
    {
     "data": {
      "text/html": [
       "<div>\n",
       "<style scoped>\n",
       "    .dataframe tbody tr th:only-of-type {\n",
       "        vertical-align: middle;\n",
       "    }\n",
       "\n",
       "    .dataframe tbody tr th {\n",
       "        vertical-align: top;\n",
       "    }\n",
       "\n",
       "    .dataframe thead th {\n",
       "        text-align: right;\n",
       "    }\n",
       "</style>\n",
       "<table border=\"1\" class=\"dataframe\">\n",
       "  <thead>\n",
       "    <tr style=\"text-align: right;\">\n",
       "      <th></th>\n",
       "      <th>0</th>\n",
       "      <th>1</th>\n",
       "      <th>2</th>\n",
       "      <th>3</th>\n",
       "      <th>4</th>\n",
       "      <th>5</th>\n",
       "      <th>6</th>\n",
       "      <th>7</th>\n",
       "      <th>8</th>\n",
       "      <th>9</th>\n",
       "      <th>10</th>\n",
       "      <th>11</th>\n",
       "      <th>outlier</th>\n",
       "    </tr>\n",
       "  </thead>\n",
       "  <tbody>\n",
       "    <tr>\n",
       "      <th>6597</th>\n",
       "      <td>-0.308339</td>\n",
       "      <td>0.132182</td>\n",
       "      <td>-0.016742</td>\n",
       "      <td>0.360506</td>\n",
       "      <td>0.696836</td>\n",
       "      <td>0.566056</td>\n",
       "      <td>0.407940</td>\n",
       "      <td>-0.145386</td>\n",
       "      <td>0.018812</td>\n",
       "      <td>0.198025</td>\n",
       "      <td>-0.257629</td>\n",
       "      <td>-0.812103</td>\n",
       "      <td>1.0</td>\n",
       "    </tr>\n",
       "    <tr>\n",
       "      <th>6654</th>\n",
       "      <td>-0.071560</td>\n",
       "      <td>0.535792</td>\n",
       "      <td>0.052952</td>\n",
       "      <td>0.442268</td>\n",
       "      <td>0.674159</td>\n",
       "      <td>0.446227</td>\n",
       "      <td>0.413249</td>\n",
       "      <td>0.064832</td>\n",
       "      <td>0.777089</td>\n",
       "      <td>-0.393299</td>\n",
       "      <td>0.458125</td>\n",
       "      <td>-0.574982</td>\n",
       "      <td>1.0</td>\n",
       "    </tr>\n",
       "    <tr>\n",
       "      <th>6655</th>\n",
       "      <td>-0.208560</td>\n",
       "      <td>0.308635</td>\n",
       "      <td>-0.258642</td>\n",
       "      <td>0.126271</td>\n",
       "      <td>0.507342</td>\n",
       "      <td>0.785743</td>\n",
       "      <td>0.357881</td>\n",
       "      <td>-0.097336</td>\n",
       "      <td>0.495444</td>\n",
       "      <td>-0.393299</td>\n",
       "      <td>0.446843</td>\n",
       "      <td>-0.584164</td>\n",
       "      <td>1.0</td>\n",
       "    </tr>\n",
       "    <tr>\n",
       "      <th>6678</th>\n",
       "      <td>-0.240052</td>\n",
       "      <td>0.410044</td>\n",
       "      <td>-0.103532</td>\n",
       "      <td>0.269906</td>\n",
       "      <td>0.720071</td>\n",
       "      <td>0.231533</td>\n",
       "      <td>0.386212</td>\n",
       "      <td>0.055823</td>\n",
       "      <td>0.666959</td>\n",
       "      <td>-0.332744</td>\n",
       "      <td>0.564500</td>\n",
       "      <td>-0.454619</td>\n",
       "      <td>1.0</td>\n",
       "    </tr>\n",
       "    <tr>\n",
       "      <th>6679</th>\n",
       "      <td>-0.208560</td>\n",
       "      <td>0.543904</td>\n",
       "      <td>0.095761</td>\n",
       "      <td>0.495302</td>\n",
       "      <td>0.748068</td>\n",
       "      <td>0.101718</td>\n",
       "      <td>0.363656</td>\n",
       "      <td>0.181954</td>\n",
       "      <td>0.721121</td>\n",
       "      <td>-0.420912</td>\n",
       "      <td>0.599858</td>\n",
       "      <td>-0.464376</td>\n",
       "      <td>1.0</td>\n",
       "    </tr>\n",
       "  </tbody>\n",
       "</table>\n",
       "</div>"
      ],
      "text/plain": [
       "             0         1         2         3         4         5         6  \\\n",
       "6597 -0.308339  0.132182 -0.016742  0.360506  0.696836  0.566056  0.407940   \n",
       "6654 -0.071560  0.535792  0.052952  0.442268  0.674159  0.446227  0.413249   \n",
       "6655 -0.208560  0.308635 -0.258642  0.126271  0.507342  0.785743  0.357881   \n",
       "6678 -0.240052  0.410044 -0.103532  0.269906  0.720071  0.231533  0.386212   \n",
       "6679 -0.208560  0.543904  0.095761  0.495302  0.748068  0.101718  0.363656   \n",
       "\n",
       "             7         8         9        10        11  outlier  \n",
       "6597 -0.145386  0.018812  0.198025 -0.257629 -0.812103      1.0  \n",
       "6654  0.064832  0.777089 -0.393299  0.458125 -0.574982      1.0  \n",
       "6655 -0.097336  0.495444 -0.393299  0.446843 -0.584164      1.0  \n",
       "6678  0.055823  0.666959 -0.332744  0.564500 -0.454619      1.0  \n",
       "6679  0.181954  0.721121 -0.420912  0.599858 -0.464376      1.0  "
      ]
     },
     "execution_count": 242,
     "metadata": {},
     "output_type": "execute_result"
    }
   ],
   "source": [
    "df_final[df_final.outlier == 1].tail(5)"
   ]
  },
  {
   "cell_type": "code",
   "execution_count": 243,
   "metadata": {},
   "outputs": [
    {
     "data": {
      "text/html": [
       "<div>\n",
       "<style scoped>\n",
       "    .dataframe tbody tr th:only-of-type {\n",
       "        vertical-align: middle;\n",
       "    }\n",
       "\n",
       "    .dataframe tbody tr th {\n",
       "        vertical-align: top;\n",
       "    }\n",
       "\n",
       "    .dataframe thead th {\n",
       "        text-align: right;\n",
       "    }\n",
       "</style>\n",
       "<table border=\"1\" class=\"dataframe\">\n",
       "  <thead>\n",
       "    <tr style=\"text-align: right;\">\n",
       "      <th></th>\n",
       "      <th>0</th>\n",
       "      <th>1</th>\n",
       "      <th>2</th>\n",
       "      <th>3</th>\n",
       "      <th>4</th>\n",
       "      <th>5</th>\n",
       "      <th>6</th>\n",
       "      <th>7</th>\n",
       "      <th>8</th>\n",
       "      <th>9</th>\n",
       "      <th>10</th>\n",
       "      <th>11</th>\n",
       "      <th>outlier</th>\n",
       "    </tr>\n",
       "  </thead>\n",
       "  <tbody>\n",
       "    <tr>\n",
       "      <th>0</th>\n",
       "      <td>-0.047480</td>\n",
       "      <td>0.996190</td>\n",
       "      <td>0.221753</td>\n",
       "      <td>0.652196</td>\n",
       "      <td>0.353498</td>\n",
       "      <td>1.022904</td>\n",
       "      <td>0.418512</td>\n",
       "      <td>0.869666</td>\n",
       "      <td>0.802365</td>\n",
       "      <td>-0.005854</td>\n",
       "      <td>0.318106</td>\n",
       "      <td>-0.479861</td>\n",
       "      <td>0.0</td>\n",
       "    </tr>\n",
       "    <tr>\n",
       "      <th>1</th>\n",
       "      <td>-0.208560</td>\n",
       "      <td>0.858273</td>\n",
       "      <td>0.060275</td>\n",
       "      <td>0.451107</td>\n",
       "      <td>0.108475</td>\n",
       "      <td>1.317484</td>\n",
       "      <td>0.296794</td>\n",
       "      <td>0.669960</td>\n",
       "      <td>0.267960</td>\n",
       "      <td>-0.021763</td>\n",
       "      <td>0.301371</td>\n",
       "      <td>-0.505131</td>\n",
       "      <td>0.0</td>\n",
       "    </tr>\n",
       "    <tr>\n",
       "      <th>2</th>\n",
       "      <td>-0.150044</td>\n",
       "      <td>1.081374</td>\n",
       "      <td>0.030499</td>\n",
       "      <td>0.415751</td>\n",
       "      <td>0.231931</td>\n",
       "      <td>1.232605</td>\n",
       "      <td>0.423728</td>\n",
       "      <td>0.663953</td>\n",
       "      <td>0.452113</td>\n",
       "      <td>-0.101096</td>\n",
       "      <td>0.384922</td>\n",
       "      <td>-0.485709</td>\n",
       "      <td>0.0</td>\n",
       "    </tr>\n",
       "    <tr>\n",
       "      <th>3</th>\n",
       "      <td>-0.150044</td>\n",
       "      <td>1.028641</td>\n",
       "      <td>0.045549</td>\n",
       "      <td>0.435639</td>\n",
       "      <td>0.371727</td>\n",
       "      <td>1.112776</td>\n",
       "      <td>0.463880</td>\n",
       "      <td>0.707498</td>\n",
       "      <td>0.685013</td>\n",
       "      <td>-0.157188</td>\n",
       "      <td>0.455884</td>\n",
       "      <td>-0.458148</td>\n",
       "      <td>0.0</td>\n",
       "    </tr>\n",
       "    <tr>\n",
       "      <th>4</th>\n",
       "      <td>-0.345560</td>\n",
       "      <td>0.817710</td>\n",
       "      <td>-0.192326</td>\n",
       "      <td>0.188144</td>\n",
       "      <td>0.231931</td>\n",
       "      <td>1.394874</td>\n",
       "      <td>0.434024</td>\n",
       "      <td>0.566352</td>\n",
       "      <td>0.517109</td>\n",
       "      <td>-0.144336</td>\n",
       "      <td>0.451379</td>\n",
       "      <td>-0.456602</td>\n",
       "      <td>0.0</td>\n",
       "    </tr>\n",
       "  </tbody>\n",
       "</table>\n",
       "</div>"
      ],
      "text/plain": [
       "          0         1         2         3         4         5         6  \\\n",
       "0 -0.047480  0.996190  0.221753  0.652196  0.353498  1.022904  0.418512   \n",
       "1 -0.208560  0.858273  0.060275  0.451107  0.108475  1.317484  0.296794   \n",
       "2 -0.150044  1.081374  0.030499  0.415751  0.231931  1.232605  0.423728   \n",
       "3 -0.150044  1.028641  0.045549  0.435639  0.371727  1.112776  0.463880   \n",
       "4 -0.345560  0.817710 -0.192326  0.188144  0.231931  1.394874  0.434024   \n",
       "\n",
       "          7         8         9        10        11  outlier  \n",
       "0  0.869666  0.802365 -0.005854  0.318106 -0.479861      0.0  \n",
       "1  0.669960  0.267960 -0.021763  0.301371 -0.505131      0.0  \n",
       "2  0.663953  0.452113 -0.101096  0.384922 -0.485709      0.0  \n",
       "3  0.707498  0.685013 -0.157188  0.455884 -0.458148      0.0  \n",
       "4  0.566352  0.517109 -0.144336  0.451379 -0.456602      0.0  "
      ]
     },
     "execution_count": 243,
     "metadata": {},
     "output_type": "execute_result"
    }
   ],
   "source": [
    "df_final[df_final.outlier == 0].head(5)"
   ]
  },
  {
   "cell_type": "code",
   "execution_count": 244,
   "metadata": {},
   "outputs": [],
   "source": [
    "df_final.to_csv('air_quality_precprocessed_with_outlier_status.csv', index=False)"
   ]
  },
  {
   "cell_type": "code",
   "execution_count": 245,
   "metadata": {},
   "outputs": [
    {
     "data": {
      "text/html": [
       "<div>\n",
       "<style scoped>\n",
       "    .dataframe tbody tr th:only-of-type {\n",
       "        vertical-align: middle;\n",
       "    }\n",
       "\n",
       "    .dataframe tbody tr th {\n",
       "        vertical-align: top;\n",
       "    }\n",
       "\n",
       "    .dataframe thead th {\n",
       "        text-align: right;\n",
       "    }\n",
       "</style>\n",
       "<table border=\"1\" class=\"dataframe\">\n",
       "  <thead>\n",
       "    <tr style=\"text-align: right;\">\n",
       "      <th></th>\n",
       "      <th>0</th>\n",
       "      <th>1</th>\n",
       "      <th>2</th>\n",
       "      <th>3</th>\n",
       "      <th>4</th>\n",
       "      <th>5</th>\n",
       "      <th>6</th>\n",
       "      <th>7</th>\n",
       "      <th>8</th>\n",
       "      <th>9</th>\n",
       "      <th>10</th>\n",
       "      <th>11</th>\n",
       "      <th>outlier</th>\n",
       "    </tr>\n",
       "  </thead>\n",
       "  <tbody>\n",
       "    <tr>\n",
       "      <th>5</th>\n",
       "      <td>-0.522184</td>\n",
       "      <td>0.665596</td>\n",
       "      <td>-0.414342</td>\n",
       "      <td>-0.001896</td>\n",
       "      <td>0.033471</td>\n",
       "      <td>1.724403</td>\n",
       "      <td>0.321990</td>\n",
       "      <td>0.420701</td>\n",
       "      <td>0.226436</td>\n",
       "      <td>-0.144336</td>\n",
       "      <td>0.446843</td>\n",
       "      <td>-0.459551</td>\n",
       "      <td>0.0</td>\n",
       "    </tr>\n",
       "    <tr>\n",
       "      <th>6</th>\n",
       "      <td>-0.522184</td>\n",
       "      <td>0.641257</td>\n",
       "      <td>-0.596910</td>\n",
       "      <td>-0.134482</td>\n",
       "      <td>-0.152123</td>\n",
       "      <td>2.036458</td>\n",
       "      <td>0.191425</td>\n",
       "      <td>0.330608</td>\n",
       "      <td>-0.163535</td>\n",
       "      <td>-0.137996</td>\n",
       "      <td>0.418970</td>\n",
       "      <td>-0.477951</td>\n",
       "      <td>0.0</td>\n",
       "    </tr>\n",
       "    <tr>\n",
       "      <th>7</th>\n",
       "      <td>-0.634121</td>\n",
       "      <td>0.541876</td>\n",
       "      <td>-0.656489</td>\n",
       "      <td>-0.174258</td>\n",
       "      <td>-0.152123</td>\n",
       "      <td>2.013990</td>\n",
       "      <td>0.183686</td>\n",
       "      <td>0.330608</td>\n",
       "      <td>-0.168952</td>\n",
       "      <td>-0.176911</td>\n",
       "      <td>0.455884</td>\n",
       "      <td>-0.470445</td>\n",
       "      <td>0.0</td>\n",
       "    </tr>\n",
       "    <tr>\n",
       "      <th>8</th>\n",
       "      <td>-0.698808</td>\n",
       "      <td>0.456692</td>\n",
       "      <td>-0.903684</td>\n",
       "      <td>-0.313474</td>\n",
       "      <td>-0.316653</td>\n",
       "      <td>2.328541</td>\n",
       "      <td>0.043740</td>\n",
       "      <td>0.245019</td>\n",
       "      <td>-0.367548</td>\n",
       "      <td>-0.176911</td>\n",
       "      <td>0.452508</td>\n",
       "      <td>-0.474527</td>\n",
       "      <td>0.0</td>\n",
       "    </tr>\n",
       "    <tr>\n",
       "      <th>9</th>\n",
       "      <td>2.745298</td>\n",
       "      <td>-1.263702</td>\n",
       "      <td>2.294974</td>\n",
       "      <td>-1.116157</td>\n",
       "      <td>0.554933</td>\n",
       "      <td>-0.999817</td>\n",
       "      <td>0.878482</td>\n",
       "      <td>-1.301948</td>\n",
       "      <td>-1.043214</td>\n",
       "      <td>2.058502</td>\n",
       "      <td>1.405535</td>\n",
       "      <td>2.874281</td>\n",
       "      <td>0.0</td>\n",
       "    </tr>\n",
       "    <tr>\n",
       "      <th>10</th>\n",
       "      <td>-0.163374</td>\n",
       "      <td>-1.757778</td>\n",
       "      <td>-0.948988</td>\n",
       "      <td>-1.654468</td>\n",
       "      <td>-1.877338</td>\n",
       "      <td>-1.607960</td>\n",
       "      <td>-1.926250</td>\n",
       "      <td>-1.667734</td>\n",
       "      <td>-1.483023</td>\n",
       "      <td>-1.320614</td>\n",
       "      <td>-1.785292</td>\n",
       "      <td>0.125845</td>\n",
       "      <td>1.0</td>\n",
       "    </tr>\n",
       "    <tr>\n",
       "      <th>11</th>\n",
       "      <td>-0.853103</td>\n",
       "      <td>0.399903</td>\n",
       "      <td>-1.408738</td>\n",
       "      <td>-0.527822</td>\n",
       "      <td>-0.847544</td>\n",
       "      <td>3.174834</td>\n",
       "      <td>-0.407458</td>\n",
       "      <td>0.103873</td>\n",
       "      <td>-0.725022</td>\n",
       "      <td>-0.157188</td>\n",
       "      <td>0.411818</td>\n",
       "      <td>-0.496322</td>\n",
       "      <td>1.0</td>\n",
       "    </tr>\n",
       "    <tr>\n",
       "      <th>12</th>\n",
       "      <td>-0.853103</td>\n",
       "      <td>0.371509</td>\n",
       "      <td>-1.152175</td>\n",
       "      <td>-0.437221</td>\n",
       "      <td>-0.460559</td>\n",
       "      <td>2.725475</td>\n",
       "      <td>-0.088364</td>\n",
       "      <td>0.162433</td>\n",
       "      <td>-0.634751</td>\n",
       "      <td>-0.190369</td>\n",
       "      <td>0.434211</td>\n",
       "      <td>-0.497347</td>\n",
       "      <td>0.0</td>\n",
       "    </tr>\n",
       "    <tr>\n",
       "      <th>13</th>\n",
       "      <td>-0.575605</td>\n",
       "      <td>0.558102</td>\n",
       "      <td>-0.677559</td>\n",
       "      <td>-0.185307</td>\n",
       "      <td>0.082927</td>\n",
       "      <td>2.106358</td>\n",
       "      <td>0.228671</td>\n",
       "      <td>0.339617</td>\n",
       "      <td>-0.168952</td>\n",
       "      <td>-0.211044</td>\n",
       "      <td>0.451379</td>\n",
       "      <td>-0.492319</td>\n",
       "      <td>0.0</td>\n",
       "    </tr>\n",
       "    <tr>\n",
       "      <th>14</th>\n",
       "      <td>-0.208560</td>\n",
       "      <td>0.941429</td>\n",
       "      <td>-0.050150</td>\n",
       "      <td>0.329570</td>\n",
       "      <td>0.377663</td>\n",
       "      <td>1.222619</td>\n",
       "      <td>0.413249</td>\n",
       "      <td>0.606894</td>\n",
       "      <td>0.502665</td>\n",
       "      <td>-0.170276</td>\n",
       "      <td>0.426047</td>\n",
       "      <td>-0.493024</td>\n",
       "      <td>0.0</td>\n",
       "    </tr>\n",
       "  </tbody>\n",
       "</table>\n",
       "</div>"
      ],
      "text/plain": [
       "           0         1         2         3         4         5         6  \\\n",
       "5  -0.522184  0.665596 -0.414342 -0.001896  0.033471  1.724403  0.321990   \n",
       "6  -0.522184  0.641257 -0.596910 -0.134482 -0.152123  2.036458  0.191425   \n",
       "7  -0.634121  0.541876 -0.656489 -0.174258 -0.152123  2.013990  0.183686   \n",
       "8  -0.698808  0.456692 -0.903684 -0.313474 -0.316653  2.328541  0.043740   \n",
       "9   2.745298 -1.263702  2.294974 -1.116157  0.554933 -0.999817  0.878482   \n",
       "10 -0.163374 -1.757778 -0.948988 -1.654468 -1.877338 -1.607960 -1.926250   \n",
       "11 -0.853103  0.399903 -1.408738 -0.527822 -0.847544  3.174834 -0.407458   \n",
       "12 -0.853103  0.371509 -1.152175 -0.437221 -0.460559  2.725475 -0.088364   \n",
       "13 -0.575605  0.558102 -0.677559 -0.185307  0.082927  2.106358  0.228671   \n",
       "14 -0.208560  0.941429 -0.050150  0.329570  0.377663  1.222619  0.413249   \n",
       "\n",
       "           7         8         9        10        11  outlier  \n",
       "5   0.420701  0.226436 -0.144336  0.446843 -0.459551      0.0  \n",
       "6   0.330608 -0.163535 -0.137996  0.418970 -0.477951      0.0  \n",
       "7   0.330608 -0.168952 -0.176911  0.455884 -0.470445      0.0  \n",
       "8   0.245019 -0.367548 -0.176911  0.452508 -0.474527      0.0  \n",
       "9  -1.301948 -1.043214  2.058502  1.405535  2.874281      0.0  \n",
       "10 -1.667734 -1.483023 -1.320614 -1.785292  0.125845      1.0  \n",
       "11  0.103873 -0.725022 -0.157188  0.411818 -0.496322      1.0  \n",
       "12  0.162433 -0.634751 -0.190369  0.434211 -0.497347      0.0  \n",
       "13  0.339617 -0.168952 -0.211044  0.451379 -0.492319      0.0  \n",
       "14  0.606894  0.502665 -0.170276  0.426047 -0.493024      0.0  "
      ]
     },
     "execution_count": 245,
     "metadata": {},
     "output_type": "execute_result"
    }
   ],
   "source": [
    "df_final.iloc[5:15]"
   ]
  }
 ],
 "metadata": {
  "kernelspec": {
   "display_name": "Python 3",
   "language": "python",
   "name": "python3"
  },
  "language_info": {
   "codemirror_mode": {
    "name": "ipython",
    "version": 3
   },
   "file_extension": ".py",
   "mimetype": "text/x-python",
   "name": "python",
   "nbconvert_exporter": "python",
   "pygments_lexer": "ipython3",
   "version": "3.7.1"
  }
 },
 "nbformat": 4,
 "nbformat_minor": 2
}
