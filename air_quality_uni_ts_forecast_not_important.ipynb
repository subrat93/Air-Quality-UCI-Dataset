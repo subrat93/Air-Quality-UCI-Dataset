{
 "cells": [
  {
   "cell_type": "markdown",
   "metadata": {},
   "source": [
    "# Read the data"
   ]
  },
  {
   "cell_type": "code",
   "execution_count": 2,
   "metadata": {},
   "outputs": [
    {
     "data": {
      "text/plain": [
       "(9471, 16)"
      ]
     },
     "execution_count": 2,
     "metadata": {},
     "output_type": "execute_result"
    }
   ],
   "source": [
    "import pandas as pd\n",
    "df = pd.read_csv('AirQualityUCI.csv', sep=';', decimal=',', parse_dates=[['Date', 'Time']])\n",
    "df.shape"
   ]
  },
  {
   "cell_type": "code",
   "execution_count": 3,
   "metadata": {},
   "outputs": [
    {
     "data": {
      "text/html": [
       "<div>\n",
       "<style scoped>\n",
       "    .dataframe tbody tr th:only-of-type {\n",
       "        vertical-align: middle;\n",
       "    }\n",
       "\n",
       "    .dataframe tbody tr th {\n",
       "        vertical-align: top;\n",
       "    }\n",
       "\n",
       "    .dataframe thead th {\n",
       "        text-align: right;\n",
       "    }\n",
       "</style>\n",
       "<table border=\"1\" class=\"dataframe\">\n",
       "  <thead>\n",
       "    <tr style=\"text-align: right;\">\n",
       "      <th></th>\n",
       "      <th>Date_Time</th>\n",
       "      <th>CO(GT)</th>\n",
       "      <th>PT08.S1(CO)</th>\n",
       "      <th>NMHC(GT)</th>\n",
       "      <th>C6H6(GT)</th>\n",
       "      <th>PT08.S2(NMHC)</th>\n",
       "      <th>NOx(GT)</th>\n",
       "      <th>PT08.S3(NOx)</th>\n",
       "      <th>NO2(GT)</th>\n",
       "      <th>PT08.S4(NO2)</th>\n",
       "      <th>PT08.S5(O3)</th>\n",
       "      <th>T</th>\n",
       "      <th>RH</th>\n",
       "      <th>AH</th>\n",
       "      <th>Unnamed: 15</th>\n",
       "      <th>Unnamed: 16</th>\n",
       "    </tr>\n",
       "  </thead>\n",
       "  <tbody>\n",
       "    <tr>\n",
       "      <th>0</th>\n",
       "      <td>10/03/2004 18.00.00</td>\n",
       "      <td>2.6</td>\n",
       "      <td>1360.0</td>\n",
       "      <td>150.0</td>\n",
       "      <td>11.9</td>\n",
       "      <td>1046.0</td>\n",
       "      <td>166.0</td>\n",
       "      <td>1056.0</td>\n",
       "      <td>113.0</td>\n",
       "      <td>1692.0</td>\n",
       "      <td>1268.0</td>\n",
       "      <td>13.6</td>\n",
       "      <td>48.9</td>\n",
       "      <td>0.7578</td>\n",
       "      <td>NaN</td>\n",
       "      <td>NaN</td>\n",
       "    </tr>\n",
       "    <tr>\n",
       "      <th>1</th>\n",
       "      <td>10/03/2004 19.00.00</td>\n",
       "      <td>2.0</td>\n",
       "      <td>1292.0</td>\n",
       "      <td>112.0</td>\n",
       "      <td>9.4</td>\n",
       "      <td>955.0</td>\n",
       "      <td>103.0</td>\n",
       "      <td>1174.0</td>\n",
       "      <td>92.0</td>\n",
       "      <td>1559.0</td>\n",
       "      <td>972.0</td>\n",
       "      <td>13.3</td>\n",
       "      <td>47.7</td>\n",
       "      <td>0.7255</td>\n",
       "      <td>NaN</td>\n",
       "      <td>NaN</td>\n",
       "    </tr>\n",
       "    <tr>\n",
       "      <th>2</th>\n",
       "      <td>10/03/2004 20.00.00</td>\n",
       "      <td>2.2</td>\n",
       "      <td>1402.0</td>\n",
       "      <td>88.0</td>\n",
       "      <td>9.0</td>\n",
       "      <td>939.0</td>\n",
       "      <td>131.0</td>\n",
       "      <td>1140.0</td>\n",
       "      <td>114.0</td>\n",
       "      <td>1555.0</td>\n",
       "      <td>1074.0</td>\n",
       "      <td>11.9</td>\n",
       "      <td>54.0</td>\n",
       "      <td>0.7502</td>\n",
       "      <td>NaN</td>\n",
       "      <td>NaN</td>\n",
       "    </tr>\n",
       "  </tbody>\n",
       "</table>\n",
       "</div>"
      ],
      "text/plain": [
       "             Date_Time  CO(GT)  PT08.S1(CO)  NMHC(GT)  C6H6(GT)  \\\n",
       "0  10/03/2004 18.00.00     2.6       1360.0     150.0      11.9   \n",
       "1  10/03/2004 19.00.00     2.0       1292.0     112.0       9.4   \n",
       "2  10/03/2004 20.00.00     2.2       1402.0      88.0       9.0   \n",
       "\n",
       "   PT08.S2(NMHC)  NOx(GT)  PT08.S3(NOx)  NO2(GT)  PT08.S4(NO2)  PT08.S5(O3)  \\\n",
       "0         1046.0    166.0        1056.0    113.0        1692.0       1268.0   \n",
       "1          955.0    103.0        1174.0     92.0        1559.0        972.0   \n",
       "2          939.0    131.0        1140.0    114.0        1555.0       1074.0   \n",
       "\n",
       "      T    RH      AH  Unnamed: 15  Unnamed: 16  \n",
       "0  13.6  48.9  0.7578          NaN          NaN  \n",
       "1  13.3  47.7  0.7255          NaN          NaN  \n",
       "2  11.9  54.0  0.7502          NaN          NaN  "
      ]
     },
     "execution_count": 3,
     "metadata": {},
     "output_type": "execute_result"
    }
   ],
   "source": [
    "df.head(3)"
   ]
  },
  {
   "cell_type": "code",
   "execution_count": 4,
   "metadata": {},
   "outputs": [
    {
     "data": {
      "text/html": [
       "<div>\n",
       "<style scoped>\n",
       "    .dataframe tbody tr th:only-of-type {\n",
       "        vertical-align: middle;\n",
       "    }\n",
       "\n",
       "    .dataframe tbody tr th {\n",
       "        vertical-align: top;\n",
       "    }\n",
       "\n",
       "    .dataframe thead th {\n",
       "        text-align: right;\n",
       "    }\n",
       "</style>\n",
       "<table border=\"1\" class=\"dataframe\">\n",
       "  <thead>\n",
       "    <tr style=\"text-align: right;\">\n",
       "      <th></th>\n",
       "      <th>Date_Time</th>\n",
       "      <th>CO(GT)</th>\n",
       "    </tr>\n",
       "  </thead>\n",
       "  <tbody>\n",
       "    <tr>\n",
       "      <th>9468</th>\n",
       "      <td>nan nan</td>\n",
       "      <td>NaN</td>\n",
       "    </tr>\n",
       "    <tr>\n",
       "      <th>9469</th>\n",
       "      <td>nan nan</td>\n",
       "      <td>NaN</td>\n",
       "    </tr>\n",
       "    <tr>\n",
       "      <th>9470</th>\n",
       "      <td>nan nan</td>\n",
       "      <td>NaN</td>\n",
       "    </tr>\n",
       "  </tbody>\n",
       "</table>\n",
       "</div>"
      ],
      "text/plain": [
       "     Date_Time  CO(GT)\n",
       "9468   nan nan     NaN\n",
       "9469   nan nan     NaN\n",
       "9470   nan nan     NaN"
      ]
     },
     "execution_count": 4,
     "metadata": {},
     "output_type": "execute_result"
    }
   ],
   "source": [
    "# Extract only the required columns\n",
    "df_act = df[['Date_Time', 'CO(GT)']].copy(deep=True)\n",
    "df_act.tail(3)"
   ]
  },
  {
   "cell_type": "code",
   "execution_count": 5,
   "metadata": {},
   "outputs": [
    {
     "name": "stdout",
     "output_type": "stream",
     "text": [
      "Amount of rows with missing values: 1\n"
     ]
    }
   ],
   "source": [
    "#check for missing values\n",
    "Temp = pd.DataFrame(df_act.isnull().sum())\n",
    "Temp.columns = ['Sum']\n",
    "print('Amount of rows with missing values: ' + str(len(Temp.index[Temp['Sum'] > 0])) )"
   ]
  },
  {
   "cell_type": "code",
   "execution_count": 6,
   "metadata": {},
   "outputs": [],
   "source": [
    "df_act = df_act.fillna(df_act['CO(GT)'].mean())"
   ]
  },
  {
   "cell_type": "code",
   "execution_count": 7,
   "metadata": {},
   "outputs": [
    {
     "data": {
      "text/plain": [
       "(9357, 2)"
      ]
     },
     "execution_count": 7,
     "metadata": {},
     "output_type": "execute_result"
    }
   ],
   "source": [
    "# df_act = df_act.dropna(how='any',axis=0) \n",
    "df_act.drop(df_act[df_act['Date_Time'] == 'nan nan'].index, inplace = True) \n",
    "df_act.shape"
   ]
  },
  {
   "cell_type": "code",
   "execution_count": 8,
   "metadata": {},
   "outputs": [],
   "source": [
    "from datetime import datetime\n",
    "df_act['Date_Time'] = pd.to_datetime(df_act['Date_Time'], format = '%d/%m/%Y %H.%M.%S')\n",
    "# df_act['Date_Time'] = datetime.strptime(df_act['Date_Time'], \"%d/%m/%Y %H.%M.%S\")"
   ]
  },
  {
   "cell_type": "code",
   "execution_count": 9,
   "metadata": {},
   "outputs": [
    {
     "data": {
      "text/html": [
       "<div>\n",
       "<style scoped>\n",
       "    .dataframe tbody tr th:only-of-type {\n",
       "        vertical-align: middle;\n",
       "    }\n",
       "\n",
       "    .dataframe tbody tr th {\n",
       "        vertical-align: top;\n",
       "    }\n",
       "\n",
       "    .dataframe thead th {\n",
       "        text-align: right;\n",
       "    }\n",
       "</style>\n",
       "<table border=\"1\" class=\"dataframe\">\n",
       "  <thead>\n",
       "    <tr style=\"text-align: right;\">\n",
       "      <th></th>\n",
       "      <th>Date_Time</th>\n",
       "      <th>CO(GT)</th>\n",
       "    </tr>\n",
       "  </thead>\n",
       "  <tbody>\n",
       "    <tr>\n",
       "      <th>0</th>\n",
       "      <td>2004-03-10 18:00:00</td>\n",
       "      <td>2.6</td>\n",
       "    </tr>\n",
       "    <tr>\n",
       "      <th>1</th>\n",
       "      <td>2004-03-10 19:00:00</td>\n",
       "      <td>2.0</td>\n",
       "    </tr>\n",
       "    <tr>\n",
       "      <th>2</th>\n",
       "      <td>2004-03-10 20:00:00</td>\n",
       "      <td>2.2</td>\n",
       "    </tr>\n",
       "    <tr>\n",
       "      <th>3</th>\n",
       "      <td>2004-03-10 21:00:00</td>\n",
       "      <td>2.2</td>\n",
       "    </tr>\n",
       "    <tr>\n",
       "      <th>4</th>\n",
       "      <td>2004-03-10 22:00:00</td>\n",
       "      <td>1.6</td>\n",
       "    </tr>\n",
       "  </tbody>\n",
       "</table>\n",
       "</div>"
      ],
      "text/plain": [
       "            Date_Time  CO(GT)\n",
       "0 2004-03-10 18:00:00     2.6\n",
       "1 2004-03-10 19:00:00     2.0\n",
       "2 2004-03-10 20:00:00     2.2\n",
       "3 2004-03-10 21:00:00     2.2\n",
       "4 2004-03-10 22:00:00     1.6"
      ]
     },
     "execution_count": 9,
     "metadata": {},
     "output_type": "execute_result"
    }
   ],
   "source": [
    "df_act.head()"
   ]
  },
  {
   "cell_type": "code",
   "execution_count": 10,
   "metadata": {},
   "outputs": [
    {
     "data": {
      "text/html": [
       "<div>\n",
       "<style scoped>\n",
       "    .dataframe tbody tr th:only-of-type {\n",
       "        vertical-align: middle;\n",
       "    }\n",
       "\n",
       "    .dataframe tbody tr th {\n",
       "        vertical-align: top;\n",
       "    }\n",
       "\n",
       "    .dataframe thead th {\n",
       "        text-align: right;\n",
       "    }\n",
       "</style>\n",
       "<table border=\"1\" class=\"dataframe\">\n",
       "  <thead>\n",
       "    <tr style=\"text-align: right;\">\n",
       "      <th></th>\n",
       "      <th>CO(GT)</th>\n",
       "    </tr>\n",
       "    <tr>\n",
       "      <th>Date_Time</th>\n",
       "      <th></th>\n",
       "    </tr>\n",
       "  </thead>\n",
       "  <tbody>\n",
       "    <tr>\n",
       "      <th>2004-03-10 18:00:00</th>\n",
       "      <td>2.6</td>\n",
       "    </tr>\n",
       "    <tr>\n",
       "      <th>2004-03-10 19:00:00</th>\n",
       "      <td>2.0</td>\n",
       "    </tr>\n",
       "    <tr>\n",
       "      <th>2004-03-10 20:00:00</th>\n",
       "      <td>2.2</td>\n",
       "    </tr>\n",
       "  </tbody>\n",
       "</table>\n",
       "</div>"
      ],
      "text/plain": [
       "                     CO(GT)\n",
       "Date_Time                  \n",
       "2004-03-10 18:00:00     2.6\n",
       "2004-03-10 19:00:00     2.0\n",
       "2004-03-10 20:00:00     2.2"
      ]
     },
     "execution_count": 10,
     "metadata": {},
     "output_type": "execute_result"
    }
   ],
   "source": [
    "df_act = df_act.set_index('Date_Time')\n",
    "df_act.head(3)"
   ]
  },
  {
   "cell_type": "code",
   "execution_count": 11,
   "metadata": {},
   "outputs": [
    {
     "data": {
      "text/plain": [
       "pandas.core.indexes.datetimes.DatetimeIndex"
      ]
     },
     "execution_count": 11,
     "metadata": {},
     "output_type": "execute_result"
    }
   ],
   "source": [
    "type(df_act.index)"
   ]
  },
  {
   "cell_type": "code",
   "execution_count": 12,
   "metadata": {},
   "outputs": [
    {
     "data": {
      "text/plain": [
       "<Figure size 1500x700 with 1 Axes>"
      ]
     },
     "metadata": {},
     "output_type": "display_data"
    }
   ],
   "source": [
    "from matplotlib import pyplot as plt\n",
    "plt.figure(figsize=(15,7))\n",
    "plt.plot(df_act.iloc[0:200])\n",
    "plt.show()"
   ]
  },
  {
   "cell_type": "markdown",
   "metadata": {},
   "source": [
    "## Stationarity Test - Dickey Fuller"
   ]
  },
  {
   "cell_type": "code",
   "execution_count": 13,
   "metadata": {},
   "outputs": [],
   "source": [
    "from statsmodels.tsa.stattools import adfuller\n",
    "def test_stationarity(timeseries):\n",
    "    \n",
    "    #Determing rolling statistics\n",
    "#     rolmean = pd.rolling_mean(timeseries, window=12)\n",
    "    rolmean = timeseries.rolling(12).mean()\n",
    "#     rolstd = pd.rolling_std(timeseries, window=12)\n",
    "    rolstd = timeseries.rolling(12).std()\n",
    "\n",
    "    #Plot rolling statistics:\n",
    "    orig = plt.plot(timeseries, color='blue',label='Original')\n",
    "    mean = plt.plot(rolmean, color='red', label='Rolling Mean')\n",
    "    std = plt.plot(rolstd, color='black', label = 'Rolling Std')\n",
    "    plt.legend(loc='best')\n",
    "    plt.title('Rolling Mean & Standard Deviation')\n",
    "    plt.show(block=False)\n",
    "    \n",
    "    #Perform Dickey-Fuller test:\n",
    "    print('Results of Dickey-Fuller Test:')\n",
    "    data1 = timeseries.iloc[:,0].values\n",
    "    dftest = adfuller(data1, autolag='AIC')\n",
    "    dfoutput = pd.Series(dftest[0:4], index=['Test Statistic','p-value','#Lags Used','Number of Observations Used'])\n",
    "    for key,value in dftest[4].items():\n",
    "        dfoutput['Critical Value (%s)'%key] = value\n",
    "    print(dfoutput)"
   ]
  },
  {
   "cell_type": "code",
   "execution_count": 14,
   "metadata": {},
   "outputs": [
    {
     "data": {
      "image/png": "[encoded data removed]",
      "text/plain": [
       "<Figure size 432x288 with 1 Axes>"
      ]
     },
     "metadata": {
      "needs_background": "light"
     },
     "output_type": "display_data"
    },
    {
     "name": "stdout",
     "output_type": "stream",
     "text": [
      "Results of Dickey-Fuller Test:\n",
      "Test Statistic                -9.552225e+00\n",
      "p-value                        2.553762e-16\n",
      "#Lags Used                     2.800000e+01\n",
      "Number of Observations Used    9.328000e+03\n",
      "Critical Value (1%)           -3.431051e+00\n",
      "Critical Value (5%)           -2.861850e+00\n",
      "Critical Value (10%)          -2.566935e+00\n",
      "dtype: float64\n"
     ]
    }
   ],
   "source": [
    "test_stationarity(df_act)"
   ]
  },
  {
   "cell_type": "code",
   "execution_count": 15,
   "metadata": {},
   "outputs": [
    {
     "data": {
      "text/html": [
       "<div>\n",
       "<style scoped>\n",
       "    .dataframe tbody tr th:only-of-type {\n",
       "        vertical-align: middle;\n",
       "    }\n",
       "\n",
       "    .dataframe tbody tr th {\n",
       "        vertical-align: top;\n",
       "    }\n",
       "\n",
       "    .dataframe thead th {\n",
       "        text-align: right;\n",
       "    }\n",
       "</style>\n",
       "<table border=\"1\" class=\"dataframe\">\n",
       "  <thead>\n",
       "    <tr style=\"text-align: right;\">\n",
       "      <th></th>\n",
       "      <th>CO(GT)</th>\n",
       "    </tr>\n",
       "    <tr>\n",
       "      <th>Date_Time</th>\n",
       "      <th></th>\n",
       "    </tr>\n",
       "  </thead>\n",
       "  <tbody>\n",
       "    <tr>\n",
       "      <th>2004-03-10 18:00:00</th>\n",
       "      <td>203.6</td>\n",
       "    </tr>\n",
       "    <tr>\n",
       "      <th>2004-03-10 19:00:00</th>\n",
       "      <td>203.0</td>\n",
       "    </tr>\n",
       "    <tr>\n",
       "      <th>2004-03-10 20:00:00</th>\n",
       "      <td>203.2</td>\n",
       "    </tr>\n",
       "  </tbody>\n",
       "</table>\n",
       "</div>"
      ],
      "text/plain": [
       "                     CO(GT)\n",
       "Date_Time                  \n",
       "2004-03-10 18:00:00   203.6\n",
       "2004-03-10 19:00:00   203.0\n",
       "2004-03-10 20:00:00   203.2"
      ]
     },
     "execution_count": 15,
     "metadata": {},
     "output_type": "execute_result"
    }
   ],
   "source": [
    "df_act = df_act + 201\n",
    "df_act.head(3)"
   ]
  },
  {
   "cell_type": "code",
   "execution_count": 17,
   "metadata": {},
   "outputs": [
    {
     "data": {
      "text/html": [
       "<div>\n",
       "<style scoped>\n",
       "    .dataframe tbody tr th:only-of-type {\n",
       "        vertical-align: middle;\n",
       "    }\n",
       "\n",
       "    .dataframe tbody tr th {\n",
       "        vertical-align: top;\n",
       "    }\n",
       "\n",
       "    .dataframe thead th {\n",
       "        text-align: right;\n",
       "    }\n",
       "</style>\n",
       "<table border=\"1\" class=\"dataframe\">\n",
       "  <thead>\n",
       "    <tr style=\"text-align: right;\">\n",
       "      <th></th>\n",
       "      <th>CO(GT)</th>\n",
       "    </tr>\n",
       "    <tr>\n",
       "      <th>Date_Time</th>\n",
       "      <th></th>\n",
       "    </tr>\n",
       "  </thead>\n",
       "  <tbody>\n",
       "    <tr>\n",
       "      <th>2004-03-10 18:00:00</th>\n",
       "      <td>5.316157</td>\n",
       "    </tr>\n",
       "    <tr>\n",
       "      <th>2004-03-10 19:00:00</th>\n",
       "      <td>5.313206</td>\n",
       "    </tr>\n",
       "    <tr>\n",
       "      <th>2004-03-10 20:00:00</th>\n",
       "      <td>5.314191</td>\n",
       "    </tr>\n",
       "    <tr>\n",
       "      <th>2004-03-10 21:00:00</th>\n",
       "      <td>5.314191</td>\n",
       "    </tr>\n",
       "    <tr>\n",
       "      <th>2004-03-10 22:00:00</th>\n",
       "      <td>5.311234</td>\n",
       "    </tr>\n",
       "  </tbody>\n",
       "</table>\n",
       "</div>"
      ],
      "text/plain": [
       "                       CO(GT)\n",
       "Date_Time                    \n",
       "2004-03-10 18:00:00  5.316157\n",
       "2004-03-10 19:00:00  5.313206\n",
       "2004-03-10 20:00:00  5.314191\n",
       "2004-03-10 21:00:00  5.314191\n",
       "2004-03-10 22:00:00  5.311234"
      ]
     },
     "execution_count": 17,
     "metadata": {},
     "output_type": "execute_result"
    }
   ],
   "source": [
    "import numpy as np\n",
    "df_act_log = np.log(df_act)\n",
    "df_act_log.head()"
   ]
  },
  {
   "cell_type": "code",
   "execution_count": 19,
   "metadata": {},
   "outputs": [
    {
     "data": {
      "image/png": "[encoded data removed]",
      "text/plain": [
       "<Figure size 432x288 with 1 Axes>"
      ]
     },
     "metadata": {
      "needs_background": "light"
     },
     "output_type": "display_data"
    }
   ],
   "source": [
    "df_log_diff = df_act_log - df_act_log.shift()\n",
    "plt.plot(df_log_diff.head(200))\n",
    "plt.show()"
   ]
  },
  {
   "cell_type": "code",
   "execution_count": 24,
   "metadata": {},
   "outputs": [
    {
     "data": {
      "text/html": [
       "<div>\n",
       "<style scoped>\n",
       "    .dataframe tbody tr th:only-of-type {\n",
       "        vertical-align: middle;\n",
       "    }\n",
       "\n",
       "    .dataframe tbody tr th {\n",
       "        vertical-align: top;\n",
       "    }\n",
       "\n",
       "    .dataframe thead th {\n",
       "        text-align: right;\n",
       "    }\n",
       "</style>\n",
       "<table border=\"1\" class=\"dataframe\">\n",
       "  <thead>\n",
       "    <tr style=\"text-align: right;\">\n",
       "      <th></th>\n",
       "      <th>CO(GT)</th>\n",
       "    </tr>\n",
       "    <tr>\n",
       "      <th>Date_Time</th>\n",
       "      <th></th>\n",
       "    </tr>\n",
       "  </thead>\n",
       "  <tbody>\n",
       "    <tr>\n",
       "      <th>2004-03-10 18:00:00</th>\n",
       "      <td>NaN</td>\n",
       "    </tr>\n",
       "    <tr>\n",
       "      <th>2004-03-10 19:00:00</th>\n",
       "      <td>-0.002951</td>\n",
       "    </tr>\n",
       "    <tr>\n",
       "      <th>2004-03-10 20:00:00</th>\n",
       "      <td>0.000985</td>\n",
       "    </tr>\n",
       "    <tr>\n",
       "      <th>2004-03-10 21:00:00</th>\n",
       "      <td>0.000000</td>\n",
       "    </tr>\n",
       "    <tr>\n",
       "      <th>2004-03-10 22:00:00</th>\n",
       "      <td>-0.002957</td>\n",
       "    </tr>\n",
       "  </tbody>\n",
       "</table>\n",
       "</div>"
      ],
      "text/plain": [
       "                       CO(GT)\n",
       "Date_Time                    \n",
       "2004-03-10 18:00:00       NaN\n",
       "2004-03-10 19:00:00 -0.002951\n",
       "2004-03-10 20:00:00  0.000985\n",
       "2004-03-10 21:00:00  0.000000\n",
       "2004-03-10 22:00:00 -0.002957"
      ]
     },
     "execution_count": 24,
     "metadata": {},
     "output_type": "execute_result"
    }
   ],
   "source": [
    "df_log_diff.head()"
   ]
  },
  {
   "cell_type": "code",
   "execution_count": 28,
   "metadata": {},
   "outputs": [
    {
     "data": {
      "text/html": [
       "<div>\n",
       "<style scoped>\n",
       "    .dataframe tbody tr th:only-of-type {\n",
       "        vertical-align: middle;\n",
       "    }\n",
       "\n",
       "    .dataframe tbody tr th {\n",
       "        vertical-align: top;\n",
       "    }\n",
       "\n",
       "    .dataframe thead th {\n",
       "        text-align: right;\n",
       "    }\n",
       "</style>\n",
       "<table border=\"1\" class=\"dataframe\">\n",
       "  <thead>\n",
       "    <tr style=\"text-align: right;\">\n",
       "      <th></th>\n",
       "      <th>CO(GT)</th>\n",
       "    </tr>\n",
       "    <tr>\n",
       "      <th>Date_Time</th>\n",
       "      <th></th>\n",
       "    </tr>\n",
       "  </thead>\n",
       "  <tbody>\n",
       "    <tr>\n",
       "      <th>2004-03-10 19:00:00</th>\n",
       "      <td>-0.002951</td>\n",
       "    </tr>\n",
       "    <tr>\n",
       "      <th>2004-03-10 20:00:00</th>\n",
       "      <td>0.000985</td>\n",
       "    </tr>\n",
       "    <tr>\n",
       "      <th>2004-03-10 21:00:00</th>\n",
       "      <td>0.000000</td>\n",
       "    </tr>\n",
       "    <tr>\n",
       "      <th>2004-03-10 22:00:00</th>\n",
       "      <td>-0.002957</td>\n",
       "    </tr>\n",
       "    <tr>\n",
       "      <th>2004-03-10 23:00:00</th>\n",
       "      <td>-0.001976</td>\n",
       "    </tr>\n",
       "  </tbody>\n",
       "</table>\n",
       "</div>"
      ],
      "text/plain": [
       "                       CO(GT)\n",
       "Date_Time                    \n",
       "2004-03-10 19:00:00 -0.002951\n",
       "2004-03-10 20:00:00  0.000985\n",
       "2004-03-10 21:00:00  0.000000\n",
       "2004-03-10 22:00:00 -0.002957\n",
       "2004-03-10 23:00:00 -0.001976"
      ]
     },
     "execution_count": 28,
     "metadata": {},
     "output_type": "execute_result"
    }
   ],
   "source": [
    "df_log_diff.dropna(how='any', axis = 0, inplace=True)\n",
    "df_log_diff.head()"
   ]
  },
  {
   "cell_type": "code",
   "execution_count": 29,
   "metadata": {},
   "outputs": [
    {
     "data": {
      "image/png": "[encoded data removed]",
      "text/plain": [
       "<Figure size 432x288 with 1 Axes>"
      ]
     },
     "metadata": {
      "needs_background": "light"
     },
     "output_type": "display_data"
    },
    {
     "name": "stdout",
     "output_type": "stream",
     "text": [
      "Results of Dickey-Fuller Test:\n",
      "Test Statistic                  -19.668500\n",
      "p-value                           0.000000\n",
      "#Lags Used                       33.000000\n",
      "Number of Observations Used    9322.000000\n",
      "Critical Value (1%)              -3.431052\n",
      "Critical Value (5%)              -2.861850\n",
      "Critical Value (10%)             -2.566935\n",
      "dtype: float64\n"
     ]
    }
   ],
   "source": [
    "test_stationarity(df_log_diff)"
   ]
  },
  {
   "cell_type": "code",
   "execution_count": 30,
   "metadata": {},
   "outputs": [],
   "source": [
    "#ACF and PACF plots:\n",
    "from statsmodels.tsa.stattools import acf, pacf"
   ]
  },
  {
   "cell_type": "code",
   "execution_count": 31,
   "metadata": {},
   "outputs": [],
   "source": [
    "lag_acf = acf(df_log_diff, nlags=20)\n",
    "lag_pacf = pacf(df_log_diff, nlags=20, method='ols')"
   ]
  },
  {
   "cell_type": "code",
   "execution_count": 35,
   "metadata": {},
   "outputs": [
    {
     "data": {
      "text/plain": [
       "Text(0.5, 1.0, 'Autocorrelation Function')"
      ]
     },
     "execution_count": 35,
     "metadata": {},
     "output_type": "execute_result"
    },
    {
     "data": {
      "image/png": "[encoded data removed]",
      "text/plain": [
       "<Figure size 1440x504 with 1 Axes>"
      ]
     },
     "metadata": {
      "needs_background": "light"
     },
     "output_type": "display_data"
    }
   ],
   "source": [
    "#Plot ACF: \n",
    "import numpy as np\n",
    "plt.figure(figsize=(20,7))\n",
    "plt.subplot(121) \n",
    "plt.plot(lag_acf)\n",
    "plt.axhline(y=0,linestyle='--',color='gray')\n",
    "plt.axhline(y=-1.96/np.sqrt(len(df_log_diff)),linestyle='--',color='gray')\n",
    "plt.axhline(y=1.96/np.sqrt(len(df_log_diff)),linestyle='--',color='gray')\n",
    "plt.title('Autocorrelation Function')"
   ]
  },
  {
   "cell_type": "code",
   "execution_count": 36,
   "metadata": {},
   "outputs": [
    {
     "data": {
      "image/png": "[encoded data removed]",
      "text/plain": [
       "<Figure size 1440x504 with 1 Axes>"
      ]
     },
     "metadata": {
      "needs_background": "light"
     },
     "output_type": "display_data"
    }
   ],
   "source": [
    "#Plot PACF:\n",
    "plt.figure(figsize=(20,7))\n",
    "plt.subplot(122)\n",
    "plt.plot(lag_pacf)\n",
    "plt.axhline(y=0,linestyle='--',color='gray')\n",
    "plt.axhline(y=-1.96/np.sqrt(len(df_log_diff)),linestyle='--',color='gray')\n",
    "plt.axhline(y=1.96/np.sqrt(len(df_log_diff)),linestyle='--',color='gray')\n",
    "plt.title('Partial Autocorrelation Function')\n",
    "plt.tight_layout()"
   ]
  },
  {
   "cell_type": "code",
   "execution_count": 37,
   "metadata": {},
   "outputs": [],
   "source": [
    "from statsmodels.tsa.arima_model import ARIMA"
   ]
  },
  {
   "cell_type": "code",
   "execution_count": 39,
   "metadata": {},
   "outputs": [
    {
     "name": "stderr",
     "output_type": "stream",
     "text": [
      "C:\\Users\\Z003Z4FY.AD001\\AppData\\Local\\Continuum\\anaconda3\\lib\\site-packages\\statsmodels\\tsa\\base\\tsa_model.py:171: ValueWarning: No frequency information was provided, so inferred frequency H will be used.\n",
      "  % freq, ValueWarning)\n"
     ]
    },
    {
     "ename": "ValueError",
     "evalue": "Cannot add integral value to Timestamp without freq.",
     "output_type": "error",
     "traceback": [
      "\u001b[1;31m---------------------------------------------------------------------------\u001b[0m",
      "\u001b[1;31mValueError\u001b[0m                                Traceback (most recent call last)",
      "\u001b[1;32m<ipython-input-39-978e9baf612d>\u001b[0m in \u001b[0;36m<module>\u001b[1;34m\u001b[0m\n\u001b[0;32m      3\u001b[0m \u001b[0mplt\u001b[0m\u001b[1;33m.\u001b[0m\u001b[0mplot\u001b[0m\u001b[1;33m(\u001b[0m\u001b[0mdf_log_diff\u001b[0m\u001b[1;33m)\u001b[0m\u001b[1;33m\u001b[0m\u001b[1;33m\u001b[0m\u001b[0m\n\u001b[0;32m      4\u001b[0m \u001b[0mplt\u001b[0m\u001b[1;33m.\u001b[0m\u001b[0mplot\u001b[0m\u001b[1;33m(\u001b[0m\u001b[0mresults_AR\u001b[0m\u001b[1;33m.\u001b[0m\u001b[0mfittedvalues\u001b[0m\u001b[1;33m,\u001b[0m \u001b[0mcolor\u001b[0m\u001b[1;33m=\u001b[0m\u001b[1;34m'red'\u001b[0m\u001b[1;33m)\u001b[0m\u001b[1;33m\u001b[0m\u001b[1;33m\u001b[0m\u001b[0m\n\u001b[1;32m----> 5\u001b[1;33m \u001b[0mplt\u001b[0m\u001b[1;33m.\u001b[0m\u001b[0mtitle\u001b[0m\u001b[1;33m(\u001b[0m\u001b[1;34m'RSS: %.4f'\u001b[0m\u001b[1;33m%\u001b[0m \u001b[0msum\u001b[0m\u001b[1;33m(\u001b[0m\u001b[1;33m(\u001b[0m\u001b[0mresults_AR\u001b[0m\u001b[1;33m.\u001b[0m\u001b[0mfittedvalues\u001b[0m\u001b[1;33m-\u001b[0m\u001b[0mdf_log_diff\u001b[0m\u001b[1;33m)\u001b[0m\u001b[1;33m**\u001b[0m\u001b[1;36m2\u001b[0m\u001b[1;33m)\u001b[0m\u001b[1;33m)\u001b[0m\u001b[1;33m\u001b[0m\u001b[1;33m\u001b[0m\u001b[0m\n\u001b[0m",
      "\u001b[1;32mpandas\\_libs\\tslibs\\timestamps.pyx\u001b[0m in \u001b[0;36mpandas._libs.tslibs.timestamps.Timestamp.__radd__\u001b[1;34m()\u001b[0m\n",
      "\u001b[1;32mpandas\\_libs\\tslibs\\timestamps.pyx\u001b[0m in \u001b[0;36mpandas._libs.tslibs.timestamps._Timestamp.__add__\u001b[1;34m()\u001b[0m\n",
      "\u001b[1;31mValueError\u001b[0m: Cannot add integral value to Timestamp without freq."
     ]
    },
    {
     "data": {
      "image/png": "[encoded data removed]",
      "text/plain": [
       "<Figure size 432x288 with 1 Axes>"
      ]
     },
     "metadata": {
      "needs_background": "light"
     },
     "output_type": "display_data"
    }
   ],
   "source": [
    "model = ARIMA(df_log_diff.head(9000), order=(1, 0, 1))  \n",
    "results_AR = model.fit(disp=-1)  \n",
    "plt.plot(df_log_diff)\n",
    "plt.plot(results_AR.fittedvalues, color='red')\n",
    "plt.title('RSS: %.4f'% sum((results_AR.fittedvalues-df_log_diff)**2))"
   ]
  },
  {
   "cell_type": "code",
   "execution_count": 40,
   "metadata": {},
   "outputs": [
    {
     "ename": "ValueError",
     "evalue": "non-broadcastable output operand with shape (9000,) doesn't match the broadcast shape (9000,9000)",
     "output_type": "error",
     "traceback": [
      "\u001b[1;31m---------------------------------------------------------------------------\u001b[0m",
      "\u001b[1;31mValueError\u001b[0m                                Traceback (most recent call last)",
      "\u001b[1;32m<ipython-input-40-75eea7464b3f>\u001b[0m in \u001b[0;36m<module>\u001b[1;34m\u001b[0m\n\u001b[1;32m----> 1\u001b[1;33m \u001b[0mmodel\u001b[0m\u001b[1;33m.\u001b[0m\u001b[0mpredict\u001b[0m\u001b[1;33m(\u001b[0m\u001b[0mdf_log_diff\u001b[0m\u001b[1;33m.\u001b[0m\u001b[0mtail\u001b[0m\u001b[1;33m(\u001b[0m\u001b[1;36m5\u001b[0m\u001b[1;33m)\u001b[0m\u001b[1;33m)\u001b[0m\u001b[1;33m\u001b[0m\u001b[1;33m\u001b[0m\u001b[0m\n\u001b[0m",
      "\u001b[1;32m~\\AppData\\Local\\Continuum\\anaconda3\\lib\\site-packages\\statsmodels\\tsa\\arima_model.py\u001b[0m in \u001b[0;36mpredict\u001b[1;34m(self, params, start, end, exog, dynamic)\u001b[0m\n\u001b[0;32m    723\u001b[0m \u001b[1;33m\u001b[0m\u001b[0m\n\u001b[0;32m    724\u001b[0m         \u001b[0mendog\u001b[0m \u001b[1;33m=\u001b[0m \u001b[0mself\u001b[0m\u001b[1;33m.\u001b[0m\u001b[0mendog\u001b[0m\u001b[1;33m\u001b[0m\u001b[1;33m\u001b[0m\u001b[0m\n\u001b[1;32m--> 725\u001b[1;33m         \u001b[0mresid\u001b[0m \u001b[1;33m=\u001b[0m \u001b[0mself\u001b[0m\u001b[1;33m.\u001b[0m\u001b[0mgeterrors\u001b[0m\u001b[1;33m(\u001b[0m\u001b[0mparams\u001b[0m\u001b[1;33m)\u001b[0m\u001b[1;33m\u001b[0m\u001b[1;33m\u001b[0m\u001b[0m\n\u001b[0m\u001b[0;32m    726\u001b[0m         \u001b[0mk_ar\u001b[0m \u001b[1;33m=\u001b[0m \u001b[0mself\u001b[0m\u001b[1;33m.\u001b[0m\u001b[0mk_ar\u001b[0m\u001b[1;33m\u001b[0m\u001b[1;33m\u001b[0m\u001b[0m\n\u001b[0;32m    727\u001b[0m \u001b[1;33m\u001b[0m\u001b[0m\n",
      "\u001b[1;32m~\\AppData\\Local\\Continuum\\anaconda3\\lib\\site-packages\\statsmodels\\tsa\\arima_model.py\u001b[0m in \u001b[0;36mgeterrors\u001b[1;34m(self, params)\u001b[0m\n\u001b[0;32m    683\u001b[0m             (y, k, nobs, k_ar, k_ma, k_lags, newparams, Z_mat, m, R_mat,\n\u001b[0;32m    684\u001b[0m              \u001b[0mT_mat\u001b[0m\u001b[1;33m,\u001b[0m \u001b[0mparamsdtype\u001b[0m\u001b[1;33m)\u001b[0m \u001b[1;33m=\u001b[0m \u001b[0mKalmanFilter\u001b[0m\u001b[1;33m.\u001b[0m\u001b[0m_init_kalman_state\u001b[0m\u001b[1;33m(\u001b[0m\u001b[0mparams\u001b[0m\u001b[1;33m,\u001b[0m\u001b[1;33m\u001b[0m\u001b[1;33m\u001b[0m\u001b[0m\n\u001b[1;32m--> 685\u001b[1;33m                                                                    self)\n\u001b[0m\u001b[0;32m    686\u001b[0m \u001b[1;33m\u001b[0m\u001b[0m\n\u001b[0;32m    687\u001b[0m             errors = KalmanFilter.geterrors(y, k, k_ar, k_ma, k_lags, nobs,\n",
      "\u001b[1;32m~\\AppData\\Local\\Continuum\\anaconda3\\lib\\site-packages\\statsmodels\\tsa\\kalmanf\\kalmanfilter.py\u001b[0m in \u001b[0;36m_init_kalman_state\u001b[1;34m(cls, params, arma_model)\u001b[0m\n\u001b[0;32m    605\u001b[0m \u001b[1;33m\u001b[0m\u001b[0m\n\u001b[0;32m    606\u001b[0m         \u001b[1;32mif\u001b[0m \u001b[0mk\u001b[0m \u001b[1;33m>\u001b[0m \u001b[1;36m0\u001b[0m\u001b[1;33m:\u001b[0m\u001b[1;33m\u001b[0m\u001b[1;33m\u001b[0m\u001b[0m\n\u001b[1;32m--> 607\u001b[1;33m             \u001b[0my\u001b[0m \u001b[1;33m-=\u001b[0m \u001b[0mdot\u001b[0m\u001b[1;33m(\u001b[0m\u001b[0marma_model\u001b[0m\u001b[1;33m.\u001b[0m\u001b[0mexog\u001b[0m\u001b[1;33m,\u001b[0m \u001b[0mnewparams\u001b[0m\u001b[1;33m[\u001b[0m\u001b[1;33m:\u001b[0m\u001b[0mk\u001b[0m\u001b[1;33m]\u001b[0m\u001b[1;33m)\u001b[0m\u001b[1;33m\u001b[0m\u001b[1;33m\u001b[0m\u001b[0m\n\u001b[0m\u001b[0;32m    608\u001b[0m \u001b[1;33m\u001b[0m\u001b[0m\n\u001b[0;32m    609\u001b[0m         \u001b[1;31m# system matrices\u001b[0m\u001b[1;33m\u001b[0m\u001b[1;33m\u001b[0m\u001b[1;33m\u001b[0m\u001b[0m\n",
      "\u001b[1;31mValueError\u001b[0m: non-broadcastable output operand with shape (9000,) doesn't match the broadcast shape (9000,9000)"
     ]
    }
   ],
   "source": [
    "model.predict(df_log_diff.tail(5))"
   ]
  },
  {
   "cell_type": "code",
   "execution_count": 42,
   "metadata": {},
   "outputs": [
    {
     "data": {
      "text/html": [
       "<table class=\"simpletable\">\n",
       "<caption>ARMA Model Results</caption>\n",
       "<tr>\n",
       "  <th>Dep. Variable:</th>      <td>CO(GT)</td>      <th>  No. Observations:  </th>    <td>9000</td>   \n",
       "</tr>\n",
       "<tr>\n",
       "  <th>Model:</th>            <td>ARMA(1, 1)</td>    <th>  Log Likelihood     </th> <td>-12302.464</td>\n",
       "</tr>\n",
       "<tr>\n",
       "  <th>Method:</th>             <td>css-mle</td>     <th>  S.D. of innovations</th>    <td>0.949</td>  \n",
       "</tr>\n",
       "<tr>\n",
       "  <th>Date:</th>          <td>Fri, 27 Sep 2019</td> <th>  AIC                </th>  <td>24612.928</td>\n",
       "</tr>\n",
       "<tr>\n",
       "  <th>Time:</th>              <td>08:22:17</td>     <th>  BIC                </th>  <td>24641.348</td>\n",
       "</tr>\n",
       "<tr>\n",
       "  <th>Sample:</th>           <td>03-10-2004</td>    <th>  HQIC               </th>  <td>24622.598</td>\n",
       "</tr>\n",
       "<tr>\n",
       "  <th></th>                 <td>- 03-20-2005</td>   <th>                     </th>      <td> </td>    \n",
       "</tr>\n",
       "</table>\n",
       "<table class=\"simpletable\">\n",
       "<tr>\n",
       "        <td></td>          <th>coef</th>     <th>std err</th>      <th>z</th>      <th>P>|z|</th>  <th>[0.025</th>    <th>0.975]</th>  \n",
       "</tr>\n",
       "<tr>\n",
       "  <th>const</th>        <td> 1.001e-06</td> <td>    0.004</td> <td>    0.000</td> <td> 1.000</td> <td>   -0.008</td> <td>    0.008</td>\n",
       "</tr>\n",
       "<tr>\n",
       "  <th>ar.L1.CO(GT)</th> <td>    0.1054</td> <td>    0.021</td> <td>    5.079</td> <td> 0.000</td> <td>    0.065</td> <td>    0.146</td>\n",
       "</tr>\n",
       "<tr>\n",
       "  <th>ma.L1.CO(GT)</th> <td>   -0.6172</td> <td>    0.017</td> <td>  -36.449</td> <td> 0.000</td> <td>   -0.650</td> <td>   -0.584</td>\n",
       "</tr>\n",
       "</table>\n",
       "<table class=\"simpletable\">\n",
       "<caption>Roots</caption>\n",
       "<tr>\n",
       "    <td></td>   <th>            Real</th>  <th>         Imaginary</th> <th>         Modulus</th>  <th>        Frequency</th>\n",
       "</tr>\n",
       "<tr>\n",
       "  <th>AR.1</th> <td>           9.4878</td> <td>          +0.0000j</td> <td>           9.4878</td> <td>           0.0000</td>\n",
       "</tr>\n",
       "<tr>\n",
       "  <th>MA.1</th> <td>           1.6203</td> <td>          +0.0000j</td> <td>           1.6203</td> <td>           0.0000</td>\n",
       "</tr>\n",
       "</table>"
      ],
      "text/plain": [
       "<class 'statsmodels.iolib.summary.Summary'>\n",
       "\"\"\"\n",
       "                              ARMA Model Results                              \n",
       "==============================================================================\n",
       "Dep. Variable:                 CO(GT)   No. Observations:                 9000\n",
       "Model:                     ARMA(1, 1)   Log Likelihood              -12302.464\n",
       "Method:                       css-mle   S.D. of innovations              0.949\n",
       "Date:                Fri, 27 Sep 2019   AIC                          24612.928\n",
       "Time:                        08:22:17   BIC                          24641.348\n",
       "Sample:                    03-10-2004   HQIC                         24622.598\n",
       "                         - 03-20-2005                                         \n",
       "================================================================================\n",
       "                   coef    std err          z      P>|z|      [0.025      0.975]\n",
       "--------------------------------------------------------------------------------\n",
       "const         1.001e-06      0.004      0.000      1.000      -0.008       0.008\n",
       "ar.L1.CO(GT)     0.1054      0.021      5.079      0.000       0.065       0.146\n",
       "ma.L1.CO(GT)    -0.6172      0.017    -36.449      0.000      -0.650      -0.584\n",
       "                                    Roots                                    \n",
       "=============================================================================\n",
       "                  Real          Imaginary           Modulus         Frequency\n",
       "-----------------------------------------------------------------------------\n",
       "AR.1            9.4878           +0.0000j            9.4878            0.0000\n",
       "MA.1            1.6203           +0.0000j            1.6203            0.0000\n",
       "-----------------------------------------------------------------------------\n",
       "\"\"\""
      ]
     },
     "execution_count": 42,
     "metadata": {},
     "output_type": "execute_result"
    }
   ],
   "source": [
    "results_AR.summary()"
   ]
  },
  {
   "cell_type": "code",
   "execution_count": 43,
   "metadata": {},
   "outputs": [
    {
     "data": {
      "image/png": "[encoded data removed]",
      "text/plain": [
       "<Figure size 432x288 with 2 Axes>"
      ]
     },
     "metadata": {
      "needs_background": "light"
     },
     "output_type": "display_data"
    }
   ],
   "source": [
    "# Plot residual errors\n",
    "residuals = pd.DataFrame(results_AR.resid)\n",
    "fig, ax = plt.subplots(1,2)\n",
    "residuals.plot(title=\"Residuals\", ax=ax[0])\n",
    "residuals.plot(kind='kde', title='Density', ax=ax[1])\n",
    "plt.show()"
   ]
  },
  {
   "cell_type": "code",
   "execution_count": 48,
   "metadata": {},
   "outputs": [
    {
     "data": {
      "text/plain": [
       "<Figure size 1800x1224 with 0 Axes>"
      ]
     },
     "metadata": {},
     "output_type": "display_data"
    },
    {
     "data": {
      "image/png": "[encoded data removed]",
      "text/plain": [
       "<Figure size 432x288 with 1 Axes>"
      ]
     },
     "metadata": {
      "needs_background": "light"
     },
     "output_type": "display_data"
    }
   ],
   "source": [
    "# Actual vs Fitted\n",
    "plt.figure(figsize=(25,17))\n",
    "results_AR.plot_predict(dynamic=False)\n",
    "plt.show()"
   ]
  },
  {
   "cell_type": "code",
   "execution_count": 50,
   "metadata": {},
   "outputs": [],
   "source": [
    "from statsmodels.tsa.stattools import acf\n",
    "\n",
    "# Create Training and Test\n",
    "train = df_log_diff[:9000]\n",
    "test = df_log_diff[9000:]"
   ]
  },
  {
   "cell_type": "code",
   "execution_count": 78,
   "metadata": {},
   "outputs": [
    {
     "name": "stderr",
     "output_type": "stream",
     "text": [
      "C:\\Users\\Z003Z4FY.AD001\\AppData\\Local\\Continuum\\anaconda3\\lib\\site-packages\\statsmodels\\tsa\\base\\tsa_model.py:171: ValueWarning: No frequency information was provided, so inferred frequency H will be used.\n",
      "  % freq, ValueWarning)\n"
     ]
    }
   ],
   "source": [
    "# Build Model\n",
    "# model = ARIMA(train, order=(3,2,1))  \n",
    "model = ARIMA(train, order=(2, 0, 1))  \n",
    "fitted = model.fit(disp=-1)  "
   ]
  },
  {
   "cell_type": "code",
   "execution_count": 79,
   "metadata": {},
   "outputs": [
    {
     "data": {
      "text/html": [
       "<table class=\"simpletable\">\n",
       "<caption>ARMA Model Results</caption>\n",
       "<tr>\n",
       "  <th>Dep. Variable:</th>      <td>CO(GT)</td>      <th>  No. Observations:  </th>    <td>9000</td>   \n",
       "</tr>\n",
       "<tr>\n",
       "  <th>Model:</th>            <td>ARMA(2, 1)</td>    <th>  Log Likelihood     </th> <td>-12299.036</td>\n",
       "</tr>\n",
       "<tr>\n",
       "  <th>Method:</th>             <td>css-mle</td>     <th>  S.D. of innovations</th>    <td>0.949</td>  \n",
       "</tr>\n",
       "<tr>\n",
       "  <th>Date:</th>          <td>Fri, 27 Sep 2019</td> <th>  AIC                </th>  <td>24608.072</td>\n",
       "</tr>\n",
       "<tr>\n",
       "  <th>Time:</th>              <td>08:42:10</td>     <th>  BIC                </th>  <td>24643.597</td>\n",
       "</tr>\n",
       "<tr>\n",
       "  <th>Sample:</th>           <td>03-10-2004</td>    <th>  HQIC               </th>  <td>24620.161</td>\n",
       "</tr>\n",
       "<tr>\n",
       "  <th></th>                 <td>- 03-20-2005</td>   <th>                     </th>      <td> </td>    \n",
       "</tr>\n",
       "</table>\n",
       "<table class=\"simpletable\">\n",
       "<tr>\n",
       "        <td></td>          <th>coef</th>     <th>std err</th>      <th>z</th>      <th>P>|z|</th>  <th>[0.025</th>    <th>0.975]</th>  \n",
       "</tr>\n",
       "<tr>\n",
       "  <th>const</th>        <td> 2.236e-06</td> <td>    0.004</td> <td>    0.001</td> <td> 1.000</td> <td>   -0.008</td> <td>    0.008</td>\n",
       "</tr>\n",
       "<tr>\n",
       "  <th>ar.L1.CO(GT)</th> <td>    0.1691</td> <td>    0.030</td> <td>    5.561</td> <td> 0.000</td> <td>    0.109</td> <td>    0.229</td>\n",
       "</tr>\n",
       "<tr>\n",
       "  <th>ar.L2.CO(GT)</th> <td>    0.0509</td> <td>    0.019</td> <td>    2.618</td> <td> 0.009</td> <td>    0.013</td> <td>    0.089</td>\n",
       "</tr>\n",
       "<tr>\n",
       "  <th>ma.L1.CO(GT)</th> <td>   -0.6823</td> <td>    0.028</td> <td>  -24.345</td> <td> 0.000</td> <td>   -0.737</td> <td>   -0.627</td>\n",
       "</tr>\n",
       "</table>\n",
       "<table class=\"simpletable\">\n",
       "<caption>Roots</caption>\n",
       "<tr>\n",
       "    <td></td>   <th>            Real</th>  <th>         Imaginary</th> <th>         Modulus</th>  <th>        Frequency</th>\n",
       "</tr>\n",
       "<tr>\n",
       "  <th>AR.1</th> <td>           3.0717</td> <td>          +0.0000j</td> <td>           3.0717</td> <td>           0.0000</td>\n",
       "</tr>\n",
       "<tr>\n",
       "  <th>AR.2</th> <td>          -6.3902</td> <td>          +0.0000j</td> <td>           6.3902</td> <td>           0.5000</td>\n",
       "</tr>\n",
       "<tr>\n",
       "  <th>MA.1</th> <td>           1.4656</td> <td>          +0.0000j</td> <td>           1.4656</td> <td>           0.0000</td>\n",
       "</tr>\n",
       "</table>"
      ],
      "text/plain": [
       "<class 'statsmodels.iolib.summary.Summary'>\n",
       "\"\"\"\n",
       "                              ARMA Model Results                              \n",
       "==============================================================================\n",
       "Dep. Variable:                 CO(GT)   No. Observations:                 9000\n",
       "Model:                     ARMA(2, 1)   Log Likelihood              -12299.036\n",
       "Method:                       css-mle   S.D. of innovations              0.949\n",
       "Date:                Fri, 27 Sep 2019   AIC                          24608.072\n",
       "Time:                        08:42:10   BIC                          24643.597\n",
       "Sample:                    03-10-2004   HQIC                         24620.161\n",
       "                         - 03-20-2005                                         \n",
       "================================================================================\n",
       "                   coef    std err          z      P>|z|      [0.025      0.975]\n",
       "--------------------------------------------------------------------------------\n",
       "const         2.236e-06      0.004      0.001      1.000      -0.008       0.008\n",
       "ar.L1.CO(GT)     0.1691      0.030      5.561      0.000       0.109       0.229\n",
       "ar.L2.CO(GT)     0.0509      0.019      2.618      0.009       0.013       0.089\n",
       "ma.L1.CO(GT)    -0.6823      0.028    -24.345      0.000      -0.737      -0.627\n",
       "                                    Roots                                    \n",
       "=============================================================================\n",
       "                  Real          Imaginary           Modulus         Frequency\n",
       "-----------------------------------------------------------------------------\n",
       "AR.1            3.0717           +0.0000j            3.0717            0.0000\n",
       "AR.2           -6.3902           +0.0000j            6.3902            0.5000\n",
       "MA.1            1.4656           +0.0000j            1.4656            0.0000\n",
       "-----------------------------------------------------------------------------\n",
       "\"\"\""
      ]
     },
     "execution_count": 79,
     "metadata": {},
     "output_type": "execute_result"
    }
   ],
   "source": [
    "fitted.summary()"
   ]
  },
  {
   "cell_type": "code",
   "execution_count": 80,
   "metadata": {},
   "outputs": [
    {
     "data": {
      "text/plain": [
       "array([-6.29067696e-03, -9.86325827e-04, -4.85489037e-04, -1.30583374e-04,\n",
       "       -4.50663366e-05, -1.25276889e-05, -2.66988123e-06,  6.54411788e-07,\n",
       "        1.71863941e-06,  2.06791923e-06,  2.18118731e-06,  2.21813105e-06,\n",
       "        2.23014739e-06,  2.23406103e-06,  2.23533486e-06,  2.23574960e-06,\n",
       "        2.23588461e-06,  2.23592857e-06,  2.23594288e-06,  2.23594754e-06,\n",
       "        2.23594905e-06,  2.23594955e-06,  2.23594971e-06,  2.23594976e-06,\n",
       "        2.23594978e-06,  2.23594978e-06,  2.23594978e-06,  2.23594978e-06,\n",
       "        2.23594978e-06,  2.23594978e-06,  2.23594978e-06,  2.23594978e-06,\n",
       "        2.23594978e-06,  2.23594978e-06,  2.23594978e-06,  2.23594978e-06,\n",
       "        2.23594978e-06,  2.23594978e-06,  2.23594978e-06,  2.23594978e-06,\n",
       "        2.23594978e-06,  2.23594978e-06,  2.23594978e-06,  2.23594978e-06,\n",
       "        2.23594978e-06,  2.23594978e-06,  2.23594978e-06,  2.23594978e-06,\n",
       "        2.23594978e-06,  2.23594978e-06,  2.23594978e-06,  2.23594978e-06,\n",
       "        2.23594978e-06,  2.23594978e-06,  2.23594978e-06,  2.23594978e-06,\n",
       "        2.23594978e-06,  2.23594978e-06,  2.23594978e-06,  2.23594978e-06,\n",
       "        2.23594978e-06,  2.23594978e-06,  2.23594978e-06,  2.23594978e-06,\n",
       "        2.23594978e-06,  2.23594978e-06,  2.23594978e-06,  2.23594978e-06,\n",
       "        2.23594978e-06,  2.23594978e-06,  2.23594978e-06,  2.23594978e-06,\n",
       "        2.23594978e-06,  2.23594978e-06,  2.23594978e-06,  2.23594978e-06,\n",
       "        2.23594978e-06,  2.23594978e-06,  2.23594978e-06,  2.23594978e-06,\n",
       "        2.23594978e-06,  2.23594978e-06,  2.23594978e-06,  2.23594978e-06,\n",
       "        2.23594978e-06,  2.23594978e-06,  2.23594978e-06,  2.23594978e-06,\n",
       "        2.23594978e-06,  2.23594978e-06,  2.23594978e-06,  2.23594978e-06,\n",
       "        2.23594978e-06,  2.23594978e-06,  2.23594978e-06,  2.23594978e-06,\n",
       "        2.23594978e-06,  2.23594978e-06,  2.23594978e-06,  2.23594978e-06,\n",
       "        2.23594978e-06,  2.23594978e-06,  2.23594978e-06,  2.23594978e-06,\n",
       "        2.23594978e-06,  2.23594978e-06,  2.23594978e-06,  2.23594978e-06,\n",
       "        2.23594978e-06,  2.23594978e-06,  2.23594978e-06,  2.23594978e-06,\n",
       "        2.23594978e-06,  2.23594978e-06,  2.23594978e-06,  2.23594978e-06,\n",
       "        2.23594978e-06,  2.23594978e-06,  2.23594978e-06,  2.23594978e-06,\n",
       "        2.23594978e-06,  2.23594978e-06,  2.23594978e-06,  2.23594978e-06,\n",
       "        2.23594978e-06,  2.23594978e-06,  2.23594978e-06,  2.23594978e-06,\n",
       "        2.23594978e-06,  2.23594978e-06,  2.23594978e-06,  2.23594978e-06,\n",
       "        2.23594978e-06,  2.23594978e-06,  2.23594978e-06,  2.23594978e-06,\n",
       "        2.23594978e-06,  2.23594978e-06,  2.23594978e-06,  2.23594978e-06,\n",
       "        2.23594978e-06,  2.23594978e-06,  2.23594978e-06,  2.23594978e-06,\n",
       "        2.23594978e-06,  2.23594978e-06,  2.23594978e-06,  2.23594978e-06,\n",
       "        2.23594978e-06,  2.23594978e-06,  2.23594978e-06,  2.23594978e-06,\n",
       "        2.23594978e-06,  2.23594978e-06,  2.23594978e-06,  2.23594978e-06,\n",
       "        2.23594978e-06,  2.23594978e-06,  2.23594978e-06,  2.23594978e-06,\n",
       "        2.23594978e-06,  2.23594978e-06,  2.23594978e-06,  2.23594978e-06,\n",
       "        2.23594978e-06,  2.23594978e-06,  2.23594978e-06,  2.23594978e-06,\n",
       "        2.23594978e-06,  2.23594978e-06,  2.23594978e-06,  2.23594978e-06,\n",
       "        2.23594978e-06,  2.23594978e-06,  2.23594978e-06,  2.23594978e-06,\n",
       "        2.23594978e-06,  2.23594978e-06,  2.23594978e-06,  2.23594978e-06,\n",
       "        2.23594978e-06,  2.23594978e-06,  2.23594978e-06,  2.23594978e-06,\n",
       "        2.23594978e-06,  2.23594978e-06,  2.23594978e-06,  2.23594978e-06,\n",
       "        2.23594978e-06,  2.23594978e-06,  2.23594978e-06,  2.23594978e-06,\n",
       "        2.23594978e-06,  2.23594978e-06,  2.23594978e-06,  2.23594978e-06,\n",
       "        2.23594978e-06,  2.23594978e-06,  2.23594978e-06,  2.23594978e-06,\n",
       "        2.23594978e-06,  2.23594978e-06,  2.23594978e-06,  2.23594978e-06,\n",
       "        2.23594978e-06,  2.23594978e-06,  2.23594978e-06,  2.23594978e-06,\n",
       "        2.23594978e-06,  2.23594978e-06,  2.23594978e-06,  2.23594978e-06,\n",
       "        2.23594978e-06,  2.23594978e-06,  2.23594978e-06,  2.23594978e-06,\n",
       "        2.23594978e-06,  2.23594978e-06,  2.23594978e-06,  2.23594978e-06,\n",
       "        2.23594978e-06,  2.23594978e-06,  2.23594978e-06,  2.23594978e-06,\n",
       "        2.23594978e-06,  2.23594978e-06,  2.23594978e-06,  2.23594978e-06,\n",
       "        2.23594978e-06,  2.23594978e-06,  2.23594978e-06,  2.23594978e-06,\n",
       "        2.23594978e-06,  2.23594978e-06,  2.23594978e-06,  2.23594978e-06,\n",
       "        2.23594978e-06,  2.23594978e-06,  2.23594978e-06,  2.23594978e-06,\n",
       "        2.23594978e-06,  2.23594978e-06,  2.23594978e-06,  2.23594978e-06,\n",
       "        2.23594978e-06,  2.23594978e-06,  2.23594978e-06,  2.23594978e-06,\n",
       "        2.23594978e-06,  2.23594978e-06,  2.23594978e-06,  2.23594978e-06,\n",
       "        2.23594978e-06,  2.23594978e-06,  2.23594978e-06,  2.23594978e-06,\n",
       "        2.23594978e-06,  2.23594978e-06,  2.23594978e-06,  2.23594978e-06,\n",
       "        2.23594978e-06,  2.23594978e-06,  2.23594978e-06,  2.23594978e-06,\n",
       "        2.23594978e-06,  2.23594978e-06,  2.23594978e-06,  2.23594978e-06,\n",
       "        2.23594978e-06,  2.23594978e-06,  2.23594978e-06,  2.23594978e-06,\n",
       "        2.23594978e-06,  2.23594978e-06,  2.23594978e-06,  2.23594978e-06,\n",
       "        2.23594978e-06,  2.23594978e-06,  2.23594978e-06,  2.23594978e-06,\n",
       "        2.23594978e-06,  2.23594978e-06,  2.23594978e-06,  2.23594978e-06,\n",
       "        2.23594978e-06,  2.23594978e-06,  2.23594978e-06,  2.23594978e-06,\n",
       "        2.23594978e-06,  2.23594978e-06,  2.23594978e-06,  2.23594978e-06,\n",
       "        2.23594978e-06,  2.23594978e-06,  2.23594978e-06,  2.23594978e-06,\n",
       "        2.23594978e-06,  2.23594978e-06,  2.23594978e-06,  2.23594978e-06,\n",
       "        2.23594978e-06,  2.23594978e-06,  2.23594978e-06,  2.23594978e-06,\n",
       "        2.23594978e-06,  2.23594978e-06,  2.23594978e-06,  2.23594978e-06,\n",
       "        2.23594978e-06,  2.23594978e-06,  2.23594978e-06,  2.23594978e-06,\n",
       "        2.23594978e-06,  2.23594978e-06,  2.23594978e-06,  2.23594978e-06,\n",
       "        2.23594978e-06,  2.23594978e-06,  2.23594978e-06,  2.23594978e-06,\n",
       "        2.23594978e-06,  2.23594978e-06,  2.23594978e-06,  2.23594978e-06,\n",
       "        2.23594978e-06,  2.23594978e-06,  2.23594978e-06,  2.23594978e-06,\n",
       "        2.23594978e-06,  2.23594978e-06,  2.23594978e-06,  2.23594978e-06,\n",
       "        2.23594978e-06,  2.23594978e-06,  2.23594978e-06,  2.23594978e-06,\n",
       "        2.23594978e-06,  2.23594978e-06,  2.23594978e-06,  2.23594978e-06,\n",
       "        2.23594978e-06,  2.23594978e-06,  2.23594978e-06,  2.23594978e-06,\n",
       "        2.23594978e-06,  2.23594978e-06,  2.23594978e-06,  2.23594978e-06,\n",
       "        2.23594978e-06,  2.23594978e-06,  2.23594978e-06,  2.23594978e-06,\n",
       "        2.23594978e-06,  2.23594978e-06,  2.23594978e-06,  2.23594978e-06])"
      ]
     },
     "execution_count": 80,
     "metadata": {},
     "output_type": "execute_result"
    }
   ],
   "source": [
    "# Forecast\n",
    "fc, se, conf = fitted.forecast(356, alpha=0.05)  # 95% conf\n",
    "fc"
   ]
  },
  {
   "cell_type": "code",
   "execution_count": 81,
   "metadata": {},
   "outputs": [
    {
     "data": {
      "text/html": [
       "<div>\n",
       "<style scoped>\n",
       "    .dataframe tbody tr th:only-of-type {\n",
       "        vertical-align: middle;\n",
       "    }\n",
       "\n",
       "    .dataframe tbody tr th {\n",
       "        vertical-align: top;\n",
       "    }\n",
       "\n",
       "    .dataframe thead th {\n",
       "        text-align: right;\n",
       "    }\n",
       "</style>\n",
       "<table border=\"1\" class=\"dataframe\">\n",
       "  <thead>\n",
       "    <tr style=\"text-align: right;\">\n",
       "      <th></th>\n",
       "      <th>CO(GT)</th>\n",
       "    </tr>\n",
       "    <tr>\n",
       "      <th>Date_Time</th>\n",
       "      <th></th>\n",
       "    </tr>\n",
       "  </thead>\n",
       "  <tbody>\n",
       "    <tr>\n",
       "      <th>2005-03-20 19:00:00</th>\n",
       "      <td>0.005903</td>\n",
       "    </tr>\n",
       "    <tr>\n",
       "      <th>2005-03-20 20:00:00</th>\n",
       "      <td>0.005380</td>\n",
       "    </tr>\n",
       "    <tr>\n",
       "      <th>2005-03-20 21:00:00</th>\n",
       "      <td>0.000000</td>\n",
       "    </tr>\n",
       "    <tr>\n",
       "      <th>2005-03-20 22:00:00</th>\n",
       "      <td>-0.010297</td>\n",
       "    </tr>\n",
       "    <tr>\n",
       "      <th>2005-03-20 23:00:00</th>\n",
       "      <td>-0.001973</td>\n",
       "    </tr>\n",
       "    <tr>\n",
       "      <th>2005-03-21 00:00:00</th>\n",
       "      <td>0.000000</td>\n",
       "    </tr>\n",
       "    <tr>\n",
       "      <th>2005-03-21 01:00:00</th>\n",
       "      <td>0.000494</td>\n",
       "    </tr>\n",
       "    <tr>\n",
       "      <th>2005-03-21 02:00:00</th>\n",
       "      <td>-0.002471</td>\n",
       "    </tr>\n",
       "    <tr>\n",
       "      <th>2005-03-21 03:00:00</th>\n",
       "      <td>-0.001486</td>\n",
       "    </tr>\n",
       "    <tr>\n",
       "      <th>2005-03-21 04:00:00</th>\n",
       "      <td>-0.000496</td>\n",
       "    </tr>\n",
       "    <tr>\n",
       "      <th>2005-03-21 05:00:00</th>\n",
       "      <td>-0.000496</td>\n",
       "    </tr>\n",
       "    <tr>\n",
       "      <th>2005-03-21 06:00:00</th>\n",
       "      <td>0.000496</td>\n",
       "    </tr>\n",
       "    <tr>\n",
       "      <th>2005-03-21 07:00:00</th>\n",
       "      <td>0.002970</td>\n",
       "    </tr>\n",
       "    <tr>\n",
       "      <th>2005-03-21 08:00:00</th>\n",
       "      <td>0.009348</td>\n",
       "    </tr>\n",
       "    <tr>\n",
       "      <th>2005-03-21 09:00:00</th>\n",
       "      <td>0.014102</td>\n",
       "    </tr>\n",
       "    <tr>\n",
       "      <th>2005-03-21 10:00:00</th>\n",
       "      <td>-0.008729</td>\n",
       "    </tr>\n",
       "    <tr>\n",
       "      <th>2005-03-21 11:00:00</th>\n",
       "      <td>-0.008315</td>\n",
       "    </tr>\n",
       "    <tr>\n",
       "      <th>2005-03-21 12:00:00</th>\n",
       "      <td>-0.002951</td>\n",
       "    </tr>\n",
       "    <tr>\n",
       "      <th>2005-03-21 13:00:00</th>\n",
       "      <td>-0.000986</td>\n",
       "    </tr>\n",
       "    <tr>\n",
       "      <th>2005-03-21 14:00:00</th>\n",
       "      <td>0.001478</td>\n",
       "    </tr>\n",
       "    <tr>\n",
       "      <th>2005-03-21 15:00:00</th>\n",
       "      <td>0.000000</td>\n",
       "    </tr>\n",
       "    <tr>\n",
       "      <th>2005-03-21 16:00:00</th>\n",
       "      <td>-0.000492</td>\n",
       "    </tr>\n",
       "    <tr>\n",
       "      <th>2005-03-21 17:00:00</th>\n",
       "      <td>0.002951</td>\n",
       "    </tr>\n",
       "    <tr>\n",
       "      <th>2005-03-21 18:00:00</th>\n",
       "      <td>0.009289</td>\n",
       "    </tr>\n",
       "    <tr>\n",
       "      <th>2005-03-21 19:00:00</th>\n",
       "      <td>0.009203</td>\n",
       "    </tr>\n",
       "    <tr>\n",
       "      <th>2005-03-21 20:00:00</th>\n",
       "      <td>-0.001931</td>\n",
       "    </tr>\n",
       "    <tr>\n",
       "      <th>2005-03-21 21:00:00</th>\n",
       "      <td>-0.010685</td>\n",
       "    </tr>\n",
       "    <tr>\n",
       "      <th>2005-03-21 22:00:00</th>\n",
       "      <td>-0.008335</td>\n",
       "    </tr>\n",
       "    <tr>\n",
       "      <th>2005-03-21 23:00:00</th>\n",
       "      <td>-0.004441</td>\n",
       "    </tr>\n",
       "    <tr>\n",
       "      <th>2005-03-22 00:00:00</th>\n",
       "      <td>0.000494</td>\n",
       "    </tr>\n",
       "    <tr>\n",
       "      <th>...</th>\n",
       "      <td>...</td>\n",
       "    </tr>\n",
       "    <tr>\n",
       "      <th>2005-04-03 09:00:00</th>\n",
       "      <td>0.002476</td>\n",
       "    </tr>\n",
       "    <tr>\n",
       "      <th>2005-04-03 10:00:00</th>\n",
       "      <td>0.000989</td>\n",
       "    </tr>\n",
       "    <tr>\n",
       "      <th>2005-04-03 11:00:00</th>\n",
       "      <td>-0.000494</td>\n",
       "    </tr>\n",
       "    <tr>\n",
       "      <th>2005-04-03 12:00:00</th>\n",
       "      <td>0.000494</td>\n",
       "    </tr>\n",
       "    <tr>\n",
       "      <th>2005-04-03 13:00:00</th>\n",
       "      <td>-0.001978</td>\n",
       "    </tr>\n",
       "    <tr>\n",
       "      <th>2005-04-03 14:00:00</th>\n",
       "      <td>0.000000</td>\n",
       "    </tr>\n",
       "    <tr>\n",
       "      <th>2005-04-03 15:00:00</th>\n",
       "      <td>0.000495</td>\n",
       "    </tr>\n",
       "    <tr>\n",
       "      <th>2005-04-03 16:00:00</th>\n",
       "      <td>0.000989</td>\n",
       "    </tr>\n",
       "    <tr>\n",
       "      <th>2005-04-03 17:00:00</th>\n",
       "      <td>0.000494</td>\n",
       "    </tr>\n",
       "    <tr>\n",
       "      <th>2005-04-03 18:00:00</th>\n",
       "      <td>-0.000989</td>\n",
       "    </tr>\n",
       "    <tr>\n",
       "      <th>2005-04-03 19:00:00</th>\n",
       "      <td>0.007391</td>\n",
       "    </tr>\n",
       "    <tr>\n",
       "      <th>2005-04-03 20:00:00</th>\n",
       "      <td>-0.000982</td>\n",
       "    </tr>\n",
       "    <tr>\n",
       "      <th>2005-04-03 21:00:00</th>\n",
       "      <td>-0.004926</td>\n",
       "    </tr>\n",
       "    <tr>\n",
       "      <th>2005-04-03 22:00:00</th>\n",
       "      <td>0.000494</td>\n",
       "    </tr>\n",
       "    <tr>\n",
       "      <th>2005-04-03 23:00:00</th>\n",
       "      <td>-0.001976</td>\n",
       "    </tr>\n",
       "    <tr>\n",
       "      <th>2005-04-04 00:00:00</th>\n",
       "      <td>-0.001485</td>\n",
       "    </tr>\n",
       "    <tr>\n",
       "      <th>2005-04-04 01:00:00</th>\n",
       "      <td>-0.001487</td>\n",
       "    </tr>\n",
       "    <tr>\n",
       "      <th>2005-04-04 02:00:00</th>\n",
       "      <td>-0.000496</td>\n",
       "    </tr>\n",
       "    <tr>\n",
       "      <th>2005-04-04 03:00:00</th>\n",
       "      <td>-0.000496</td>\n",
       "    </tr>\n",
       "    <tr>\n",
       "      <th>2005-04-04 04:00:00</th>\n",
       "      <td>-5.305293</td>\n",
       "    </tr>\n",
       "    <tr>\n",
       "      <th>2005-04-04 05:00:00</th>\n",
       "      <td>5.305789</td>\n",
       "    </tr>\n",
       "    <tr>\n",
       "      <th>2005-04-04 06:00:00</th>\n",
       "      <td>0.002973</td>\n",
       "    </tr>\n",
       "    <tr>\n",
       "      <th>2005-04-04 07:00:00</th>\n",
       "      <td>0.014247</td>\n",
       "    </tr>\n",
       "    <tr>\n",
       "      <th>2005-04-04 08:00:00</th>\n",
       "      <td>0.004866</td>\n",
       "    </tr>\n",
       "    <tr>\n",
       "      <th>2005-04-04 09:00:00</th>\n",
       "      <td>-0.005354</td>\n",
       "    </tr>\n",
       "    <tr>\n",
       "      <th>2005-04-04 10:00:00</th>\n",
       "      <td>-0.003912</td>\n",
       "    </tr>\n",
       "    <tr>\n",
       "      <th>2005-04-04 11:00:00</th>\n",
       "      <td>-0.003436</td>\n",
       "    </tr>\n",
       "    <tr>\n",
       "      <th>2005-04-04 12:00:00</th>\n",
       "      <td>0.000000</td>\n",
       "    </tr>\n",
       "    <tr>\n",
       "      <th>2005-04-04 13:00:00</th>\n",
       "      <td>-0.001476</td>\n",
       "    </tr>\n",
       "    <tr>\n",
       "      <th>2005-04-04 14:00:00</th>\n",
       "      <td>0.000492</td>\n",
       "    </tr>\n",
       "  </tbody>\n",
       "</table>\n",
       "<p>356 rows × 1 columns</p>\n",
       "</div>"
      ],
      "text/plain": [
       "                       CO(GT)\n",
       "Date_Time                    \n",
       "2005-03-20 19:00:00  0.005903\n",
       "2005-03-20 20:00:00  0.005380\n",
       "2005-03-20 21:00:00  0.000000\n",
       "2005-03-20 22:00:00 -0.010297\n",
       "2005-03-20 23:00:00 -0.001973\n",
       "2005-03-21 00:00:00  0.000000\n",
       "2005-03-21 01:00:00  0.000494\n",
       "2005-03-21 02:00:00 -0.002471\n",
       "2005-03-21 03:00:00 -0.001486\n",
       "2005-03-21 04:00:00 -0.000496\n",
       "2005-03-21 05:00:00 -0.000496\n",
       "2005-03-21 06:00:00  0.000496\n",
       "2005-03-21 07:00:00  0.002970\n",
       "2005-03-21 08:00:00  0.009348\n",
       "2005-03-21 09:00:00  0.014102\n",
       "2005-03-21 10:00:00 -0.008729\n",
       "2005-03-21 11:00:00 -0.008315\n",
       "2005-03-21 12:00:00 -0.002951\n",
       "2005-03-21 13:00:00 -0.000986\n",
       "2005-03-21 14:00:00  0.001478\n",
       "2005-03-21 15:00:00  0.000000\n",
       "2005-03-21 16:00:00 -0.000492\n",
       "2005-03-21 17:00:00  0.002951\n",
       "2005-03-21 18:00:00  0.009289\n",
       "2005-03-21 19:00:00  0.009203\n",
       "2005-03-21 20:00:00 -0.001931\n",
       "2005-03-21 21:00:00 -0.010685\n",
       "2005-03-21 22:00:00 -0.008335\n",
       "2005-03-21 23:00:00 -0.004441\n",
       "2005-03-22 00:00:00  0.000494\n",
       "...                       ...\n",
       "2005-04-03 09:00:00  0.002476\n",
       "2005-04-03 10:00:00  0.000989\n",
       "2005-04-03 11:00:00 -0.000494\n",
       "2005-04-03 12:00:00  0.000494\n",
       "2005-04-03 13:00:00 -0.001978\n",
       "2005-04-03 14:00:00  0.000000\n",
       "2005-04-03 15:00:00  0.000495\n",
       "2005-04-03 16:00:00  0.000989\n",
       "2005-04-03 17:00:00  0.000494\n",
       "2005-04-03 18:00:00 -0.000989\n",
       "2005-04-03 19:00:00  0.007391\n",
       "2005-04-03 20:00:00 -0.000982\n",
       "2005-04-03 21:00:00 -0.004926\n",
       "2005-04-03 22:00:00  0.000494\n",
       "2005-04-03 23:00:00 -0.001976\n",
       "2005-04-04 00:00:00 -0.001485\n",
       "2005-04-04 01:00:00 -0.001487\n",
       "2005-04-04 02:00:00 -0.000496\n",
       "2005-04-04 03:00:00 -0.000496\n",
       "2005-04-04 04:00:00 -5.305293\n",
       "2005-04-04 05:00:00  5.305789\n",
       "2005-04-04 06:00:00  0.002973\n",
       "2005-04-04 07:00:00  0.014247\n",
       "2005-04-04 08:00:00  0.004866\n",
       "2005-04-04 09:00:00 -0.005354\n",
       "2005-04-04 10:00:00 -0.003912\n",
       "2005-04-04 11:00:00 -0.003436\n",
       "2005-04-04 12:00:00  0.000000\n",
       "2005-04-04 13:00:00 -0.001476\n",
       "2005-04-04 14:00:00  0.000492\n",
       "\n",
       "[356 rows x 1 columns]"
      ]
     },
     "execution_count": 81,
     "metadata": {},
     "output_type": "execute_result"
    }
   ],
   "source": [
    "test"
   ]
  },
  {
   "cell_type": "code",
   "execution_count": 73,
   "metadata": {},
   "outputs": [],
   "source": [
    "# Make as pandas series\n",
    "fc_series = pd.Series(fc, index=test.index)\n",
    "lower_series = pd.Series(conf[:, 0], index=test.index)\n",
    "upper_series = pd.Series(conf[:, 1], index=test.index)"
   ]
  },
  {
   "cell_type": "code",
   "execution_count": 82,
   "metadata": {},
   "outputs": [
    {
     "data": {
      "image/png": "[encoded data removed]",
      "text/plain": [
       "<Figure size 1200x500 with 1 Axes>"
      ]
     },
     "metadata": {
      "needs_background": "light"
     },
     "output_type": "display_data"
    }
   ],
   "source": [
    "# Plot\n",
    "plt.figure(figsize=(12,5), dpi=100)\n",
    "plt.plot(train[8500:], label='training')\n",
    "plt.plot(test, label='actual')\n",
    "plt.plot(fc_series, label='forecast')\n",
    "plt.fill_between(lower_series.index, lower_series, upper_series, \n",
    "                 color='k', alpha=.15)\n",
    "plt.title('Forecast vs Actuals')\n",
    "plt.legend(loc='upper left', fontsize=8)\n",
    "plt.show()"
   ]
  },
  {
   "cell_type": "code",
   "execution_count": null,
   "metadata": {},
   "outputs": [],
   "source": []
  }
 ],
 "metadata": {
  "kernelspec": {
   "display_name": "Python 3",
   "language": "python",
   "name": "python3"
  },
  "language_info": {
   "codemirror_mode": {
    "name": "ipython",
    "version": 3
   },
   "file_extension": ".py",
   "mimetype": "text/x-python",
   "name": "python",
   "nbconvert_exporter": "python",
   "pygments_lexer": "ipython3",
   "version": "3.7.1"
  }
 },
 "nbformat": 4,
 "nbformat_minor": 2
}
